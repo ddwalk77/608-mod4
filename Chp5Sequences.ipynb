{
 "cells": [
  {
   "cell_type": "markdown",
   "id": "059a3f16-ad34-454e-93ee-2954aa02cd00",
   "metadata": {},
   "source": [
    "### Chapter 5 Practice - by DeeDee Walker"
   ]
  },
  {
   "cell_type": "markdown",
   "id": "95804666-0da2-49dd-8d53-824167922b60",
   "metadata": {},
   "source": [
    "#### 5.5 Sequence Slicing - Practice by DeeDee Walker"
   ]
  },
  {
   "cell_type": "markdown",
   "id": "06af808c-000d-4ac4-9857-ce1ed9ea74dd",
   "metadata": {},
   "source": [
    "You can slice sequences to create new sequences of the same type containing subsets of the original elements"
   ]
  },
  {
   "cell_type": "markdown",
   "id": "b96cf2a4-64c7-452a-93b2-3049810231eb",
   "metadata": {},
   "source": [
    "Slice operations can modify mutable sequences - those that do not modify a sequence work identically for lists, tuples, and strings"
   ]
  },
  {
   "cell_type": "code",
   "execution_count": 1,
   "id": "108d229b-2fa6-413b-b706-f090af883f70",
   "metadata": {},
   "outputs": [],
   "source": [
    "numbers = [2,3,5,7,11,13,17,19]"
   ]
  },
  {
   "cell_type": "code",
   "execution_count": 2,
   "id": "b1916167-9ac2-448b-9b51-e97a0fd4050d",
   "metadata": {},
   "outputs": [
    {
     "data": {
      "text/plain": [
       "[5, 7, 11, 13]"
      ]
     },
     "execution_count": 2,
     "metadata": {},
     "output_type": "execute_result"
    }
   ],
   "source": [
    "numbers[2:6] #Note - the ending index outputs up to but not including that index (like range)"
   ]
  },
  {
   "cell_type": "code",
   "execution_count": 3,
   "id": "353da760-452d-46c2-a7e6-ddf4b311b627",
   "metadata": {},
   "outputs": [
    {
     "data": {
      "text/plain": [
       "[2, 3, 5, 7, 11, 13]"
      ]
     },
     "execution_count": 3,
     "metadata": {},
     "output_type": "execute_result"
    }
   ],
   "source": [
    "numbers[:6] # Note - if the starting index is not defined, 0 is assumed"
   ]
  },
  {
   "cell_type": "code",
   "execution_count": 4,
   "id": "82755b8b-7976-4be4-8d5a-6f9511cf6851",
   "metadata": {},
   "outputs": [
    {
     "data": {
      "text/plain": [
       "[2, 3, 5, 7, 11, 13]"
      ]
     },
     "execution_count": 4,
     "metadata": {},
     "output_type": "execute_result"
    }
   ],
   "source": [
    "numbers[0:6] "
   ]
  },
  {
   "cell_type": "code",
   "execution_count": 5,
   "id": "86a65bad-0070-4199-a693-6c5a4e8d6d80",
   "metadata": {},
   "outputs": [
    {
     "data": {
      "text/plain": [
       "[17, 19]"
      ]
     },
     "execution_count": 5,
     "metadata": {},
     "output_type": "execute_result"
    }
   ],
   "source": [
    "numbers[6:] #Note - if the ending index is omitted, the sequence length is assumed"
   ]
  },
  {
   "cell_type": "code",
   "execution_count": 6,
   "id": "2be9eb8a-2117-4f97-85f4-2cd630466f2e",
   "metadata": {},
   "outputs": [
    {
     "data": {
      "text/plain": [
       "[17, 19]"
      ]
     },
     "execution_count": 6,
     "metadata": {},
     "output_type": "execute_result"
    }
   ],
   "source": [
    "numbers[6:len(numbers)]"
   ]
  },
  {
   "cell_type": "code",
   "execution_count": 7,
   "id": "934eabb0-71c0-4cf7-bcac-d641452e87b7",
   "metadata": {},
   "outputs": [
    {
     "data": {
      "text/plain": [
       "[2, 3, 5, 7, 11, 13, 17, 19]"
      ]
     },
     "execution_count": 7,
     "metadata": {},
     "output_type": "execute_result"
    }
   ],
   "source": [
    "numbers[:] # Note - Omitting the start & end indices copies the entire sequence"
   ]
  },
  {
   "cell_type": "markdown",
   "id": "fda394b8-53e2-444a-b2ad-9be9b0381d84",
   "metadata": {},
   "source": [
    "Slices create new objects but they are shallow copies of the elements (they copy the elements' references but not the objects themselves)"
   ]
  },
  {
   "cell_type": "code",
   "execution_count": 8,
   "id": "07fcbea4-9014-44a7-a32e-0260f5684913",
   "metadata": {},
   "outputs": [
    {
     "data": {
      "text/plain": [
       "[2, 5, 11, 17]"
      ]
     },
     "execution_count": 8,
     "metadata": {},
     "output_type": "execute_result"
    }
   ],
   "source": [
    "numbers[::2] #Uses a step of 2 to create a slice with every other element of numbers"
   ]
  },
  {
   "cell_type": "code",
   "execution_count": 9,
   "id": "a726abd2-0589-4b80-889b-5164e0ebc60d",
   "metadata": {},
   "outputs": [
    {
     "data": {
      "text/plain": [
       "[19, 17, 13, 11, 7, 5, 3, 2]"
      ]
     },
     "execution_count": 9,
     "metadata": {},
     "output_type": "execute_result"
    }
   ],
   "source": [
    "numbers[::-1] #negative step reverses the order"
   ]
  },
  {
   "cell_type": "code",
   "execution_count": 10,
   "id": "9b9c0c00-9ee0-4e4f-bf1f-f3c40cd4c5e3",
   "metadata": {},
   "outputs": [
    {
     "data": {
      "text/plain": [
       "[19, 17, 13, 11, 7, 5, 3, 2]"
      ]
     },
     "execution_count": 10,
     "metadata": {},
     "output_type": "execute_result"
    }
   ],
   "source": [
    "numbers[-1:-9:-1] #same as the neg step code above"
   ]
  },
  {
   "cell_type": "markdown",
   "id": "2d3db48c-8203-4795-90a6-8e1ed939f35a",
   "metadata": {},
   "source": [
    "You can modify a list by assigning a slice to it"
   ]
  },
  {
   "cell_type": "markdown",
   "id": "ba8956d7-64fe-49b4-9eb0-b7e13a79bba0",
   "metadata": {},
   "source": [
    ".....continue notes & practice by DeeDee Walker"
   ]
  },
  {
   "cell_type": "code",
   "execution_count": 11,
   "id": "df62c305-0ef6-465b-bcc5-9e1efa43a143",
   "metadata": {},
   "outputs": [],
   "source": [
    "numbers[0:3] = ['two', 'three', 'five']"
   ]
  },
  {
   "cell_type": "code",
   "execution_count": 12,
   "id": "2b8ef37d-7422-45da-9443-d9c5babd37c9",
   "metadata": {},
   "outputs": [
    {
     "data": {
      "text/plain": [
       "['two', 'three', 'five', 7, 11, 13, 17, 19]"
      ]
     },
     "execution_count": 12,
     "metadata": {},
     "output_type": "execute_result"
    }
   ],
   "source": [
    "numbers"
   ]
  },
  {
   "cell_type": "code",
   "execution_count": 13,
   "id": "52569daa-5df6-4ea4-8201-8d8e6c6b6c0e",
   "metadata": {},
   "outputs": [],
   "source": [
    "numbers[0:3] = [] #deletes only the first three elements of numbers by assigning an empty list to the three element slice"
   ]
  },
  {
   "cell_type": "code",
   "execution_count": 25,
   "id": "bc88374a-0eab-4df8-b8aa-7c08be5871d3",
   "metadata": {},
   "outputs": [
    {
     "data": {
      "text/plain": [
       "[]"
      ]
     },
     "execution_count": 25,
     "metadata": {},
     "output_type": "execute_result"
    }
   ],
   "source": [
    "numbers"
   ]
  },
  {
   "cell_type": "code",
   "execution_count": 26,
   "id": "94984bcb-426d-4c65-8577-438c88cf01bb",
   "metadata": {},
   "outputs": [],
   "source": [
    "numbers = [2,3,5,7,11,13,17,19]"
   ]
  },
  {
   "cell_type": "code",
   "execution_count": 27,
   "id": "937fa10e-82ca-40f4-90c2-81c0ed422e12",
   "metadata": {},
   "outputs": [],
   "source": [
    "numbers[::2] = [100,100,100,100]#assigns a list's elements to a slice of every other element of numbers"
   ]
  },
  {
   "cell_type": "code",
   "execution_count": 28,
   "id": "8e423237-fad0-4541-a751-2b7bc3cf45d5",
   "metadata": {},
   "outputs": [
    {
     "data": {
      "text/plain": [
       "[100, 3, 100, 7, 100, 13, 100, 19]"
      ]
     },
     "execution_count": 28,
     "metadata": {},
     "output_type": "execute_result"
    }
   ],
   "source": [
    "numbers"
   ]
  },
  {
   "cell_type": "code",
   "execution_count": 29,
   "id": "848662c0-1f7c-4bf2-b185-15dc859fbe15",
   "metadata": {},
   "outputs": [
    {
     "data": {
      "text/plain": [
       "1931276956288"
      ]
     },
     "execution_count": 29,
     "metadata": {},
     "output_type": "execute_result"
    }
   ],
   "source": [
    "id(numbers)"
   ]
  },
  {
   "cell_type": "code",
   "execution_count": 30,
   "id": "84d7ed7f-4136-4987-9281-7e10cb24a791",
   "metadata": {},
   "outputs": [],
   "source": [
    "numbers[:] = [] #dleete all elements in numbers, leaving existing list empty"
   ]
  },
  {
   "cell_type": "code",
   "execution_count": 31,
   "id": "0ae552c1-173e-454b-b517-5458314592a5",
   "metadata": {},
   "outputs": [
    {
     "data": {
      "text/plain": [
       "[]"
      ]
     },
     "execution_count": 31,
     "metadata": {},
     "output_type": "execute_result"
    }
   ],
   "source": [
    "numbers"
   ]
  },
  {
   "cell_type": "code",
   "execution_count": 32,
   "id": "82827615-c0c3-431e-868a-4fd25ccb283e",
   "metadata": {},
   "outputs": [
    {
     "data": {
      "text/plain": [
       "1931276956288"
      ]
     },
     "execution_count": 32,
     "metadata": {},
     "output_type": "execute_result"
    }
   ],
   "source": [
    "id(numbers)"
   ]
  },
  {
   "cell_type": "code",
   "execution_count": 33,
   "id": "4fff56ff-c515-461d-9e1d-3421987b7bcd",
   "metadata": {},
   "outputs": [],
   "source": [
    "numbers = [] #This is diffrent than deleting an existing list. This assigns a whole new list. Proved with id"
   ]
  },
  {
   "cell_type": "code",
   "execution_count": 34,
   "id": "fffdde8a-1668-4bcd-9bb2-b279de40b245",
   "metadata": {},
   "outputs": [
    {
     "data": {
      "text/plain": [
       "[]"
      ]
     },
     "execution_count": 34,
     "metadata": {},
     "output_type": "execute_result"
    }
   ],
   "source": [
    "numbers"
   ]
  },
  {
   "cell_type": "code",
   "execution_count": 35,
   "id": "d3e4cfca-47d3-403c-b817-f1b9cde05db1",
   "metadata": {},
   "outputs": [
    {
     "data": {
      "text/plain": [
       "1931276804032"
      ]
     },
     "execution_count": 35,
     "metadata": {},
     "output_type": "execute_result"
    }
   ],
   "source": [
    "id(numbers)"
   ]
  },
  {
   "cell_type": "markdown",
   "id": "cd3a3cb1-6302-48d9-9786-7c5e794f7c49",
   "metadata": {},
   "source": [
    "Self Check 3 of 5.5 by DeeDee Walker"
   ]
  },
  {
   "cell_type": "code",
   "execution_count": 36,
   "id": "48891f96-ceb5-4c06-a676-4254d7dd30b1",
   "metadata": {},
   "outputs": [],
   "source": [
    "numbers = list(range(1,16)) #create list called numbers containing vlaues 1 through 15"
   ]
  },
  {
   "cell_type": "code",
   "execution_count": 37,
   "id": "35fb7d42-35b7-4816-a390-f6954b0b9a47",
   "metadata": {},
   "outputs": [
    {
     "data": {
      "text/plain": [
       "[1, 2, 3, 4, 5, 6, 7, 8, 9, 10, 11, 12, 13, 14, 15]"
      ]
     },
     "execution_count": 37,
     "metadata": {},
     "output_type": "execute_result"
    }
   ],
   "source": [
    "numbers"
   ]
  },
  {
   "cell_type": "code",
   "execution_count": 38,
   "id": "45e107cf-9432-480e-9c18-23dce708b28f",
   "metadata": {},
   "outputs": [
    {
     "data": {
      "text/plain": [
       "[2, 4, 6, 8, 10, 12, 14]"
      ]
     },
     "execution_count": 38,
     "metadata": {},
     "output_type": "execute_result"
    }
   ],
   "source": [
    "numbers[1:len(numbers):2] #Select even integers"
   ]
  },
  {
   "cell_type": "code",
   "execution_count": 39,
   "id": "00eb6b3a-d872-4633-9c2a-bbd5942a863c",
   "metadata": {},
   "outputs": [],
   "source": [
    "numbers[5:10] = [0] * len(numbers[5:10]) #Replace indices 5 - 9 with 0's"
   ]
  },
  {
   "cell_type": "code",
   "execution_count": 40,
   "id": "83f0ce19-ff80-412f-af87-1af9f9184ca2",
   "metadata": {},
   "outputs": [
    {
     "data": {
      "text/plain": [
       "[1, 2, 3, 4, 5, 0, 0, 0, 0, 0, 11, 12, 13, 14, 15]"
      ]
     },
     "execution_count": 40,
     "metadata": {},
     "output_type": "execute_result"
    }
   ],
   "source": [
    "numbers"
   ]
  },
  {
   "cell_type": "code",
   "execution_count": 41,
   "id": "c0f0e271-55e7-4643-a6dc-4ca2abe3b1c3",
   "metadata": {},
   "outputs": [],
   "source": [
    "numbers[5:] = [] #keep only the 1st five elements"
   ]
  },
  {
   "cell_type": "code",
   "execution_count": 42,
   "id": "e68715bc-e5bb-46e5-92a7-3238b87ecf09",
   "metadata": {},
   "outputs": [
    {
     "data": {
      "text/plain": [
       "[1, 2, 3, 4, 5]"
      ]
     },
     "execution_count": 42,
     "metadata": {},
     "output_type": "execute_result"
    }
   ],
   "source": [
    "numbers"
   ]
  },
  {
   "cell_type": "code",
   "execution_count": 43,
   "id": "49ecb853-79c3-4ad2-8780-350d0e83d5b0",
   "metadata": {},
   "outputs": [],
   "source": [
    "numbers[:] = [] #Delete all remaining elements by assigning to a slice"
   ]
  },
  {
   "cell_type": "code",
   "execution_count": 44,
   "id": "72bc6677-5542-40b1-891c-77c288cb5f81",
   "metadata": {},
   "outputs": [
    {
     "data": {
      "text/plain": [
       "[]"
      ]
     },
     "execution_count": 44,
     "metadata": {},
     "output_type": "execute_result"
    }
   ],
   "source": [
    "numbers"
   ]
  },
  {
   "cell_type": "markdown",
   "id": "3f2a8528-6c08-4cdf-89a1-ccacc26b90e3",
   "metadata": {},
   "source": [
    "#### 5.6 del statement - Practice by DeeDee Walker"
   ]
  },
  {
   "cell_type": "markdown",
   "id": "55da7862-bd3b-412f-bf52-a99fceb7f7e3",
   "metadata": {},
   "source": [
    "The del statement can be used to remove elements from a list and to delete variables from the interactice session. You can remove the element at any valid index or the element(s) from any valid slice."
   ]
  },
  {
   "cell_type": "code",
   "execution_count": 45,
   "id": "be16e247-5330-41e5-8018-92e45c1967ba",
   "metadata": {},
   "outputs": [],
   "source": [
    "numbers = list(range(0, 10))"
   ]
  },
  {
   "cell_type": "code",
   "execution_count": 46,
   "id": "6e77fbc1-c50b-4301-9294-278dbacaea5b",
   "metadata": {},
   "outputs": [
    {
     "data": {
      "text/plain": [
       "[0, 1, 2, 3, 4, 5, 6, 7, 8, 9]"
      ]
     },
     "execution_count": 46,
     "metadata": {},
     "output_type": "execute_result"
    }
   ],
   "source": [
    "numbers"
   ]
  },
  {
   "cell_type": "code",
   "execution_count": 47,
   "id": "ecdc9886-e759-4401-93be-d5c361b2208b",
   "metadata": {},
   "outputs": [],
   "source": [
    "del numbers[-1] #removes the last element of the list"
   ]
  },
  {
   "cell_type": "code",
   "execution_count": 48,
   "id": "fdaab408-1200-4f82-ade9-db1d1992f097",
   "metadata": {},
   "outputs": [
    {
     "data": {
      "text/plain": [
       "[0, 1, 2, 3, 4, 5, 6, 7, 8]"
      ]
     },
     "execution_count": 48,
     "metadata": {},
     "output_type": "execute_result"
    }
   ],
   "source": [
    "numbers"
   ]
  },
  {
   "cell_type": "code",
   "execution_count": 49,
   "id": "93ebb9ec-ce80-4624-860e-b5ec3ec47742",
   "metadata": {},
   "outputs": [],
   "source": [
    "del numbers[0:2] #deletes the list's first two elements"
   ]
  },
  {
   "cell_type": "code",
   "execution_count": 50,
   "id": "601daa1b-38b8-4b32-b174-a8df011cca52",
   "metadata": {},
   "outputs": [
    {
     "data": {
      "text/plain": [
       "[2, 3, 4, 5, 6, 7, 8]"
      ]
     },
     "execution_count": 50,
     "metadata": {},
     "output_type": "execute_result"
    }
   ],
   "source": [
    "numbers"
   ]
  },
  {
   "cell_type": "code",
   "execution_count": 51,
   "id": "d6f77f88-e15f-4ea6-8a86-9cc24fd43e62",
   "metadata": {},
   "outputs": [],
   "source": [
    "del numbers[::2] #uses a step in the slic to delete every other element from the entire list"
   ]
  },
  {
   "cell_type": "code",
   "execution_count": 52,
   "id": "396d0b86-8d0b-4cbf-b8b6-efb3d7e7924a",
   "metadata": {},
   "outputs": [
    {
     "data": {
      "text/plain": [
       "[3, 5, 7]"
      ]
     },
     "execution_count": 52,
     "metadata": {},
     "output_type": "execute_result"
    }
   ],
   "source": [
    "numbers"
   ]
  },
  {
   "cell_type": "code",
   "execution_count": 53,
   "id": "e9f3c40f-e18f-429a-96a0-b983cab8d7ca",
   "metadata": {},
   "outputs": [],
   "source": [
    "del numbers[:] #deletes all of the list's elements"
   ]
  },
  {
   "cell_type": "code",
   "execution_count": 54,
   "id": "fd9ba62f-1358-4e96-acf0-d8912c9b1491",
   "metadata": {},
   "outputs": [
    {
     "data": {
      "text/plain": [
       "[]"
      ]
     },
     "execution_count": 54,
     "metadata": {},
     "output_type": "execute_result"
    }
   ],
   "source": [
    "numbers"
   ]
  },
  {
   "cell_type": "code",
   "execution_count": 55,
   "id": "ba519ed0-7b77-44db-92c5-709b9682900a",
   "metadata": {},
   "outputs": [],
   "source": [
    "del numbers # delete the variable"
   ]
  },
  {
   "cell_type": "code",
   "execution_count": 56,
   "id": "07ad7b64-da18-42cb-862d-097ebcaa977d",
   "metadata": {},
   "outputs": [
    {
     "ename": "NameError",
     "evalue": "name 'numbers' is not defined",
     "output_type": "error",
     "traceback": [
      "\u001b[1;31m---------------------------------------------------------------------------\u001b[0m",
      "\u001b[1;31mNameError\u001b[0m                                 Traceback (most recent call last)",
      "Input \u001b[1;32mIn [56]\u001b[0m, in \u001b[0;36m<cell line: 1>\u001b[1;34m()\u001b[0m\n\u001b[1;32m----> 1\u001b[0m \u001b[43mnumbers\u001b[49m\n",
      "\u001b[1;31mNameError\u001b[0m: name 'numbers' is not defined"
     ]
    }
   ],
   "source": [
    "numbers # proof that it is deleted with Name Error"
   ]
  },
  {
   "cell_type": "markdown",
   "id": "a364dbfd-40af-4cc9-82f7-f6a017744fd1",
   "metadata": {},
   "source": [
    "Self Check 2 in 5.6 by DeeDee Walker"
   ]
  },
  {
   "cell_type": "code",
   "execution_count": 57,
   "id": "00fb5fd5-854d-4058-92f0-bca6ec27c75c",
   "metadata": {},
   "outputs": [],
   "source": [
    "numbers = list(range(1,16)) #create list called numbers for values 1 through 15"
   ]
  },
  {
   "cell_type": "code",
   "execution_count": 58,
   "id": "dad0bd59-9c4e-4ea5-807e-5af7d20b73e8",
   "metadata": {},
   "outputs": [
    {
     "data": {
      "text/plain": [
       "[1, 2, 3, 4, 5, 6, 7, 8, 9, 10, 11, 12, 13, 14, 15]"
      ]
     },
     "execution_count": 58,
     "metadata": {},
     "output_type": "execute_result"
    }
   ],
   "source": [
    "numbers"
   ]
  },
  {
   "cell_type": "code",
   "execution_count": 59,
   "id": "141f48f1-5a41-492c-9f5d-2cb20f783c6e",
   "metadata": {},
   "outputs": [],
   "source": [
    "del numbers[0:4] #delete slice containing the 1st four elements"
   ]
  },
  {
   "cell_type": "code",
   "execution_count": 60,
   "id": "71978183-1a75-4602-8fd5-66ff80e076c7",
   "metadata": {},
   "outputs": [
    {
     "data": {
      "text/plain": [
       "[5, 6, 7, 8, 9, 10, 11, 12, 13, 14, 15]"
      ]
     },
     "execution_count": 60,
     "metadata": {},
     "output_type": "execute_result"
    }
   ],
   "source": [
    "numbers"
   ]
  },
  {
   "cell_type": "code",
   "execution_count": 61,
   "id": "46ac55db-2c8f-4399-aafa-e876e146965a",
   "metadata": {},
   "outputs": [],
   "source": [
    "del numbers[::2] #slice to delete every other element of the list"
   ]
  },
  {
   "cell_type": "code",
   "execution_count": 62,
   "id": "212121cd-2b3c-46cc-b032-3a8fc31f7c37",
   "metadata": {},
   "outputs": [
    {
     "data": {
      "text/plain": [
       "[6, 8, 10, 12, 14]"
      ]
     },
     "execution_count": 62,
     "metadata": {},
     "output_type": "execute_result"
    }
   ],
   "source": [
    "numbers"
   ]
  },
  {
   "cell_type": "markdown",
   "id": "ba27f537-ee53-4a8d-b29f-3d28976475b1",
   "metadata": {},
   "source": [
    "### 5.7 Passing Lists to Functions - Practice by DeeDee Walker"
   ]
  },
  {
   "cell_type": "code",
   "execution_count": 63,
   "id": "8169bc63-3edd-48e3-b695-5a18e3c4bb11",
   "metadata": {},
   "outputs": [],
   "source": [
    "# Passing an Entire List to a Function\n",
    "def modify_elements(items):\n",
    "    \"\"\"\"Multiplies all element values in items by 2.\"\"\"\n",
    "    for i in range(len(items)):# the len of the list below is 5 to this loops 5 times\n",
    "        items[i] *= 2 #each number is multiplied by 2"
   ]
  },
  {
   "cell_type": "code",
   "execution_count": 64,
   "id": "25625f97-f2c9-4b96-9e4a-6597af7c9f01",
   "metadata": {},
   "outputs": [],
   "source": [
    "numbers = [10, 3, 7, 1, 9]"
   ]
  },
  {
   "cell_type": "code",
   "execution_count": 65,
   "id": "346b8bb7-48a0-4855-bc41-d9fc29d0b398",
   "metadata": {},
   "outputs": [],
   "source": [
    "modify_elements(numbers) #numbers 10,3,7,1,9 are passed in to this function and \"replace\" items"
   ]
  },
  {
   "cell_type": "code",
   "execution_count": 66,
   "id": "36f7dec2-bd12-441f-94a8-cd146d0e5d93",
   "metadata": {},
   "outputs": [
    {
     "data": {
      "text/plain": [
       "[20, 6, 14, 2, 18]"
      ]
     },
     "execution_count": 66,
     "metadata": {},
     "output_type": "execute_result"
    }
   ],
   "source": [
    "numbers"
   ]
  },
  {
   "cell_type": "markdown",
   "id": "63c51ca5-2f94-41b9-bfd5-21b64ff29a4d",
   "metadata": {},
   "source": [
    "When passing a tuple to a function, attempting to modify the tuple's immutable elements results in a TypeError. Tuples may contain mutbale objects, such as lists. Thos objects cstill can be modified when a tuple is passed to a function."
   ]
  },
  {
   "cell_type": "code",
   "execution_count": 67,
   "id": "eccb1cc5-921d-41ad-9e2d-7f8a5bae37ab",
   "metadata": {},
   "outputs": [
    {
     "ename": "TypeError",
     "evalue": "'tuple' object does not support item assignment",
     "output_type": "error",
     "traceback": [
      "\u001b[1;31m---------------------------------------------------------------------------\u001b[0m",
      "\u001b[1;31mTypeError\u001b[0m                                 Traceback (most recent call last)",
      "Input \u001b[1;32mIn [67]\u001b[0m, in \u001b[0;36m<cell line: 6>\u001b[1;34m()\u001b[0m\n\u001b[0;32m      2\u001b[0m numbers_tuple \u001b[38;5;241m=\u001b[39m (\u001b[38;5;241m10\u001b[39m, \u001b[38;5;241m20\u001b[39m, \u001b[38;5;241m30\u001b[39m)\n\u001b[0;32m      4\u001b[0m numbers_tuple\n\u001b[1;32m----> 6\u001b[0m \u001b[43mmodify_elements\u001b[49m\u001b[43m(\u001b[49m\u001b[43mnumbers_tuple\u001b[49m\u001b[43m)\u001b[49m\n",
      "Input \u001b[1;32mIn [63]\u001b[0m, in \u001b[0;36mmodify_elements\u001b[1;34m(items)\u001b[0m\n\u001b[0;32m      3\u001b[0m \u001b[38;5;124;03m\"\"\"\"Multiplies all element values in items by 2.\"\"\"\u001b[39;00m\n\u001b[0;32m      4\u001b[0m \u001b[38;5;28;01mfor\u001b[39;00m i \u001b[38;5;129;01min\u001b[39;00m \u001b[38;5;28mrange\u001b[39m(\u001b[38;5;28mlen\u001b[39m(items)):\u001b[38;5;66;03m# the len of the list below is 5 to this loops 5 times\u001b[39;00m\n\u001b[1;32m----> 5\u001b[0m     \u001b[43mitems\u001b[49m\u001b[43m[\u001b[49m\u001b[43mi\u001b[49m\u001b[43m]\u001b[49m \u001b[38;5;241m*\u001b[39m\u001b[38;5;241m=\u001b[39m \u001b[38;5;241m2\u001b[39m\n",
      "\u001b[1;31mTypeError\u001b[0m: 'tuple' object does not support item assignment"
     ]
    }
   ],
   "source": [
    "# Passing a Tuple to a Function\n",
    "numbers_tuple = (10, 20, 30)\n",
    "\n",
    "numbers_tuple\n",
    "\n",
    "modify_elements(numbers_tuple)"
   ]
  },
  {
   "cell_type": "markdown",
   "id": "0450739d-4c06-4f40-926c-3af3666da7a3",
   "metadata": {},
   "source": [
    "### 5.8 Sorting Lists - Practice by DeeDee Walker"
   ]
  },
  {
   "cell_type": "markdown",
   "id": "fad9fbf8-ce4f-49da-8559-7141d6c84f40",
   "metadata": {},
   "source": [
    "List method sort modifies a list to arrange its elements in ascending order"
   ]
  },
  {
   "cell_type": "code",
   "execution_count": 68,
   "id": "0ccd8adf-24bc-478e-80be-980ded291d00",
   "metadata": {},
   "outputs": [],
   "source": [
    "# Sorting a List in Ascending Order\n",
    "numbers = [10, 3, 7, 1, 9, 4, 2, 8, 5, 6]"
   ]
  },
  {
   "cell_type": "code",
   "execution_count": 69,
   "id": "f4bc6dec-da39-413a-b331-3ec4e08b2081",
   "metadata": {},
   "outputs": [],
   "source": [
    "numbers.sort()"
   ]
  },
  {
   "cell_type": "code",
   "execution_count": 70,
   "id": "c45adcc6-c971-479c-82de-76b8a6b8d6ed",
   "metadata": {},
   "outputs": [
    {
     "data": {
      "text/plain": [
       "[1, 2, 3, 4, 5, 6, 7, 8, 9, 10]"
      ]
     },
     "execution_count": 70,
     "metadata": {},
     "output_type": "execute_result"
    }
   ],
   "source": [
    "numbers"
   ]
  },
  {
   "cell_type": "markdown",
   "id": "eaeea940-35d4-40b8-9faa-2ac365e32783",
   "metadata": {},
   "source": [
    "To sort descending we call the sort function and add keyword reverse and set it to True"
   ]
  },
  {
   "cell_type": "code",
   "execution_count": 71,
   "id": "d2ee24d0-dcf7-41b1-9329-5ce705ecfbed",
   "metadata": {},
   "outputs": [],
   "source": [
    "# Sorting a List in Descending Order\n",
    "numbers.sort(reverse=True)"
   ]
  },
  {
   "cell_type": "code",
   "execution_count": 72,
   "id": "bacf5f1c-efef-4481-96b6-e57b90bf8ad1",
   "metadata": {},
   "outputs": [
    {
     "data": {
      "text/plain": [
       "[10, 9, 8, 7, 6, 5, 4, 3, 2, 1]"
      ]
     },
     "execution_count": 72,
     "metadata": {},
     "output_type": "execute_result"
    }
   ],
   "source": [
    "numbers"
   ]
  },
  {
   "cell_type": "markdown",
   "id": "460a25da-c520-43b9-bba1-51d6875fa2d0",
   "metadata": {},
   "source": [
    "Built in sorted returns a new list containing the sorted elements of its argument sequence.....continued practice by DeeDee Walker"
   ]
  },
  {
   "cell_type": "code",
   "execution_count": 73,
   "id": "53fd13a2-3358-4516-9859-e8ea2d183c1f",
   "metadata": {},
   "outputs": [],
   "source": [
    "numbers = [10, 3, 7, 1, 9, 4, 2, 8, 5, 6]"
   ]
  },
  {
   "cell_type": "code",
   "execution_count": 74,
   "id": "52163fb4-8b8f-4b82-b0d9-b41f3ec53718",
   "metadata": {},
   "outputs": [],
   "source": [
    "ascending_numbers = sorted(numbers)"
   ]
  },
  {
   "cell_type": "code",
   "execution_count": 75,
   "id": "f1ea79d1-975c-45ed-9ac0-fe5f49ee16d2",
   "metadata": {},
   "outputs": [
    {
     "data": {
      "text/plain": [
       "[1, 2, 3, 4, 5, 6, 7, 8, 9, 10]"
      ]
     },
     "execution_count": 75,
     "metadata": {},
     "output_type": "execute_result"
    }
   ],
   "source": [
    "ascending_numbers"
   ]
  },
  {
   "cell_type": "code",
   "execution_count": 76,
   "id": "18e294de-8765-44fb-afed-2e17f2c47d39",
   "metadata": {},
   "outputs": [
    {
     "data": {
      "text/plain": [
       "[10, 3, 7, 1, 9, 4, 2, 8, 5, 6]"
      ]
     },
     "execution_count": 76,
     "metadata": {},
     "output_type": "execute_result"
    }
   ],
   "source": [
    "numbers"
   ]
  },
  {
   "cell_type": "code",
   "execution_count": 77,
   "id": "eac2775c-5cc2-46f7-b8c9-292f10b182cb",
   "metadata": {},
   "outputs": [],
   "source": [
    "letters = 'fadgchjebi'"
   ]
  },
  {
   "cell_type": "code",
   "execution_count": 78,
   "id": "89738fdd-69f4-4537-ad09-410d6487ecae",
   "metadata": {},
   "outputs": [],
   "source": [
    "ascending_letters = sorted(letters)"
   ]
  },
  {
   "cell_type": "code",
   "execution_count": 79,
   "id": "5662206b-45fc-40d8-b81d-7f8f7898ea8e",
   "metadata": {},
   "outputs": [
    {
     "data": {
      "text/plain": [
       "['a', 'b', 'c', 'd', 'e', 'f', 'g', 'h', 'i', 'j']"
      ]
     },
     "execution_count": 79,
     "metadata": {},
     "output_type": "execute_result"
    }
   ],
   "source": [
    "ascending_letters"
   ]
  },
  {
   "cell_type": "code",
   "execution_count": 80,
   "id": "62807868-2401-41b5-9612-c40dd8791f32",
   "metadata": {},
   "outputs": [
    {
     "data": {
      "text/plain": [
       "'fadgchjebi'"
      ]
     },
     "execution_count": 80,
     "metadata": {},
     "output_type": "execute_result"
    }
   ],
   "source": [
    "letters"
   ]
  },
  {
   "cell_type": "code",
   "execution_count": 81,
   "id": "15396ab1-c4a1-4765-8fd0-fc73d41e8d9d",
   "metadata": {},
   "outputs": [],
   "source": [
    "colors = ('red', 'orange', 'yellow', 'green', 'blue')"
   ]
  },
  {
   "cell_type": "code",
   "execution_count": 82,
   "id": "5333d49b-1c22-4db8-be2c-9193522c970e",
   "metadata": {},
   "outputs": [],
   "source": [
    "ascending_colors = sorted(colors)"
   ]
  },
  {
   "cell_type": "code",
   "execution_count": 83,
   "id": "8e09362a-f8ad-468b-85eb-8b419ba3b9b0",
   "metadata": {},
   "outputs": [
    {
     "data": {
      "text/plain": [
       "['blue', 'green', 'orange', 'red', 'yellow']"
      ]
     },
     "execution_count": 83,
     "metadata": {},
     "output_type": "execute_result"
    }
   ],
   "source": [
    "ascending_colors"
   ]
  },
  {
   "cell_type": "code",
   "execution_count": 84,
   "id": "e90b23e1-b002-4a1a-b22a-3c7a27f2dadf",
   "metadata": {},
   "outputs": [
    {
     "data": {
      "text/plain": [
       "('red', 'orange', 'yellow', 'green', 'blue')"
      ]
     },
     "execution_count": 84,
     "metadata": {},
     "output_type": "execute_result"
    }
   ],
   "source": [
    "colors"
   ]
  },
  {
   "cell_type": "markdown",
   "id": "521fa8fc-ad7f-4727-ab61-e80366780b0f",
   "metadata": {},
   "source": [
    "Self Check 3 of 5.8 by DeeDee Walker"
   ]
  },
  {
   "cell_type": "code",
   "execution_count": 85,
   "id": "3b92e121-65f8-4e6d-8b99-2d015bf1ad49",
   "metadata": {},
   "outputs": [],
   "source": [
    "foods = ['Cookies', 'pizza', 'Grapes', 'apples', 'steak', 'Bacon']"
   ]
  },
  {
   "cell_type": "code",
   "execution_count": 86,
   "id": "32500f2f-bdcd-4d2c-b748-501e48dd6461",
   "metadata": {},
   "outputs": [],
   "source": [
    "foods.sort() #lexicographical order - strings are compared by their character's numerical index - Upper cases letters are lower than lowercase values"
   ]
  },
  {
   "cell_type": "code",
   "execution_count": 87,
   "id": "ab3e03cf-d7e3-4f2a-959b-081fbcb1b10e",
   "metadata": {},
   "outputs": [
    {
     "data": {
      "text/plain": [
       "['Bacon', 'Cookies', 'Grapes', 'apples', 'pizza', 'steak']"
      ]
     },
     "execution_count": 87,
     "metadata": {},
     "output_type": "execute_result"
    }
   ],
   "source": [
    "foods"
   ]
  },
  {
   "cell_type": "markdown",
   "id": "e6dd3b10-22b1-42d5-8967-e0df1f3d8aac",
   "metadata": {},
   "source": [
    "### 5.9 Searching Sequences - Practice by DeeDee Walker"
   ]
  },
  {
   "cell_type": "markdown",
   "id": "2350b40f-be7f-4473-8b61-0dc1b6130a3d",
   "metadata": {},
   "source": [
    "Searching is the process of locating a key value"
   ]
  },
  {
   "cell_type": "markdown",
   "id": "f9b42571-1aa0-41c5-a777-2899e1aec700",
   "metadata": {},
   "source": [
    "List method index takes as an argument a search key - the vlaue to locate in the list - then searches through the list from index 0 and returns the index of the first element that matches the search key"
   ]
  },
  {
   "cell_type": "code",
   "execution_count": 88,
   "id": "44a33c53-549d-4efd-ab84-fd1afe8cfa83",
   "metadata": {},
   "outputs": [],
   "source": [
    "numbers = [3, 7, 1, 4, 2, 8, 5, 6] # List Method index"
   ]
  },
  {
   "cell_type": "code",
   "execution_count": 89,
   "id": "7e2d6111-bb2f-4e38-844d-efb752df43fd",
   "metadata": {},
   "outputs": [
    {
     "data": {
      "text/plain": [
       "6"
      ]
     },
     "execution_count": 89,
     "metadata": {},
     "output_type": "execute_result"
    }
   ],
   "source": [
    "numbers.index(5)"
   ]
  },
  {
   "cell_type": "markdown",
   "id": "a729625a-f4b3-4843-bb60-8d99a8ab65bd",
   "metadata": {},
   "source": [
    "You can use *= to multiply a sequence"
   ]
  },
  {
   "cell_type": "code",
   "execution_count": 90,
   "id": "2ec4e2d7-8934-44bd-b8c2-566a1febd5cb",
   "metadata": {},
   "outputs": [],
   "source": [
    "numbers *= 2"
   ]
  },
  {
   "cell_type": "code",
   "execution_count": 91,
   "id": "02b509bc-00fd-43da-83e7-67a478efe8cd",
   "metadata": {},
   "outputs": [
    {
     "data": {
      "text/plain": [
       "[3, 7, 1, 4, 2, 8, 5, 6, 3, 7, 1, 4, 2, 8, 5, 6]"
      ]
     },
     "execution_count": 91,
     "metadata": {},
     "output_type": "execute_result"
    }
   ],
   "source": [
    "numbers"
   ]
  },
  {
   "cell_type": "code",
   "execution_count": 92,
   "id": "0f0adbf3-093e-4f88-a3f4-79ec28339eaf",
   "metadata": {},
   "outputs": [
    {
     "data": {
      "text/plain": [
       "14"
      ]
     },
     "execution_count": 92,
     "metadata": {},
     "output_type": "execute_result"
    }
   ],
   "source": [
    "numbers.index(5, 7) #searches the updated list for the values 5 starting from index 7 - assumes the length of numbers as its optional 3rd argument and is equivalent to: numbers.index(5, 7, len(numbers))"
   ]
  },
  {
   "cell_type": "code",
   "execution_count": 93,
   "id": "f5d8643c-a1aa-40ff-a3b5-590e465957af",
   "metadata": {},
   "outputs": [
    {
     "data": {
      "text/plain": [
       "1"
      ]
     },
     "execution_count": 93,
     "metadata": {},
     "output_type": "execute_result"
    }
   ],
   "source": [
    "numbers.index(7, 0, 4) # Specifying the Starting and Ending Indices of a Search"
   ]
  },
  {
   "cell_type": "code",
   "execution_count": 94,
   "id": "c5733183-3884-4684-9c3d-900be6c810c6",
   "metadata": {},
   "outputs": [
    {
     "data": {
      "text/plain": [
       "False"
      ]
     },
     "execution_count": 94,
     "metadata": {},
     "output_type": "execute_result"
    }
   ],
   "source": [
    "1000 in numbers # Operator in tests whether its right operand's iterable contains the left operand's value"
   ]
  },
  {
   "cell_type": "code",
   "execution_count": 95,
   "id": "e3b41464-8a83-4292-a1ea-293aff406436",
   "metadata": {},
   "outputs": [
    {
     "data": {
      "text/plain": [
       "True"
      ]
     },
     "execution_count": 95,
     "metadata": {},
     "output_type": "execute_result"
    }
   ],
   "source": [
    "5 in numbers"
   ]
  },
  {
   "cell_type": "code",
   "execution_count": 96,
   "id": "378e54e9-a81d-4cda-8bb2-3983fc91a170",
   "metadata": {},
   "outputs": [
    {
     "data": {
      "text/plain": [
       "True"
      ]
     },
     "execution_count": 96,
     "metadata": {},
     "output_type": "execute_result"
    }
   ],
   "source": [
    "1000 not in numbers # Operator not in tests whether its right operand's iterable does not contain the left operand's value"
   ]
  },
  {
   "cell_type": "code",
   "execution_count": 97,
   "id": "d726f7b4-b2b4-4cf1-aa48-1158cea01dea",
   "metadata": {},
   "outputs": [
    {
     "data": {
      "text/plain": [
       "False"
      ]
     },
     "execution_count": 97,
     "metadata": {},
     "output_type": "execute_result"
    }
   ],
   "source": [
    "5 not in numbers"
   ]
  },
  {
   "cell_type": "code",
   "execution_count": 98,
   "id": "6476f1a7-5bac-469f-bacc-61d0e2c5c16d",
   "metadata": {},
   "outputs": [],
   "source": [
    "key = 1000 # You can us the operator in to ensure that calls to method index do not result in ValueError for search keys that are not in the corresponding sequence."
   ]
  },
  {
   "cell_type": "code",
   "execution_count": 99,
   "id": "dbd8014a-3c1c-405e-b48c-47c9ea3edb86",
   "metadata": {},
   "outputs": [
    {
     "name": "stdout",
     "output_type": "stream",
     "text": [
      "1000 not found\n"
     ]
    }
   ],
   "source": [
    "if key in numbers:\n",
    "    print(f'found {key} at index {numbers.index(key)}')\n",
    "else:\n",
    "    print(f'{key} not found')"
   ]
  },
  {
   "cell_type": "markdown",
   "id": "c3ebf578-23ef-43f0-97b1-b46e8de882e7",
   "metadata": {},
   "source": [
    "built in function any returns True if any item in its iterable argument is True"
   ]
  },
  {
   "cell_type": "markdown",
   "id": "aec2c584-a817-421d-8e77-da9be88dd8b7",
   "metadata": {},
   "source": [
    "built in function all returns True if all items in its iterable argument are True"
   ]
  },
  {
   "cell_type": "code",
   "execution_count": 100,
   "id": "6b49805f-2272-439a-93ae-b979fd852b78",
   "metadata": {},
   "outputs": [],
   "source": [
    "##Reminder - nonzero values are True & 0 is False"
   ]
  },
  {
   "cell_type": "markdown",
   "id": "14cc2d9d-99fb-4208-97f0-a533449723cc",
   "metadata": {},
   "source": [
    "Self Check 3 in 5.9 by DeeDee Walker"
   ]
  },
  {
   "cell_type": "code",
   "execution_count": 101,
   "id": "0bf90d24-ca67-440e-9b2b-6f823d89377d",
   "metadata": {},
   "outputs": [],
   "source": [
    "numbers = [67, 12, 46, 43, 13] # create a five element list"
   ]
  },
  {
   "cell_type": "code",
   "execution_count": 102,
   "id": "363e2369-067a-4a68-a3cb-490df2353134",
   "metadata": {},
   "outputs": [
    {
     "data": {
      "text/plain": [
       "3"
      ]
     },
     "execution_count": 102,
     "metadata": {},
     "output_type": "execute_result"
    }
   ],
   "source": [
    "numbers.index(43)#search for 43"
   ]
  },
  {
   "cell_type": "code",
   "execution_count": 103,
   "id": "2c5634c9-41bc-4598-9be5-6436314d70a5",
   "metadata": {},
   "outputs": [
    {
     "name": "stdout",
     "output_type": "stream",
     "text": [
      "44 not found\n"
     ]
    }
   ],
   "source": [
    "if 44 in numbers: #search for 44\n",
    "    print(f'Found 44 at index: {numbers.index(44)}')\n",
    "else:\n",
    "    print('44 not found')"
   ]
  },
  {
   "cell_type": "markdown",
   "id": "b374afc8-365d-4d36-86a4-f37180e9d6f0",
   "metadata": {},
   "source": [
    "### 5.10 Other List Methods - Practice by DeeDee Walker"
   ]
  },
  {
   "cell_type": "code",
   "execution_count": 104,
   "id": "74eb0543-109e-4c51-84c2-7f6d36ca38d6",
   "metadata": {},
   "outputs": [],
   "source": [
    "color_names = ['orange', 'yellow', 'green']"
   ]
  },
  {
   "cell_type": "code",
   "execution_count": 105,
   "id": "4df27812-5433-4f5d-a8ce-1fff7d43dc1f",
   "metadata": {},
   "outputs": [],
   "source": [
    "color_names.insert(0, 'red') # Inserting an Element at a Specific List Index"
   ]
  },
  {
   "cell_type": "code",
   "execution_count": 106,
   "id": "9a5e6a98-cf85-40cc-be0e-6939f616cdc2",
   "metadata": {},
   "outputs": [
    {
     "data": {
      "text/plain": [
       "['red', 'orange', 'yellow', 'green']"
      ]
     },
     "execution_count": 106,
     "metadata": {},
     "output_type": "execute_result"
    }
   ],
   "source": [
    "color_names"
   ]
  },
  {
   "cell_type": "code",
   "execution_count": 107,
   "id": "6c236af5-351b-47de-9a23-7fddbee1d1c7",
   "metadata": {},
   "outputs": [],
   "source": [
    "color_names.append('blue')# Adding an Element to the End of a List"
   ]
  },
  {
   "cell_type": "code",
   "execution_count": 108,
   "id": "81fa4502-e7e9-412e-b4ba-1ce41103caec",
   "metadata": {},
   "outputs": [
    {
     "data": {
      "text/plain": [
       "['red', 'orange', 'yellow', 'green', 'blue']"
      ]
     },
     "execution_count": 108,
     "metadata": {},
     "output_type": "execute_result"
    }
   ],
   "source": [
    "color_names"
   ]
  },
  {
   "cell_type": "code",
   "execution_count": 109,
   "id": "222c8aa8-580a-47bd-8ca2-2d94e26b4023",
   "metadata": {},
   "outputs": [],
   "source": [
    "color_names.extend(['indigo', 'violet'])# Adding All the Elements of a Sequence to the End of a List. This is the equivalent of usinf +="
   ]
  },
  {
   "cell_type": "code",
   "execution_count": 110,
   "id": "fb67bdda-1be7-44fe-895c-f183a0441041",
   "metadata": {},
   "outputs": [
    {
     "data": {
      "text/plain": [
       "['red', 'orange', 'yellow', 'green', 'blue', 'indigo', 'violet']"
      ]
     },
     "execution_count": 110,
     "metadata": {},
     "output_type": "execute_result"
    }
   ],
   "source": [
    "color_names"
   ]
  },
  {
   "cell_type": "markdown",
   "id": "464ae0d6-5789-443e-90fa-9d0321cc4816",
   "metadata": {},
   "source": [
    "The following code adds all the characters if a string then all the elments of a tuple to a list:"
   ]
  },
  {
   "cell_type": "code",
   "execution_count": 111,
   "id": "dd4628bf-59c6-4012-a924-47e34734bc59",
   "metadata": {},
   "outputs": [],
   "source": [
    "sample_list = []"
   ]
  },
  {
   "cell_type": "code",
   "execution_count": 112,
   "id": "cb6f9eb8-d421-410d-954f-183222d269f6",
   "metadata": {},
   "outputs": [],
   "source": [
    "s = 'abc'"
   ]
  },
  {
   "cell_type": "code",
   "execution_count": 113,
   "id": "ecb69a18-e226-4347-b680-cb5da971476e",
   "metadata": {},
   "outputs": [],
   "source": [
    "sample_list.extend(s)"
   ]
  },
  {
   "cell_type": "code",
   "execution_count": 114,
   "id": "ac70b478-69a5-4bf7-9a78-c39c5ba92a9d",
   "metadata": {},
   "outputs": [
    {
     "data": {
      "text/plain": [
       "['a', 'b', 'c']"
      ]
     },
     "execution_count": 114,
     "metadata": {},
     "output_type": "execute_result"
    }
   ],
   "source": [
    "sample_list"
   ]
  },
  {
   "cell_type": "code",
   "execution_count": 115,
   "id": "f97b3141-0fdf-4e17-b3a3-919166afdca1",
   "metadata": {},
   "outputs": [],
   "source": [
    "t = (1, 2, 3)"
   ]
  },
  {
   "cell_type": "code",
   "execution_count": 116,
   "id": "9617d98d-66e9-4f5e-acca-40c176d24052",
   "metadata": {},
   "outputs": [],
   "source": [
    "sample_list.extend(t)"
   ]
  },
  {
   "cell_type": "code",
   "execution_count": 117,
   "id": "65a2cc99-bedb-41fe-94a5-b8ea3f07d856",
   "metadata": {},
   "outputs": [
    {
     "data": {
      "text/plain": [
       "['a', 'b', 'c', 1, 2, 3]"
      ]
     },
     "execution_count": 117,
     "metadata": {},
     "output_type": "execute_result"
    }
   ],
   "source": [
    "sample_list"
   ]
  },
  {
   "cell_type": "markdown",
   "id": "1b795abc-0fbf-4921-9eda-af1b3a4ca603",
   "metadata": {},
   "source": [
    "Instead of creating a temporary variable to store a tuple before appenidng it to a list (like t above), you can pass a tuple directly to extend.....continued practice by DeeDee Walker"
   ]
  },
  {
   "cell_type": "code",
   "execution_count": 118,
   "id": "926f2df1-fe38-4b03-9062-e8807b4c6a3a",
   "metadata": {},
   "outputs": [],
   "source": [
    "sample_list.extend((4, 5, 6))  # note the extra parentheses"
   ]
  },
  {
   "cell_type": "code",
   "execution_count": 119,
   "id": "e7b43597-34c3-452b-8615-75b4c8c0c9be",
   "metadata": {},
   "outputs": [
    {
     "data": {
      "text/plain": [
       "['a', 'b', 'c', 1, 2, 3, 4, 5, 6]"
      ]
     },
     "execution_count": 119,
     "metadata": {},
     "output_type": "execute_result"
    }
   ],
   "source": [
    "sample_list"
   ]
  },
  {
   "cell_type": "code",
   "execution_count": 120,
   "id": "8eaa6cd7-fe21-4640-b748-973a8ecf8315",
   "metadata": {},
   "outputs": [],
   "source": [
    "color_names.remove('green') # Removing the First Occurrence of an Element in a List "
   ]
  },
  {
   "cell_type": "code",
   "execution_count": 121,
   "id": "60971425-59fe-437d-b539-f4df7d2ffa8b",
   "metadata": {},
   "outputs": [
    {
     "data": {
      "text/plain": [
       "['red', 'orange', 'yellow', 'blue', 'indigo', 'violet']"
      ]
     },
     "execution_count": 121,
     "metadata": {},
     "output_type": "execute_result"
    }
   ],
   "source": [
    "color_names"
   ]
  },
  {
   "cell_type": "code",
   "execution_count": 122,
   "id": "71c8906a-8d61-4c4f-9fc0-c39c27953030",
   "metadata": {},
   "outputs": [],
   "source": [
    "color_names.clear() # Emptying a List"
   ]
  },
  {
   "cell_type": "code",
   "execution_count": 123,
   "id": "62e737b4-9842-4bfc-9ce5-701b738804cf",
   "metadata": {},
   "outputs": [
    {
     "data": {
      "text/plain": [
       "[]"
      ]
     },
     "execution_count": 123,
     "metadata": {},
     "output_type": "execute_result"
    }
   ],
   "source": [
    "color_names"
   ]
  },
  {
   "cell_type": "code",
   "execution_count": 124,
   "id": "f907ecd9-baf4-47a1-949b-c5c82eab5e48",
   "metadata": {},
   "outputs": [],
   "source": [
    "responses = [1, 2, 5, 4, 3, 5, 2, 1, 3, 3, \n",
    "             1, 4, 3, 3, 3, 2, 3, 3, 2, 2]# Counting the Number of Occurrences of an Item"
   ]
  },
  {
   "cell_type": "code",
   "execution_count": 125,
   "id": "91dae490-e112-4cb4-8099-bb1a3b1f0d35",
   "metadata": {},
   "outputs": [
    {
     "name": "stdout",
     "output_type": "stream",
     "text": [
      "1 appears 3 times in responses\n",
      "2 appears 5 times in responses\n",
      "3 appears 8 times in responses\n",
      "4 appears 2 times in responses\n",
      "5 appears 2 times in responses\n"
     ]
    }
   ],
   "source": [
    "for i in range(1, 6):\n",
    "    print(f'{i} appears {responses.count(i)} times in responses')"
   ]
  },
  {
   "cell_type": "code",
   "execution_count": 126,
   "id": "cc02279a-e11f-43c3-bc77-a7c8d6b89528",
   "metadata": {},
   "outputs": [],
   "source": [
    "color_names = ['red', 'orange', 'yellow', 'green', 'blue']# Reversing a List’s Elements"
   ]
  },
  {
   "cell_type": "code",
   "execution_count": 127,
   "id": "8e4ae0ea-e39b-49e6-be0e-9c93e8304ef1",
   "metadata": {},
   "outputs": [],
   "source": [
    "color_names.reverse()"
   ]
  },
  {
   "cell_type": "code",
   "execution_count": 128,
   "id": "ab9febad-cf95-4ece-bec5-ea9489761280",
   "metadata": {},
   "outputs": [
    {
     "data": {
      "text/plain": [
       "['blue', 'green', 'yellow', 'orange', 'red']"
      ]
     },
     "execution_count": 128,
     "metadata": {},
     "output_type": "execute_result"
    }
   ],
   "source": [
    "color_names"
   ]
  },
  {
   "cell_type": "code",
   "execution_count": 129,
   "id": "32342188-d520-4956-ae0a-5e8f4a048a4c",
   "metadata": {},
   "outputs": [],
   "source": [
    "copied_list = color_names.copy()# Copying a List"
   ]
  },
  {
   "cell_type": "code",
   "execution_count": 130,
   "id": "ede4dfa1-8a79-4efa-93b7-6a0826bae53f",
   "metadata": {},
   "outputs": [
    {
     "data": {
      "text/plain": [
       "['blue', 'green', 'yellow', 'orange', 'red']"
      ]
     },
     "execution_count": 130,
     "metadata": {},
     "output_type": "execute_result"
    }
   ],
   "source": [
    "copied_list"
   ]
  },
  {
   "cell_type": "markdown",
   "id": "595130f6-8cd3-4d71-af41-51b6f9af61f9",
   "metadata": {},
   "source": [
    "Self Check 3 for 5.10 by DeeDee Walker"
   ]
  },
  {
   "cell_type": "code",
   "execution_count": 131,
   "id": "0ac9b72b-8feb-42aa-8005-fdedb647959b",
   "metadata": {},
   "outputs": [],
   "source": [
    "rainbow = ['green', 'orange', 'violet'] #create a list called rainbow with green, orange, & violet"
   ]
  },
  {
   "cell_type": "code",
   "execution_count": 132,
   "id": "71e21715-1929-4d75-a573-3e7ab013d439",
   "metadata": {},
   "outputs": [],
   "source": [
    "rainbow.insert(rainbow.index('violet'), 'red') #insert red before violet"
   ]
  },
  {
   "cell_type": "code",
   "execution_count": 133,
   "id": "aace3cb6-1f4d-494c-9a2b-c4ed6d17c875",
   "metadata": {},
   "outputs": [
    {
     "data": {
      "text/plain": [
       "['green', 'orange', 'red', 'violet']"
      ]
     },
     "execution_count": 133,
     "metadata": {},
     "output_type": "execute_result"
    }
   ],
   "source": [
    "rainbow"
   ]
  },
  {
   "cell_type": "code",
   "execution_count": 134,
   "id": "eb012403-b74f-49ff-9884-18ccf44c3045",
   "metadata": {},
   "outputs": [],
   "source": [
    "rainbow.append('yellow')#append yellow to the end"
   ]
  },
  {
   "cell_type": "code",
   "execution_count": 135,
   "id": "983526ca-1266-4720-837b-c5b9e270a78c",
   "metadata": {},
   "outputs": [
    {
     "data": {
      "text/plain": [
       "['green', 'orange', 'red', 'violet', 'yellow']"
      ]
     },
     "execution_count": 135,
     "metadata": {},
     "output_type": "execute_result"
    }
   ],
   "source": [
    "rainbow"
   ]
  },
  {
   "cell_type": "code",
   "execution_count": 136,
   "id": "73063037-3973-4c46-ae24-b2a8b15aaf22",
   "metadata": {},
   "outputs": [],
   "source": [
    "rainbow.reverse()#reverse the list's elements"
   ]
  },
  {
   "cell_type": "code",
   "execution_count": 137,
   "id": "fb50ce08-60fc-4d76-8deb-8cc4dc0273f1",
   "metadata": {},
   "outputs": [
    {
     "data": {
      "text/plain": [
       "['yellow', 'violet', 'red', 'orange', 'green']"
      ]
     },
     "execution_count": 137,
     "metadata": {},
     "output_type": "execute_result"
    }
   ],
   "source": [
    "rainbow"
   ]
  },
  {
   "cell_type": "code",
   "execution_count": 138,
   "id": "56c3a019-0c12-4bea-a694-aa4074f86f74",
   "metadata": {},
   "outputs": [],
   "source": [
    "rainbow.remove('orange')#remove the element orange"
   ]
  },
  {
   "cell_type": "code",
   "execution_count": 139,
   "id": "97d90a31-2a3e-4859-aab8-6c576571dee9",
   "metadata": {},
   "outputs": [
    {
     "data": {
      "text/plain": [
       "['yellow', 'violet', 'red', 'green']"
      ]
     },
     "execution_count": 139,
     "metadata": {},
     "output_type": "execute_result"
    }
   ],
   "source": [
    "rainbow"
   ]
  },
  {
   "cell_type": "markdown",
   "id": "7ff4f861-d63f-4aca-95aa-db28d06277c4",
   "metadata": {},
   "source": [
    "### 5.11 Simulating Stacks with Lists - Practice by DeeDee Walker"
   ]
  },
  {
   "cell_type": "markdown",
   "id": "22c82614-0925-4210-a99d-a6ed5f197651",
   "metadata": {},
   "source": [
    "Python doesn't have a buil in stack type, but you can think of a stack as a constrained list"
   ]
  },
  {
   "cell_type": "markdown",
   "id": "a2e41c4f-f2a2-4e74-89db-8bafcf769cc4",
   "metadata": {},
   "source": [
    "Push using list method append, which adds a new element to the end of a list"
   ]
  },
  {
   "cell_type": "markdown",
   "id": "42e0a2b7-107b-47eb-9a2d-2127c6fd395d",
   "metadata": {},
   "source": [
    "Pop using list method pop with no arguments, which removes and returns the item at the end of the list"
   ]
  },
  {
   "cell_type": "code",
   "execution_count": 140,
   "id": "2bb84495-a90e-413a-a273-d5faf5bdc009",
   "metadata": {},
   "outputs": [],
   "source": [
    "stack = [] # create an empty list called stack"
   ]
  },
  {
   "cell_type": "code",
   "execution_count": 141,
   "id": "f07c4cfb-be4c-4ea9-8b38-36ddb9e13bd0",
   "metadata": {},
   "outputs": [],
   "source": [
    "stack.append('red') # push (append) two strings onto it"
   ]
  },
  {
   "cell_type": "code",
   "execution_count": 142,
   "id": "856227de-f7ed-40df-be90-e076063cd2c1",
   "metadata": {},
   "outputs": [
    {
     "data": {
      "text/plain": [
       "['red']"
      ]
     },
     "execution_count": 142,
     "metadata": {},
     "output_type": "execute_result"
    }
   ],
   "source": [
    "stack"
   ]
  },
  {
   "cell_type": "code",
   "execution_count": 143,
   "id": "0d828815-4140-4939-bdca-550fd3c6de64",
   "metadata": {},
   "outputs": [],
   "source": [
    "stack.append('green')"
   ]
  },
  {
   "cell_type": "code",
   "execution_count": 144,
   "id": "ff0a5a33-62a0-42ba-a5aa-6d82e05b61e4",
   "metadata": {},
   "outputs": [
    {
     "data": {
      "text/plain": [
       "['red', 'green']"
      ]
     },
     "execution_count": 144,
     "metadata": {},
     "output_type": "execute_result"
    }
   ],
   "source": [
    "stack"
   ]
  },
  {
   "cell_type": "code",
   "execution_count": 145,
   "id": "d1a504e9-a78b-44be-b093-7200312e238d",
   "metadata": {},
   "outputs": [
    {
     "data": {
      "text/plain": [
       "'green'"
      ]
     },
     "execution_count": 145,
     "metadata": {},
     "output_type": "execute_result"
    }
   ],
   "source": [
    "stack.pop() #to confirm the appends were LIFO order"
   ]
  },
  {
   "cell_type": "code",
   "execution_count": 146,
   "id": "c8afa98f-633d-4d46-8834-605af788c23b",
   "metadata": {},
   "outputs": [
    {
     "data": {
      "text/plain": [
       "['red']"
      ]
     },
     "execution_count": 146,
     "metadata": {},
     "output_type": "execute_result"
    }
   ],
   "source": [
    "stack"
   ]
  },
  {
   "cell_type": "code",
   "execution_count": 147,
   "id": "03348037-20ca-4a0f-b17b-320a8a9b4ae1",
   "metadata": {},
   "outputs": [
    {
     "data": {
      "text/plain": [
       "'red'"
      ]
     },
     "execution_count": 147,
     "metadata": {},
     "output_type": "execute_result"
    }
   ],
   "source": [
    "stack.pop()"
   ]
  },
  {
   "cell_type": "code",
   "execution_count": 148,
   "id": "18688b0b-3c1c-4c66-b563-1b70d123376c",
   "metadata": {},
   "outputs": [
    {
     "data": {
      "text/plain": [
       "[]"
      ]
     },
     "execution_count": 148,
     "metadata": {},
     "output_type": "execute_result"
    }
   ],
   "source": [
    "stack"
   ]
  },
  {
   "cell_type": "code",
   "execution_count": 149,
   "id": "3be76ad4-7cd1-4355-8723-7b19c607a93c",
   "metadata": {},
   "outputs": [
    {
     "ename": "IndexError",
     "evalue": "pop from empty list",
     "output_type": "error",
     "traceback": [
      "\u001b[1;31m---------------------------------------------------------------------------\u001b[0m",
      "\u001b[1;31mIndexError\u001b[0m                                Traceback (most recent call last)",
      "Input \u001b[1;32mIn [149]\u001b[0m, in \u001b[0;36m<cell line: 1>\u001b[1;34m()\u001b[0m\n\u001b[1;32m----> 1\u001b[0m \u001b[43mstack\u001b[49m\u001b[38;5;241;43m.\u001b[39;49m\u001b[43mpop\u001b[49m\u001b[43m(\u001b[49m\u001b[43m)\u001b[49m\n",
      "\u001b[1;31mIndexError\u001b[0m: pop from empty list"
     ]
    }
   ],
   "source": [
    "stack.pop() #Index Error becuase stack is empty"
   ]
  },
  {
   "cell_type": "markdown",
   "id": "4b52c47e-8c7a-44cf-9995-4a0e75d37e63",
   "metadata": {},
   "source": [
    "Queue - Collection in which you insert at the back and delete form the front. Items are retrieved in FIFO order"
   ]
  },
  {
   "cell_type": "markdown",
   "id": "f952a5f0-9788-4434-a13d-b4ff8bc3a287",
   "metadata": {},
   "source": [
    "### 5.12 List Comprehensions - Practice by DeeDee Walker"
   ]
  },
  {
   "cell_type": "markdown",
   "id": "6b0cd731-4aeb-4153-8bf6-717e26223fa5",
   "metadata": {},
   "source": [
    "List comprehensions can replace many for statements that iterate over existing sequences and create new lists"
   ]
  },
  {
   "cell_type": "code",
   "execution_count": 150,
   "id": "9aebfe43-c26e-4622-948b-bcd11289aa6c",
   "metadata": {},
   "outputs": [],
   "source": [
    "list1 = []"
   ]
  },
  {
   "cell_type": "code",
   "execution_count": 151,
   "id": "c7e757a1-eb27-4d24-b971-bcf46807ea8e",
   "metadata": {},
   "outputs": [],
   "source": [
    "for item in range(1, 6):\n",
    "    list1.append(item)"
   ]
  },
  {
   "cell_type": "code",
   "execution_count": 152,
   "id": "314fa903-fb63-499e-ba4e-6ff5fd74449a",
   "metadata": {},
   "outputs": [
    {
     "data": {
      "text/plain": [
       "[1, 2, 3, 4, 5]"
      ]
     },
     "execution_count": 152,
     "metadata": {},
     "output_type": "execute_result"
    }
   ],
   "source": [
    "list1"
   ]
  },
  {
   "cell_type": "code",
   "execution_count": 153,
   "id": "871ba866-5190-458d-8c2b-13ac84d72fee",
   "metadata": {},
   "outputs": [],
   "source": [
    "# Using a List Comprehension to Create a List of Integers\n",
    "list2 = [item for item in range(1, 6)] # for clause iterates over the sequence produced by range. For each item, the list comprehension evaluates the expression to the left of the for clause and places the expression's value in the new list"
   ]
  },
  {
   "cell_type": "code",
   "execution_count": 154,
   "id": "c7414789-37de-483e-96fa-ef39e96b7e6f",
   "metadata": {},
   "outputs": [
    {
     "data": {
      "text/plain": [
       "[1, 2, 3, 4, 5]"
      ]
     },
     "execution_count": 154,
     "metadata": {},
     "output_type": "execute_result"
    }
   ],
   "source": [
    "list2"
   ]
  },
  {
   "cell_type": "markdown",
   "id": "c2b7dcc1-ecfb-44d2-b136-f05b430b2040",
   "metadata": {},
   "source": [
    "Mapping is a common functional-style programming operation that produces a result with the same number of elements as the original data being mapped."
   ]
  },
  {
   "cell_type": "code",
   "execution_count": 155,
   "id": "41d37120-54ee-4092-85c3-022cd66de438",
   "metadata": {},
   "outputs": [],
   "source": [
    "# Mapping: Performing Operations in a List Comprehension’s Expression\n",
    "list3 = [item ** 3 for item in range(1, 6)] #maps each value to it's cube"
   ]
  },
  {
   "cell_type": "code",
   "execution_count": 156,
   "id": "a75227bf-76fe-46ab-aeb8-6154cf4c8b5c",
   "metadata": {},
   "outputs": [
    {
     "data": {
      "text/plain": [
       "[1, 8, 27, 64, 125]"
      ]
     },
     "execution_count": 156,
     "metadata": {},
     "output_type": "execute_result"
    }
   ],
   "source": [
    "list3"
   ]
  },
  {
   "cell_type": "code",
   "execution_count": 157,
   "id": "bd2d048c-24e2-414a-a0bd-6615ba09af44",
   "metadata": {},
   "outputs": [],
   "source": [
    "# Filtering: List Comprehensions with if Clauses \n",
    "list4 = [item for item in range(1, 11) if item % 2 == 0]"
   ]
  },
  {
   "cell_type": "code",
   "execution_count": 158,
   "id": "71ad7db9-c086-429e-bb64-b7106a7fdfc6",
   "metadata": {},
   "outputs": [
    {
     "data": {
      "text/plain": [
       "[2, 4, 6, 8, 10]"
      ]
     },
     "execution_count": 158,
     "metadata": {},
     "output_type": "execute_result"
    }
   ],
   "source": [
    "list4"
   ]
  },
  {
   "cell_type": "code",
   "execution_count": 159,
   "id": "3b879d3a-4868-4f0c-9263-f4f2ef278e80",
   "metadata": {},
   "outputs": [],
   "source": [
    "# List Comprehension That Processes Another List’s Elements \n",
    "colors = ['red', 'orange', 'yellow', 'green', 'blue']"
   ]
  },
  {
   "cell_type": "code",
   "execution_count": 160,
   "id": "b697bbbb-cc77-4ea0-8464-9349a2523115",
   "metadata": {},
   "outputs": [],
   "source": [
    "colors2 = [item.upper() for item in colors]"
   ]
  },
  {
   "cell_type": "code",
   "execution_count": 161,
   "id": "c35381e0-69c0-4bc5-83ab-d60edc46d13e",
   "metadata": {},
   "outputs": [
    {
     "data": {
      "text/plain": [
       "['RED', 'ORANGE', 'YELLOW', 'GREEN', 'BLUE']"
      ]
     },
     "execution_count": 161,
     "metadata": {},
     "output_type": "execute_result"
    }
   ],
   "source": [
    "colors2"
   ]
  },
  {
   "cell_type": "code",
   "execution_count": 162,
   "id": "db70d413-c0fc-4940-bbe6-fef8b0d7dbb1",
   "metadata": {},
   "outputs": [
    {
     "data": {
      "text/plain": [
       "['red', 'orange', 'yellow', 'green', 'blue']"
      ]
     },
     "execution_count": 162,
     "metadata": {},
     "output_type": "execute_result"
    }
   ],
   "source": [
    "colors"
   ]
  },
  {
   "cell_type": "markdown",
   "id": "5881321e-3e1a-4c15-9a0c-77ec3c689de2",
   "metadata": {},
   "source": [
    "Self Check 3 of 5.12 by DeeDee Walker"
   ]
  },
  {
   "cell_type": "code",
   "execution_count": 163,
   "id": "fa7f040d-917c-4a7a-b2cf-b8299aa52814",
   "metadata": {},
   "outputs": [],
   "source": [
    "cubes = [(x, x ** 3) for x in range(1, 6)] # use a list comprehension to create a list of tuples containing the numbers 1-5 and their cubes"
   ]
  },
  {
   "cell_type": "code",
   "execution_count": 164,
   "id": "6be00ae5-2497-40ce-b6fc-b9331bba09f5",
   "metadata": {},
   "outputs": [
    {
     "data": {
      "text/plain": [
       "[(1, 1), (2, 8), (3, 27), (4, 64), (5, 125)]"
      ]
     },
     "execution_count": 164,
     "metadata": {},
     "output_type": "execute_result"
    }
   ],
   "source": [
    "cubes"
   ]
  },
  {
   "cell_type": "markdown",
   "id": "6b3d7f56-8421-4b4e-a21d-46fc40490225",
   "metadata": {},
   "source": [
    "Self Check 4 of 5.12 by DeeDee Walker"
   ]
  },
  {
   "cell_type": "code",
   "execution_count": 165,
   "id": "11ef1119-d78c-4f82-94aa-ad994905e35e",
   "metadata": {},
   "outputs": [],
   "source": [
    "multiples = [x for x in range(3, 30, 3)] #use a list comprehension and the range function with a step to create a list of the multiples of 3 that are less than 30"
   ]
  },
  {
   "cell_type": "code",
   "execution_count": 166,
   "id": "c0b0c667-e11a-45e8-b2d9-edb8d9ddd6e3",
   "metadata": {},
   "outputs": [
    {
     "data": {
      "text/plain": [
       "[3, 6, 9, 12, 15, 18, 21, 24, 27]"
      ]
     },
     "execution_count": 166,
     "metadata": {},
     "output_type": "execute_result"
    }
   ],
   "source": [
    "multiples"
   ]
  },
  {
   "cell_type": "markdown",
   "id": "46c87e74-41e5-4135-8008-585df0db1412",
   "metadata": {},
   "source": [
    "### 5.14 Filter, Map and Reduce - Practice by DeeDee Walker"
   ]
  },
  {
   "cell_type": "markdown",
   "id": "753dc0fc-6fa7-4712-b313-e0ace5d9af59",
   "metadata": {},
   "source": [
    "Python functions are objects that you can assign to variables, pass to other functions and return from functions."
   ]
  },
  {
   "cell_type": "markdown",
   "id": "ba643172-13fe-4bcf-a55e-643c4a0930a2",
   "metadata": {},
   "source": [
    "Functions that receive other functions as arguments are a functional style capability called higher-order functions"
   ]
  },
  {
   "cell_type": "markdown",
   "id": "c0a52cba-db50-4f3c-a260-231c88ec7c64",
   "metadata": {},
   "source": [
    "built-in filter"
   ]
  },
  {
   "cell_type": "code",
   "execution_count": 167,
   "id": "a6be029e-a9c2-4a57-88e5-a53ce45201d5",
   "metadata": {},
   "outputs": [],
   "source": [
    "numbers = [10, 3, 7, 1, 9, 4, 2, 8, 5, 6]"
   ]
  },
  {
   "cell_type": "code",
   "execution_count": 168,
   "id": "02dafaa6-eb8e-4e67-b0e4-91d97dc2b78d",
   "metadata": {},
   "outputs": [],
   "source": [
    "def is_odd(x):\n",
    "    \"\"\"Returns True only if x is odd.\"\"\"\n",
    "    return x % 2 != 0"
   ]
  },
  {
   "cell_type": "code",
   "execution_count": 169,
   "id": "6935d5e5-2d0d-4321-9462-e52888aeb1cd",
   "metadata": {},
   "outputs": [
    {
     "data": {
      "text/plain": [
       "[3, 7, 1, 9, 5]"
      ]
     },
     "execution_count": 169,
     "metadata": {},
     "output_type": "execute_result"
    }
   ],
   "source": [
    "list(filter(is_odd, numbers)) #filters 1st argument must be a function that receives one argument and returns True if the value should be included in the result. The 1st argument is called for each vlaue in the 2nd argument's iterable. Higher order functions may also return a function as a result."
   ]
  },
  {
   "cell_type": "code",
   "execution_count": 170,
   "id": "440d629a-3ab8-4704-9815-615cab1abf79",
   "metadata": {},
   "outputs": [
    {
     "data": {
      "text/plain": [
       "[3, 7, 1, 9, 5]"
      ]
     },
     "execution_count": 170,
     "metadata": {},
     "output_type": "execute_result"
    }
   ],
   "source": [
    "[item for item in numbers if is_odd(item)] #list comprehension with an if clause"
   ]
  },
  {
   "cell_type": "markdown",
   "id": "d5834491-68a6-4a07-87fd-44d0452bcc6c",
   "metadata": {},
   "source": [
    "A lambda expression is an anonymous function , function without a name. A lambda begins with the keyword lambda followed by a comme-seperated parameter list a colon (:) and an expression. A lambda implicity returns its expression's value. Any simple function of form\n",
    "def function_name(parameter_list):\n",
    "    return expression\n",
    "may be expressed as lambda parameter_list: expression"
   ]
  },
  {
   "cell_type": "code",
   "execution_count": 171,
   "id": "ce1c83ab-4e5e-4679-886d-672c18141838",
   "metadata": {},
   "outputs": [
    {
     "data": {
      "text/plain": [
       "[3, 7, 1, 9, 5]"
      ]
     },
     "execution_count": 171,
     "metadata": {},
     "output_type": "execute_result"
    }
   ],
   "source": [
    "# Using a lambda Rather than a Function \n",
    "list(filter(lambda x: x % 2 != 0, numbers))"
   ]
  },
  {
   "cell_type": "markdown",
   "id": "8c161c23-5065-411b-ab8d-ac14aad3ce27",
   "metadata": {},
   "source": [
    "bult in map: 1st argument is a function that receives one value and returns a new value. 2nd argument is an iterable of values to map."
   ]
  },
  {
   "cell_type": "code",
   "execution_count": 172,
   "id": "56bd70f8-491a-4dbb-bff9-a8c3524e3093",
   "metadata": {},
   "outputs": [
    {
     "data": {
      "text/plain": [
       "[10, 3, 7, 1, 9, 4, 2, 8, 5, 6]"
      ]
     },
     "execution_count": 172,
     "metadata": {},
     "output_type": "execute_result"
    }
   ],
   "source": [
    "# Mapping a Sequence’s Values to New Values\n",
    "numbers"
   ]
  },
  {
   "cell_type": "code",
   "execution_count": 173,
   "id": "52bcd4b2-edfb-4a76-b06d-f33520699e8a",
   "metadata": {},
   "outputs": [
    {
     "data": {
      "text/plain": [
       "[100, 9, 49, 1, 81, 16, 4, 64, 25, 36]"
      ]
     },
     "execution_count": 173,
     "metadata": {},
     "output_type": "execute_result"
    }
   ],
   "source": [
    "list(map(lambda x: x ** 2, numbers))"
   ]
  },
  {
   "cell_type": "code",
   "execution_count": 174,
   "id": "ec601509-744f-4a69-86f7-e76b309c0c80",
   "metadata": {},
   "outputs": [
    {
     "data": {
      "text/plain": [
       "[100, 9, 49, 1, 81, 16, 4, 64, 25, 36]"
      ]
     },
     "execution_count": 174,
     "metadata": {},
     "output_type": "execute_result"
    }
   ],
   "source": [
    "[item ** 2 for item in numbers] # equivalent to above as list comprehension"
   ]
  },
  {
   "cell_type": "code",
   "execution_count": 175,
   "id": "8631d2c3-b45f-4202-bc74-f8bd98da0fba",
   "metadata": {},
   "outputs": [
    {
     "data": {
      "text/plain": [
       "[9, 49, 1, 81, 25]"
      ]
     },
     "execution_count": 175,
     "metadata": {},
     "output_type": "execute_result"
    }
   ],
   "source": [
    "# Combining filter and map\n",
    "list(map(lambda x: x ** 2, \n",
    "         filter(lambda x: x % 2 != 0, numbers))) #filter returns an iterable representing the squares of the filtered values.List uses map's iterable to create the list."
   ]
  },
  {
   "cell_type": "code",
   "execution_count": 176,
   "id": "053cd27a-7576-4c55-8b04-38a986f771ee",
   "metadata": {},
   "outputs": [
    {
     "data": {
      "text/plain": [
       "[9, 49, 1, 81, 25]"
      ]
     },
     "execution_count": 176,
     "metadata": {},
     "output_type": "execute_result"
    }
   ],
   "source": [
    "[x ** 2 for x in numbers if x % 2 != 0] # same as above as list comprehension"
   ]
  },
  {
   "cell_type": "markdown",
   "id": "52aa9b50-f7dc-410b-9601-0b1042fa3d4b",
   "metadata": {},
   "source": [
    "Custom reductions can be created using the functools module's reduce function"
   ]
  },
  {
   "cell_type": "markdown",
   "id": "38071900-c9b2-4878-b147-e5e49d69cae2",
   "metadata": {},
   "source": [
    "Self Check 3 of 5.14 by DeeDee Walker"
   ]
  },
  {
   "cell_type": "code",
   "execution_count": 177,
   "id": "ab6c5a6c-9943-4bad-862f-b4fdb0234ab9",
   "metadata": {},
   "outputs": [],
   "source": [
    "numbers = list(range(1, 16)) # create a list called numbers containing 1 through 15"
   ]
  },
  {
   "cell_type": "code",
   "execution_count": 178,
   "id": "aa3be12e-ddb9-485b-ba11-abf11140c96b",
   "metadata": {},
   "outputs": [
    {
     "data": {
      "text/plain": [
       "[1, 2, 3, 4, 5, 6, 7, 8, 9, 10, 11, 12, 13, 14, 15]"
      ]
     },
     "execution_count": 178,
     "metadata": {},
     "output_type": "execute_result"
    }
   ],
   "source": [
    "numbers"
   ]
  },
  {
   "cell_type": "code",
   "execution_count": 179,
   "id": "fe6827ad-9a8e-4925-8ccd-e7af60a14053",
   "metadata": {},
   "outputs": [
    {
     "data": {
      "text/plain": [
       "[2, 4, 6, 8, 10, 12, 14]"
      ]
     },
     "execution_count": 179,
     "metadata": {},
     "output_type": "execute_result"
    }
   ],
   "source": [
    "list(filter(lambda x: x % 2 == 0, numbers)) # use built in function filter with a lambda to select only numbers' even elements. Create a new list contianing the results."
   ]
  },
  {
   "cell_type": "code",
   "execution_count": 180,
   "id": "04643e2f-8be8-4f1e-9c3e-d16d2be47d26",
   "metadata": {},
   "outputs": [
    {
     "data": {
      "text/plain": [
       "[1, 4, 9, 16, 25, 36, 49, 64, 81, 100, 121, 144, 169, 196, 225]"
      ]
     },
     "execution_count": 180,
     "metadata": {},
     "output_type": "execute_result"
    }
   ],
   "source": [
    "list(map(lambda x: x ** 2, numbers))#use the buitt in function map with a lambda to square the values of numbers' elements. Create a new list containing the result."
   ]
  },
  {
   "cell_type": "code",
   "execution_count": 181,
   "id": "aad4da94-cf04-43d7-a74c-8e9a1c206404",
   "metadata": {},
   "outputs": [
    {
     "data": {
      "text/plain": [
       "[4, 16, 36, 64, 100, 144, 196]"
      ]
     },
     "execution_count": 181,
     "metadata": {},
     "output_type": "execute_result"
    }
   ],
   "source": [
    "list(map(lambda x: x**2, filter(lambda x: x % 2 == 0, numbers)))#filter numbers' even elements, then map them to their squares. Create a ne wlist containing the result."
   ]
  },
  {
   "cell_type": "markdown",
   "id": "f3d704b4-e2f3-44ca-ba83-b37d2922570a",
   "metadata": {},
   "source": [
    "Self Check 4 of 5.14 by DeeDee Walker"
   ]
  },
  {
   "cell_type": "code",
   "execution_count": 182,
   "id": "329b65e8-bc1f-44e1-8010-dd499be27386",
   "metadata": {},
   "outputs": [],
   "source": [
    "fahrenheit = [41, 32, 212] #Map a list of three Farenheit temperatures 41,32,212 to a list of tuples containing the Fahrenheit temperatues and their Celsius equivalents."
   ]
  },
  {
   "cell_type": "code",
   "execution_count": 183,
   "id": "b900c3f4-21c5-4f7e-ad7b-c3c405c8faba",
   "metadata": {},
   "outputs": [
    {
     "data": {
      "text/plain": [
       "[(41, 5.0), (32, 0.0), (212, 100.0)]"
      ]
     },
     "execution_count": 183,
     "metadata": {},
     "output_type": "execute_result"
    }
   ],
   "source": [
    "list(map(lambda x: (x, (x - 32) * 5 / 9), fahrenheit)) # the lambda's expression uses parentheses to create a tuple containing the original Fehrenheight temp (x) and the corresponding Celsius temp"
   ]
  },
  {
   "cell_type": "markdown",
   "id": "6142734d-5cac-4f6c-8d4b-b451d7c2e2ba",
   "metadata": {},
   "source": [
    "### 5.16 Two-Dimensional Lists - Practice by DeeDee Walker"
   ]
  },
  {
   "cell_type": "markdown",
   "id": "19e1ccb2-d422-434d-9b99-5f4e0117a139",
   "metadata": {},
   "source": [
    "Lists can contain other lists as elements. Typical use is to represent tables (rows & columns) of values. Toidentify a particular table element, we specify two indices (row & column). These are referred to as two-dimensional lists, double-indexed lists, or double subscripted lists."
   ]
  },
  {
   "cell_type": "markdown",
   "id": "20601aa3-d7f2-4e60-b5fa-529da10a4590",
   "metadata": {},
   "source": [
    "Can have more than two indices. These are called multidimensional lists"
   ]
  },
  {
   "cell_type": "code",
   "execution_count": 184,
   "id": "a62d7385-730e-460d-8cf3-847e96bcc200",
   "metadata": {},
   "outputs": [],
   "source": [
    "# Creating a Two-Dimensional List\n",
    "a = [[77, 68, 86, 73], [96, 87, 89, 81], [70, 90, 86, 81]]"
   ]
  },
  {
   "cell_type": "code",
   "execution_count": 185,
   "id": "381d09b4-6b81-43cb-b904-1a3ecccdca9e",
   "metadata": {},
   "outputs": [
    {
     "name": "stdout",
     "output_type": "stream",
     "text": [
      "77 68 86 73 \n",
      "96 87 89 81 \n",
      "70 90 86 81 \n"
     ]
    }
   ],
   "source": [
    "# Illustrating a Two-Dimensional List\n",
    "# outputs the rows of the preceding two-dimensional list one row at a time\n",
    "for row in a:\n",
    "    for item in row:\n",
    "        print(item, end=' ')\n",
    "    print()"
   ]
  },
  {
   "cell_type": "markdown",
   "id": "e90cef95-97ba-4b32-82bc-a3c0c833b2f0",
   "metadata": {},
   "source": [
    "77, 68, 86 and 73 initialize a[0][0], a[0][1], a[0][2] and a[0][3] # Identifying the Elements in a Two-Dimensional List"
   ]
  },
  {
   "cell_type": "markdown",
   "id": "c9bdeea7-8ebd-4cef-9753-4bae9cf398f2",
   "metadata": {},
   "source": [
    "A list with m rows and n columns is called an m-by-n list and has m x n elements."
   ]
  },
  {
   "cell_type": "code",
   "execution_count": 186,
   "id": "206211e5-5376-44e4-8be5-ee7625c980fe",
   "metadata": {},
   "outputs": [
    {
     "name": "stdout",
     "output_type": "stream",
     "text": [
      "a[0][0]=77  a[0][1]=68  a[0][2]=86  a[0][3]=73  \n",
      "a[1][0]=96  a[1][1]=87  a[1][2]=89  a[1][3]=81  \n",
      "a[2][0]=70  a[2][1]=90  a[2][2]=86  a[2][3]=81  \n"
     ]
    }
   ],
   "source": [
    "# How the Nested Loops Execute\n",
    "for i, row in enumerate(a):\n",
    "    for j, item in enumerate(row):\n",
    "        print(f'a[{i}][{j}]={item} ', end=' ')\n",
    "    print()"
   ]
  },
  {
   "cell_type": "markdown",
   "id": "75e6f8cf-dbd9-4f51-ac6c-0bd16ff9a6f6",
   "metadata": {},
   "source": [
    "Self Check 4 of 5.16 by DeeDee Walker"
   ]
  },
  {
   "cell_type": "code",
   "execution_count": 187,
   "id": "0f9c22d9-c3a8-4fd2-bb8a-b65cf84ffed6",
   "metadata": {},
   "outputs": [],
   "source": [
    "t = [[10, 7, 3], [20, 4, 17]]"
   ]
  },
  {
   "cell_type": "code",
   "execution_count": 188,
   "id": "b32fd3c1-450d-49f0-b05b-8ecd7ac4cb32",
   "metadata": {},
   "outputs": [],
   "source": [
    "total = 0"
   ]
  },
  {
   "cell_type": "code",
   "execution_count": 189,
   "id": "60345173-d759-44f2-a60d-3b4b0960044e",
   "metadata": {},
   "outputs": [],
   "source": [
    "items = 0"
   ]
  },
  {
   "cell_type": "code",
   "execution_count": 190,
   "id": "f7d2e8fe-d85a-4d43-9f10-a91924b2cb42",
   "metadata": {},
   "outputs": [],
   "source": [
    "#determine and display the average of t's elements using nested for statements to iterate through the elements\n",
    "for row in t:\n",
    "    for item in row:\n",
    "        total += item\n",
    "        items += 1 "
   ]
  },
  {
   "cell_type": "code",
   "execution_count": 191,
   "id": "91c95a86-ae04-4a5a-a9f1-fc7aff38ecf1",
   "metadata": {},
   "outputs": [
    {
     "data": {
      "text/plain": [
       "10.166666666666666"
      ]
     },
     "execution_count": 191,
     "metadata": {},
     "output_type": "execute_result"
    }
   ],
   "source": [
    "total / items"
   ]
  },
  {
   "cell_type": "code",
   "execution_count": 192,
   "id": "878da377-ddb6-4647-96cc-ce7699ec904f",
   "metadata": {},
   "outputs": [],
   "source": [
    "total = 0"
   ]
  },
  {
   "cell_type": "code",
   "execution_count": 193,
   "id": "2ae087f0-150d-4a80-89ad-88253925b0c1",
   "metadata": {},
   "outputs": [],
   "source": [
    "items = 0"
   ]
  },
  {
   "cell_type": "code",
   "execution_count": 194,
   "id": "a2d8c1cd-fa79-4cfe-889e-05f5f42ee25b",
   "metadata": {},
   "outputs": [],
   "source": [
    "#determines and displays the average of t's elements using the reductions sum & len to calculate the sum of each rows's elements and number of elements in each row\n",
    "for row in t:\n",
    "    total += sum(row)\n",
    "    items += len(row)"
   ]
  },
  {
   "cell_type": "code",
   "execution_count": 195,
   "id": "0bf403a7-1b42-4b5e-99e7-92b0ee5ebc9e",
   "metadata": {},
   "outputs": [
    {
     "data": {
      "text/plain": [
       "10.166666666666666"
      ]
     },
     "execution_count": 195,
     "metadata": {},
     "output_type": "execute_result"
    }
   ],
   "source": [
    "total / items"
   ]
  }
 ],
 "metadata": {
  "kernelspec": {
   "display_name": "Python 3 (ipykernel)",
   "language": "python",
   "name": "python3"
  },
  "language_info": {
   "codemirror_mode": {
    "name": "ipython",
    "version": 3
   },
   "file_extension": ".py",
   "mimetype": "text/x-python",
   "name": "python",
   "nbconvert_exporter": "python",
   "pygments_lexer": "ipython3",
   "version": "3.9.12"
  }
 },
 "nbformat": 4,
 "nbformat_minor": 5
}

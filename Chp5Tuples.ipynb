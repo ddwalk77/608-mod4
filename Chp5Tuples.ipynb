{
 "cells": [
  {
   "cell_type": "markdown",
   "id": "89b675d1-729b-40fc-87ec-00c5711c9b0f",
   "metadata": {},
   "source": [
    "### Chapter 5 Practice - by DeeDee Walker"
   ]
  },
  {
   "cell_type": "markdown",
   "id": "c2db8eaa-6de8-4b95-8a12-4732eee58fa2",
   "metadata": {},
   "source": [
    "#### 5.3 Tuples - Practice by DeeDee Walker"
   ]
  },
  {
   "cell_type": "markdown",
   "id": "ac8dafa3-12a2-472d-9660-63edf24b21b7",
   "metadata": {},
   "source": [
    "Create empty tuple with empty parentheses"
   ]
  },
  {
   "cell_type": "code",
   "execution_count": 1,
   "id": "7c4dda7c-6c28-46aa-b788-63ffa7851a37",
   "metadata": {},
   "outputs": [],
   "source": [
    "student_tuple = ()"
   ]
  },
  {
   "cell_type": "code",
   "execution_count": 2,
   "id": "f6c42316-9e60-4431-8ad8-002c62772be3",
   "metadata": {},
   "outputs": [
    {
     "data": {
      "text/plain": [
       "()"
      ]
     },
     "execution_count": 2,
     "metadata": {},
     "output_type": "execute_result"
    }
   ],
   "source": [
    "student_tuple"
   ]
  },
  {
   "cell_type": "code",
   "execution_count": 3,
   "id": "524c602f-7e51-4a69-9184-9b94d9c5b702",
   "metadata": {},
   "outputs": [
    {
     "data": {
      "text/plain": [
       "0"
      ]
     },
     "execution_count": 3,
     "metadata": {},
     "output_type": "execute_result"
    }
   ],
   "source": [
    "len(student_tuple)"
   ]
  },
  {
   "cell_type": "markdown",
   "id": "6677af76-c781-4a92-a1a7-41bb2fb5f5a4",
   "metadata": {},
   "source": [
    "You can pack a tuple by separating values with commas"
   ]
  },
  {
   "cell_type": "code",
   "execution_count": 4,
   "id": "aa099ce5-6652-4671-a9fa-9cb6816877aa",
   "metadata": {},
   "outputs": [],
   "source": [
    "student_tuple = 'John', 'Green', 3.3"
   ]
  },
  {
   "cell_type": "code",
   "execution_count": 5,
   "id": "3fa29af4-ae85-473b-92ec-59833548f37e",
   "metadata": {},
   "outputs": [
    {
     "data": {
      "text/plain": [
       "('John', 'Green', 3.3)"
      ]
     },
     "execution_count": 5,
     "metadata": {},
     "output_type": "execute_result"
    }
   ],
   "source": [
    "student_tuple"
   ]
  },
  {
   "cell_type": "code",
   "execution_count": 6,
   "id": "09e9e8c9-ccb0-449e-99c5-da9613fe92c6",
   "metadata": {},
   "outputs": [
    {
     "data": {
      "text/plain": [
       "3"
      ]
     },
     "execution_count": 6,
     "metadata": {},
     "output_type": "execute_result"
    }
   ],
   "source": [
    "len(student_tuple)"
   ]
  },
  {
   "cell_type": "markdown",
   "id": "a3dbeec2-66e8-4c56-90a2-fc9e108ac112",
   "metadata": {},
   "source": [
    "Python always displays the contents of a tuple in parentheses, but you can add parentheses to the comma separated list if you wish"
   ]
  },
  {
   "cell_type": "code",
   "execution_count": 7,
   "id": "3ae03dad-d7a3-4c9b-ad79-0569bfdde9cc",
   "metadata": {},
   "outputs": [],
   "source": [
    "another_student_tuple = ('Mary','Red',3.3)"
   ]
  },
  {
   "cell_type": "code",
   "execution_count": 8,
   "id": "8820f8a0-1923-4b5a-9115-d0da82d10d2e",
   "metadata": {},
   "outputs": [
    {
     "data": {
      "text/plain": [
       "('Mary', 'Red', 3.3)"
      ]
     },
     "execution_count": 8,
     "metadata": {},
     "output_type": "execute_result"
    }
   ],
   "source": [
    "another_student_tuple"
   ]
  },
  {
   "cell_type": "markdown",
   "id": "b6edda50-fd4f-4ee8-856a-31e78a442f0f",
   "metadata": {},
   "source": [
    "This is a one element tuple, note the comma with nothing after. The comma signifies it is a tuple, otherwise it would read as a string"
   ]
  },
  {
   "cell_type": "code",
   "execution_count": 9,
   "id": "e9532058-f5ae-4fde-bd3d-c43cfcf83549",
   "metadata": {},
   "outputs": [],
   "source": [
    "a_singleton_tuple = ('red',)"
   ]
  },
  {
   "cell_type": "code",
   "execution_count": 10,
   "id": "f4d50eb9-b0dc-4a2f-81eb-94aa6a4625b3",
   "metadata": {},
   "outputs": [
    {
     "data": {
      "text/plain": [
       "('red',)"
      ]
     },
     "execution_count": 10,
     "metadata": {},
     "output_type": "execute_result"
    }
   ],
   "source": [
    "a_singleton_tuple"
   ]
  },
  {
   "cell_type": "markdown",
   "id": "c8f3967f-8fed-45eb-bdef-bb7248c46557",
   "metadata": {},
   "source": [
    "Tuple elements can be accessed individually. Like list, the indices start at 0"
   ]
  },
  {
   "cell_type": "markdown",
   "id": "a73f9275-9ef9-4d53-8277-a144668c8bfb",
   "metadata": {},
   "source": [
    "....continued notes & practice by DeeDee Walker"
   ]
  },
  {
   "cell_type": "code",
   "execution_count": 11,
   "id": "c10ea162-64c8-4de7-bd9a-763e7773199f",
   "metadata": {},
   "outputs": [],
   "source": [
    "time_tuple = (9,16,1) # notes hour, minute, second"
   ]
  },
  {
   "cell_type": "code",
   "execution_count": 12,
   "id": "c10deebd-05d6-46d3-8907-b91a43b44cd0",
   "metadata": {},
   "outputs": [
    {
     "data": {
      "text/plain": [
       "(9, 16, 1)"
      ]
     },
     "execution_count": 12,
     "metadata": {},
     "output_type": "execute_result"
    }
   ],
   "source": [
    "time_tuple"
   ]
  },
  {
   "cell_type": "code",
   "execution_count": 13,
   "id": "a8d12524-8341-4eb2-8e1a-a09626514a82",
   "metadata": {},
   "outputs": [
    {
     "data": {
      "text/plain": [
       "33361"
      ]
     },
     "execution_count": 13,
     "metadata": {},
     "output_type": "execute_result"
    }
   ],
   "source": [
    "time_tuple[0] * 3600 + time_tuple[1] * 60 + time_tuple[2] #calculate the number of seconds since midnight"
   ]
  },
  {
   "cell_type": "markdown",
   "id": "95d7f168-4263-45d2-b4d8-80555d137c09",
   "metadata": {},
   "source": [
    "Although immutable, the += augmented assignment statment can be used with strings & tubles and to append a list"
   ]
  },
  {
   "cell_type": "code",
   "execution_count": 14,
   "id": "1c956e0e-aefb-4713-befb-a32625f3949e",
   "metadata": {},
   "outputs": [],
   "source": [
    "tuple1 = (10,20,30)"
   ]
  },
  {
   "cell_type": "code",
   "execution_count": 15,
   "id": "37ba1bcd-22d0-4ec0-b563-ea5ef64b0cb0",
   "metadata": {},
   "outputs": [],
   "source": [
    "tuple2 = tuple1"
   ]
  },
  {
   "cell_type": "code",
   "execution_count": 16,
   "id": "c0ae75ab-841a-4eb4-829a-355ae13313d8",
   "metadata": {},
   "outputs": [
    {
     "data": {
      "text/plain": [
       "(10, 20, 30)"
      ]
     },
     "execution_count": 16,
     "metadata": {},
     "output_type": "execute_result"
    }
   ],
   "source": [
    "tuple2"
   ]
  },
  {
   "cell_type": "code",
   "execution_count": 17,
   "id": "8943dead-6202-4d2b-933c-16b09e55c555",
   "metadata": {},
   "outputs": [],
   "source": [
    "tuple1 += (40,50)"
   ]
  },
  {
   "cell_type": "code",
   "execution_count": 18,
   "id": "2ce6636c-b9d7-4c16-83bf-815c4896337a",
   "metadata": {},
   "outputs": [
    {
     "data": {
      "text/plain": [
       "(10, 20, 30, 40, 50)"
      ]
     },
     "execution_count": 18,
     "metadata": {},
     "output_type": "execute_result"
    }
   ],
   "source": [
    "tuple1"
   ]
  },
  {
   "cell_type": "code",
   "execution_count": 19,
   "id": "e71e86d3-abac-4d08-92cd-769075b545a5",
   "metadata": {},
   "outputs": [
    {
     "data": {
      "text/plain": [
       "(10, 20, 30)"
      ]
     },
     "execution_count": 19,
     "metadata": {},
     "output_type": "execute_result"
    }
   ],
   "source": [
    "tuple2"
   ]
  },
  {
   "cell_type": "code",
   "execution_count": 20,
   "id": "ee28d3b9-ba85-48cb-a76e-39cf46a926a9",
   "metadata": {},
   "outputs": [],
   "source": [
    "numbers = [1,2,3,4,5]"
   ]
  },
  {
   "cell_type": "code",
   "execution_count": 21,
   "id": "bc32f290-2543-4993-80b4-6f339b84f52d",
   "metadata": {},
   "outputs": [],
   "source": [
    "numbers += (6,7)"
   ]
  },
  {
   "cell_type": "code",
   "execution_count": 22,
   "id": "b4857126-db0a-48a0-a2c2-d8c75755e0ad",
   "metadata": {},
   "outputs": [
    {
     "data": {
      "text/plain": [
       "[1, 2, 3, 4, 5, 6, 7]"
      ]
     },
     "execution_count": 22,
     "metadata": {},
     "output_type": "execute_result"
    }
   ],
   "source": [
    "numbers"
   ]
  },
  {
   "cell_type": "markdown",
   "id": "80db2b2a-0550-4caa-8069-a06033dda90c",
   "metadata": {},
   "source": [
    "Tuples may contain mutable objects. Even though a tuple is immutable, its elements are mutable"
   ]
  },
  {
   "cell_type": "code",
   "execution_count": 23,
   "id": "60a24399-aa01-451a-9e75-1bdd3c7eb386",
   "metadata": {},
   "outputs": [],
   "source": [
    "student_tuple = ('Amanda', 'Blue', [98, 75, 87])"
   ]
  },
  {
   "cell_type": "code",
   "execution_count": 24,
   "id": "78e17f9e-053d-4eb2-a024-37d2b170c9f0",
   "metadata": {},
   "outputs": [],
   "source": [
    "student_tuple[2][1] = 85"
   ]
  },
  {
   "cell_type": "code",
   "execution_count": 25,
   "id": "149f22b1-a110-439b-814c-9a4c04eeda71",
   "metadata": {},
   "outputs": [
    {
     "data": {
      "text/plain": [
       "('Amanda', 'Blue', [98, 85, 87])"
      ]
     },
     "execution_count": 25,
     "metadata": {},
     "output_type": "execute_result"
    }
   ],
   "source": [
    "student_tuple"
   ]
  },
  {
   "cell_type": "markdown",
   "id": "47beba0b-814d-4bc6-a447-723b762ea0b0",
   "metadata": {},
   "source": [
    "Self-Check 3 of 5.3 by DeeDee Walker"
   ]
  },
  {
   "cell_type": "code",
   "execution_count": 26,
   "id": "9ea0bc87-0ef8-4ecd-9430-21e3fb9aa4ef",
   "metadata": {},
   "outputs": [],
   "source": [
    "single = (123.45,)"
   ]
  },
  {
   "cell_type": "code",
   "execution_count": 27,
   "id": "cc41a5f2-7223-4faa-9878-1066dcdd6c26",
   "metadata": {},
   "outputs": [
    {
     "data": {
      "text/plain": [
       "(123.45,)"
      ]
     },
     "execution_count": 27,
     "metadata": {},
     "output_type": "execute_result"
    }
   ],
   "source": [
    "single"
   ]
  },
  {
   "cell_type": "markdown",
   "id": "f57c47ff-3789-4404-af0f-5b7f1b554673",
   "metadata": {},
   "source": [
    "Self-Check 4 of 5.3 by DeeDee Walker - You get a type error when you try to concatenate sequences of diffrent types - Example: list & a tuple using +"
   ]
  },
  {
   "cell_type": "code",
   "execution_count": 28,
   "id": "e469ab9b-a7ef-4d9c-927d-5b37c227cd21",
   "metadata": {},
   "outputs": [
    {
     "ename": "TypeError",
     "evalue": "can only concatenate list (not \"tuple\") to list",
     "output_type": "error",
     "traceback": [
      "\u001b[1;31m---------------------------------------------------------------------------\u001b[0m",
      "\u001b[1;31mTypeError\u001b[0m                                 Traceback (most recent call last)",
      "Input \u001b[1;32mIn [28]\u001b[0m, in \u001b[0;36m<cell line: 1>\u001b[1;34m()\u001b[0m\n\u001b[1;32m----> 1\u001b[0m \u001b[43m[\u001b[49m\u001b[38;5;241;43m1\u001b[39;49m\u001b[43m,\u001b[49m\u001b[38;5;241;43m2\u001b[39;49m\u001b[43m,\u001b[49m\u001b[38;5;241;43m3\u001b[39;49m\u001b[43m]\u001b[49m\u001b[43m \u001b[49m\u001b[38;5;241;43m+\u001b[39;49m\u001b[43m \u001b[49m\u001b[43m(\u001b[49m\u001b[38;5;241;43m4\u001b[39;49m\u001b[43m,\u001b[49m\u001b[38;5;241;43m5\u001b[39;49m\u001b[43m,\u001b[49m\u001b[38;5;241;43m6\u001b[39;49m\u001b[43m)\u001b[49m\n",
      "\u001b[1;31mTypeError\u001b[0m: can only concatenate list (not \"tuple\") to list"
     ]
    }
   ],
   "source": [
    "[1,2,3] + (4,5,6)"
   ]
  },
  {
   "cell_type": "markdown",
   "id": "b46e25fd-6297-44ad-b1c0-08ca8a6d1efa",
   "metadata": {},
   "source": [
    "#### 5.4 Unpacking Sequences by DeeDee Walker"
   ]
  },
  {
   "cell_type": "markdown",
   "id": "21a7ada6-9b1d-4f1e-8a53-137d84c08315",
   "metadata": {},
   "source": [
    "You can unpack any tuple, string, list, or sequence by assigning it's elements to a comma-separated list of variables"
   ]
  },
  {
   "cell_type": "markdown",
   "id": "f99235bf-7afa-4d25-9f56-4bb46b26a114",
   "metadata": {},
   "source": [
    "unpack a tuple"
   ]
  },
  {
   "cell_type": "code",
   "execution_count": 29,
   "id": "0b9893c8-40bf-4fca-a057-731075677afa",
   "metadata": {},
   "outputs": [],
   "source": [
    "student_tuple = ('Amanda', [98,85,87])"
   ]
  },
  {
   "cell_type": "code",
   "execution_count": 30,
   "id": "cd6fe4ad-7888-4e23-a525-8dd40c38cb4d",
   "metadata": {},
   "outputs": [],
   "source": [
    "first_name, grades = student_tuple"
   ]
  },
  {
   "cell_type": "code",
   "execution_count": 31,
   "id": "ad6b1dc0-95b0-4362-9750-c2c0429132ff",
   "metadata": {},
   "outputs": [
    {
     "data": {
      "text/plain": [
       "'Amanda'"
      ]
     },
     "execution_count": 31,
     "metadata": {},
     "output_type": "execute_result"
    }
   ],
   "source": [
    "first_name"
   ]
  },
  {
   "cell_type": "code",
   "execution_count": 32,
   "id": "922de324-a18b-4d91-8563-8e131a4e398c",
   "metadata": {},
   "outputs": [
    {
     "data": {
      "text/plain": [
       "[98, 85, 87]"
      ]
     },
     "execution_count": 32,
     "metadata": {},
     "output_type": "execute_result"
    }
   ],
   "source": [
    "grades"
   ]
  },
  {
   "cell_type": "markdown",
   "id": "5592297d-bd11-4b0b-bff6-bc6ed2070218",
   "metadata": {},
   "source": [
    "unpack a string"
   ]
  },
  {
   "cell_type": "code",
   "execution_count": 33,
   "id": "92e749ad-e4e0-409a-acb0-4bb3c2cbd507",
   "metadata": {},
   "outputs": [],
   "source": [
    "first, second = 'hi'"
   ]
  },
  {
   "cell_type": "code",
   "execution_count": 34,
   "id": "f40eb4a9-91c4-4a67-83f0-a380e2531c71",
   "metadata": {},
   "outputs": [
    {
     "name": "stdout",
     "output_type": "stream",
     "text": [
      "h i\n"
     ]
    }
   ],
   "source": [
    "print(f'{first} {second}')"
   ]
  },
  {
   "cell_type": "markdown",
   "id": "37f87770-10f4-4d61-b2e1-d12ef6c959a4",
   "metadata": {},
   "source": [
    "unpack a list"
   ]
  },
  {
   "cell_type": "code",
   "execution_count": 35,
   "id": "045458d6-f68a-45dc-9a6c-35f8ddde2baf",
   "metadata": {},
   "outputs": [],
   "source": [
    "number1, number2, number3 = [2,3,5]"
   ]
  },
  {
   "cell_type": "code",
   "execution_count": 36,
   "id": "d457aa10-a0e5-43bd-9425-f6eaca32a0ac",
   "metadata": {},
   "outputs": [
    {
     "name": "stdout",
     "output_type": "stream",
     "text": [
      "2 3 5\n"
     ]
    }
   ],
   "source": [
    "print(f'{number1} {number2} {number3}')"
   ]
  },
  {
   "cell_type": "markdown",
   "id": "778f3616-8aac-4eb4-b3cf-6eff33905c9a",
   "metadata": {},
   "source": [
    "unpack a sequence produced by range"
   ]
  },
  {
   "cell_type": "code",
   "execution_count": 37,
   "id": "b18909fe-9297-4ff8-9a9d-3de60b99d901",
   "metadata": {},
   "outputs": [],
   "source": [
    "number1, number2, number3 = range(10,40,10)"
   ]
  },
  {
   "cell_type": "code",
   "execution_count": 38,
   "id": "ab144dd8-364b-4fd2-9d96-c3327e09b636",
   "metadata": {},
   "outputs": [
    {
     "name": "stdout",
     "output_type": "stream",
     "text": [
      "10 20 30\n"
     ]
    }
   ],
   "source": [
    "print(f'{number1} {number2} {number3}')"
   ]
  },
  {
   "cell_type": "markdown",
   "id": "755b567f-e296-4f75-9e72-400a05067bc1",
   "metadata": {},
   "source": [
    "You can swap two variable values using sequence packing & unpacking"
   ]
  },
  {
   "cell_type": "markdown",
   "id": "17373321-4954-42c2-a39a-a9be6dfb01e8",
   "metadata": {},
   "source": [
    "......continued notes & practice by DeeDee Walker"
   ]
  },
  {
   "cell_type": "code",
   "execution_count": 39,
   "id": "a31210e8-5933-47f8-a3ac-d96207db971f",
   "metadata": {},
   "outputs": [],
   "source": [
    "number1 = 99"
   ]
  },
  {
   "cell_type": "code",
   "execution_count": 40,
   "id": "b42b2eba-462b-4d86-a7d1-25f53e5feebd",
   "metadata": {},
   "outputs": [],
   "source": [
    "number2 = 22"
   ]
  },
  {
   "cell_type": "code",
   "execution_count": 41,
   "id": "3e0b64da-3831-4210-802e-bc244196ffa8",
   "metadata": {},
   "outputs": [],
   "source": [
    "number1, number2 = (number2, number1)"
   ]
  },
  {
   "cell_type": "code",
   "execution_count": 42,
   "id": "a894e605-1371-4c7f-9898-ca9be4382636",
   "metadata": {},
   "outputs": [
    {
     "name": "stdout",
     "output_type": "stream",
     "text": [
      "number1 = 22; number2 = 99\n"
     ]
    }
   ],
   "source": [
    "print(f'number1 = {number1}; number2 = {number2}')"
   ]
  },
  {
   "cell_type": "markdown",
   "id": "aca44428-0d53-4aea-8205-26f3e7079e10",
   "metadata": {},
   "source": [
    "enumerate is a built-in function that is preferred for accessing an element's index and value. The function receives an iterable and creates an iterator that, for each element, returns a tuple containing the element's index and value"
   ]
  },
  {
   "cell_type": "markdown",
   "id": "bd9b8164-0180-4fee-b509-e6eca86c23f9",
   "metadata": {},
   "source": [
    "this uses built-in function lists to create a list containing enumerate's results"
   ]
  },
  {
   "cell_type": "code",
   "execution_count": 43,
   "id": "8244ab1b-d4dc-46fa-a7a3-ba83e4315a1e",
   "metadata": {},
   "outputs": [],
   "source": [
    "colors = ['red', 'orange', 'yellow']"
   ]
  },
  {
   "cell_type": "code",
   "execution_count": 44,
   "id": "2f730355-95de-4395-9748-8b383daa2ade",
   "metadata": {},
   "outputs": [
    {
     "data": {
      "text/plain": [
       "[(0, 'red'), (1, 'orange'), (2, 'yellow')]"
      ]
     },
     "execution_count": 44,
     "metadata": {},
     "output_type": "execute_result"
    }
   ],
   "source": [
    "list(enumerate(colors))"
   ]
  },
  {
   "cell_type": "markdown",
   "id": "3dc75e47-aac5-4913-ba9b-08a96015de93",
   "metadata": {},
   "source": [
    "built-in function tuple creates a tuple from a sequence"
   ]
  },
  {
   "cell_type": "code",
   "execution_count": 45,
   "id": "811db87e-a446-46c6-b938-c9fa4690c478",
   "metadata": {},
   "outputs": [
    {
     "data": {
      "text/plain": [
       "((0, 'red'), (1, 'orange'), (2, 'yellow'))"
      ]
     },
     "execution_count": 45,
     "metadata": {},
     "output_type": "execute_result"
    }
   ],
   "source": [
    "tuple(enumerate(colors))"
   ]
  },
  {
   "cell_type": "markdown",
   "id": "639ce4eb-d3ea-4766-b965-7871a264e946",
   "metadata": {},
   "source": [
    "This for loop unpacks each tuple returned by enumerate into the varaibles index & value and displays them:"
   ]
  },
  {
   "cell_type": "code",
   "execution_count": 46,
   "id": "8cd28793-d7b6-45bb-80cc-b594b1ab8b13",
   "metadata": {},
   "outputs": [
    {
     "name": "stdout",
     "output_type": "stream",
     "text": [
      "0: red\n",
      "1: orange\n",
      "2: yellow\n"
     ]
    }
   ],
   "source": [
    "for index, value in enumerate(colors):\n",
    "    print(f'{index}: {value}')"
   ]
  },
  {
   "cell_type": "markdown",
   "id": "972ab929-3129-47dd-b38d-0b7deb5066dd",
   "metadata": {},
   "source": [
    "Below: The for statement uses enumerate to get each element's index & value..........continued practice by DeeDee Walker"
   ]
  },
  {
   "cell_type": "code",
   "execution_count": 47,
   "id": "f0df2ff1-bb9b-41b8-bd1d-497f862bb508",
   "metadata": {},
   "outputs": [
    {
     "name": "stdout",
     "output_type": "stream",
     "text": [
      "\n",
      "Creating a bar chart from numbers:\n",
      "Index   Value   Bar\n",
      "    0      19   *******************\n",
      "    1       3   ***\n",
      "    2      15   ***************\n",
      "    3       7   *******\n",
      "    4      11   ***********\n"
     ]
    }
   ],
   "source": [
    "# fig05_01.py\n",
    "\"\"\"Displaying a bar chart\"\"\"\n",
    "numbers = [19, 3, 15, 7, 11]\n",
    "\n",
    "print('\\nCreating a bar chart from numbers:')\n",
    "print(f'Index{\"Value\":>8}   Bar')\n",
    "\n",
    "for index, value in enumerate(numbers):\n",
    "    print(f'{index:>5}{value:>8}   {\"*\" * value}')"
   ]
  },
  {
   "cell_type": "markdown",
   "id": "907d75b4-d7f5-429d-a382-d3de2d41120c",
   "metadata": {},
   "source": [
    "Self Check 2 of 5.4 by DeeDee Walker"
   ]
  },
  {
   "cell_type": "code",
   "execution_count": 48,
   "id": "f3507a9c-3afa-4c99-997c-659c063eaf4f",
   "metadata": {},
   "outputs": [
    {
     "data": {
      "text/plain": [
       "'----------'"
      ]
     },
     "execution_count": 48,
     "metadata": {},
     "output_type": "execute_result"
    }
   ],
   "source": [
    "'-' * 10"
   ]
  },
  {
   "cell_type": "markdown",
   "id": "4129249e-0f22-4967-a5be-79a0c88f57de",
   "metadata": {},
   "source": [
    "Self Check 3 of 5.4 by DeeDee Walker"
   ]
  },
  {
   "cell_type": "code",
   "execution_count": 49,
   "id": "c439fe4f-ed95-4f19-babf-0f2897645d3a",
   "metadata": {},
   "outputs": [],
   "source": [
    "high_low = ('Monday', 87, 65)"
   ]
  },
  {
   "cell_type": "code",
   "execution_count": 50,
   "id": "aee1bb7c-cb40-403a-8cda-50fb71f1a9c7",
   "metadata": {},
   "outputs": [
    {
     "data": {
      "text/plain": [
       "('Monday', 87, 65)"
      ]
     },
     "execution_count": 50,
     "metadata": {},
     "output_type": "execute_result"
    }
   ],
   "source": [
    "high_low"
   ]
  },
  {
   "cell_type": "code",
   "execution_count": 51,
   "id": "49acf6f4-37b3-4d92-90a6-e19c3a1004b4",
   "metadata": {},
   "outputs": [
    {
     "name": "stdout",
     "output_type": "stream",
     "text": [
      "Monday: High=87, Low=65\n"
     ]
    }
   ],
   "source": [
    "print(f'{high_low[0]}: High={high_low[1]}, Low={high_low[2]}')"
   ]
  },
  {
   "cell_type": "code",
   "execution_count": 52,
   "id": "a79adcfc-f305-4acc-999d-fe92a586652e",
   "metadata": {},
   "outputs": [
    {
     "ename": "ValueError",
     "evalue": "too many values to unpack (expected 2)",
     "output_type": "error",
     "traceback": [
      "\u001b[1;31m---------------------------------------------------------------------------\u001b[0m",
      "\u001b[1;31mValueError\u001b[0m                                Traceback (most recent call last)",
      "Input \u001b[1;32mIn [52]\u001b[0m, in \u001b[0;36m<cell line: 1>\u001b[1;34m()\u001b[0m\n\u001b[1;32m----> 1\u001b[0m day, high, \u001b[38;5;241m=\u001b[39m high_low\n",
      "\u001b[1;31mValueError\u001b[0m: too many values to unpack (expected 2)"
     ]
    }
   ],
   "source": [
    "day, high, = high_low #example showing you have to unpack all the elements"
   ]
  },
  {
   "cell_type": "code",
   "execution_count": 53,
   "id": "d9aa26e2-9ffe-401e-a6d3-72954879a00a",
   "metadata": {},
   "outputs": [],
   "source": [
    "day, high, low = high_low"
   ]
  },
  {
   "cell_type": "markdown",
   "id": "aaa15d00-ac6b-4ade-a704-7ce3a8cf3098",
   "metadata": {},
   "source": [
    "Self Check 4 of 5.4 by DeeDee Walker"
   ]
  },
  {
   "cell_type": "code",
   "execution_count": 54,
   "id": "6039c48a-9e30-4d8c-81f6-7b6729e825d6",
   "metadata": {},
   "outputs": [],
   "source": [
    "names = ['Amanda', 'Sam', 'David']"
   ]
  },
  {
   "cell_type": "code",
   "execution_count": 55,
   "id": "33ccecb5-b338-46b1-9013-554826a52b33",
   "metadata": {},
   "outputs": [
    {
     "name": "stdout",
     "output_type": "stream",
     "text": [
      "0: Amanda\n",
      "1: Sam\n",
      "2: David\n"
     ]
    }
   ],
   "source": [
    "for i, name in enumerate(names):\n",
    "    print(f'{i}: {name}')"
   ]
  }
 ],
 "metadata": {
  "kernelspec": {
   "display_name": "Python 3 (ipykernel)",
   "language": "python",
   "name": "python3"
  },
  "language_info": {
   "codemirror_mode": {
    "name": "ipython",
    "version": 3
   },
   "file_extension": ".py",
   "mimetype": "text/x-python",
   "name": "python",
   "nbconvert_exporter": "python",
   "pygments_lexer": "ipython3",
   "version": "3.9.12"
  }
 },
 "nbformat": 4,
 "nbformat_minor": 5
}

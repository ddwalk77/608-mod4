{
 "cells": [
  {
   "cell_type": "markdown",
   "id": "e7be4bd9-646d-4717-b0bd-99c4f863a760",
   "metadata": {},
   "source": [
    "### Chapter 6 - Dictionaries"
   ]
  },
  {
   "cell_type": "markdown",
   "id": "53e0e908-1d74-4d33-b9f1-15f3cc80a207",
   "metadata": {},
   "source": [
    "Dictionary is an unordered collection which stores key-value pairs that map immutable keys to values. A dictionary associates keys with values. Each key maps to a specific value."
   ]
  },
  {
   "cell_type": "markdown",
   "id": "626c29a3-87f3-442b-901f-2358eec9fb41",
   "metadata": {},
   "source": [
    "Dictionary's keys must be immutable and unique. Multiple keys can have the same value."
   ]
  },
  {
   "cell_type": "markdown",
   "id": "f19221ed-1745-4f51-93cf-538871ff0c47",
   "metadata": {},
   "source": [
    "Dictionary is created with curly brackets {}, a comma-separated list of key-value pairs (key:value). A dictionary can be empty."
   ]
  },
  {
   "cell_type": "code",
   "execution_count": 1,
   "id": "f5e58303-b485-4ad4-bc8c-1047b211a857",
   "metadata": {},
   "outputs": [],
   "source": [
    "#create a dictionary\n",
    "country_codes = {'Finland': 'fi', 'South Africa': 'za', \n",
    "                  'Nepal': 'np'}"
   ]
  },
  {
   "cell_type": "code",
   "execution_count": 2,
   "id": "3457ffa2-2f47-4b12-8611-5a1d0f1ebb3e",
   "metadata": {},
   "outputs": [
    {
     "data": {
      "text/plain": [
       "{'Finland': 'fi', 'South Africa': 'za', 'Nepal': 'np'}"
      ]
     },
     "execution_count": 2,
     "metadata": {},
     "output_type": "execute_result"
    }
   ],
   "source": [
    "country_codes #output will be in curly brackets and unordered"
   ]
  },
  {
   "cell_type": "code",
   "execution_count": 3,
   "id": "a1dc6015-4f6d-495c-8dfb-42368e10f22e",
   "metadata": {},
   "outputs": [
    {
     "data": {
      "text/plain": [
       "3"
      ]
     },
     "execution_count": 3,
     "metadata": {},
     "output_type": "execute_result"
    }
   ],
   "source": [
    "# Determining if a Dictionary Is Empty - returns the number of key-value pairs\n",
    "len(country_codes)"
   ]
  },
  {
   "cell_type": "code",
   "execution_count": 4,
   "id": "1f63b186-1e6d-45c0-a09e-c415b0e7f37f",
   "metadata": {},
   "outputs": [
    {
     "name": "stdout",
     "output_type": "stream",
     "text": [
      "country_codes is not empty\n"
     ]
    }
   ],
   "source": [
    "# Use a dictionary as a condition to determine if it's empty\n",
    "if country_codes:\n",
    "    print('country_codes is not empty')\n",
    "else:\n",
    "    print('country_codes is empty')"
   ]
  },
  {
   "cell_type": "code",
   "execution_count": 5,
   "id": "7f198efb-1817-4904-bc50-c95d11087380",
   "metadata": {},
   "outputs": [],
   "source": [
    "country_codes.clear() # an empty dictionary evaluates to False"
   ]
  },
  {
   "cell_type": "code",
   "execution_count": 6,
   "id": "17e91e5f-6643-49e5-bf43-e39df796670b",
   "metadata": {},
   "outputs": [
    {
     "name": "stdout",
     "output_type": "stream",
     "text": [
      "country_codes is empty\n"
     ]
    }
   ],
   "source": [
    "if country_codes:\n",
    "    print('country_codes is not empty')\n",
    "else:\n",
    "    print('country_codes is empty')"
   ]
  },
  {
   "cell_type": "markdown",
   "id": "5a63c39a-5fa3-4fde-8181-32650e2c5a55",
   "metadata": {},
   "source": [
    "Self Check 3 in 6.2.1 by DeeDee Walker"
   ]
  },
  {
   "cell_type": "code",
   "execution_count": 7,
   "id": "5f1a1e56-be7e-4fee-8708-fb42b9c5b735",
   "metadata": {},
   "outputs": [],
   "source": [
    "states = {'VT': 'Vermont', 'NH': 'New Hampshire', \n",
    "          'MA': 'Massachusetts'} #dictionary named states that maps three state abbreviations to their state names"
   ]
  },
  {
   "cell_type": "code",
   "execution_count": 8,
   "id": "e8250122-3e6f-4858-a36a-e04f98225767",
   "metadata": {},
   "outputs": [
    {
     "data": {
      "text/plain": [
       "{'VT': 'Vermont', 'NH': 'New Hampshire', 'MA': 'Massachusetts'}"
      ]
     },
     "execution_count": 8,
     "metadata": {},
     "output_type": "execute_result"
    }
   ],
   "source": [
    "states"
   ]
  },
  {
   "cell_type": "markdown",
   "id": "0e8aa430-a70e-4d26-bcbc-1b2f6b3f59a9",
   "metadata": {},
   "source": [
    "----continued practice by DeeDee Walker"
   ]
  },
  {
   "cell_type": "code",
   "execution_count": 9,
   "id": "d761bca5-cdab-46e8-984b-30d8c168fe08",
   "metadata": {},
   "outputs": [],
   "source": [
    "days_per_month = {'January': 31, 'February': 28, 'March': 31} #maps month-name strings to int values representing the number of days corresponding month. Multiple keys can have the same value."
   ]
  },
  {
   "cell_type": "code",
   "execution_count": 10,
   "id": "31bf6b7b-2145-4226-9b40-735d43ab78ae",
   "metadata": {},
   "outputs": [
    {
     "data": {
      "text/plain": [
       "{'January': 31, 'February': 28, 'March': 31}"
      ]
     },
     "execution_count": 10,
     "metadata": {},
     "output_type": "execute_result"
    }
   ],
   "source": [
    "days_per_month"
   ]
  },
  {
   "cell_type": "code",
   "execution_count": 13,
   "id": "fc401427-9094-4208-9a01-b76857efce57",
   "metadata": {},
   "outputs": [
    {
     "name": "stdout",
     "output_type": "stream",
     "text": [
      "January has 31 days\n",
      "February has 28 days\n",
      "March has 31 days\n"
     ]
    }
   ],
   "source": [
    "#iterates through days_per_month's key-value pairs. Dictionary method, items, returns each key-value pair as a tuple, which is unpacked into month and days\n",
    "for month, days in days_per_month.items():\n",
    "    print(f'{month} has {days} days')"
   ]
  },
  {
   "cell_type": "code",
   "execution_count": 14,
   "id": "0bfeec1b-b6ee-445f-b9ba-ba414371cba0",
   "metadata": {},
   "outputs": [],
   "source": [
    "roman_numerals = {'I': 1, 'II': 2, 'III': 3, 'V': 5, 'X': 100} #'X' is intentionally incorrect"
   ]
  },
  {
   "cell_type": "code",
   "execution_count": 15,
   "id": "fe416025-5f4e-429e-90b6-63fa3a49472f",
   "metadata": {},
   "outputs": [
    {
     "data": {
      "text/plain": [
       "{'I': 1, 'II': 2, 'III': 3, 'V': 5, 'X': 100}"
      ]
     },
     "execution_count": 15,
     "metadata": {},
     "output_type": "execute_result"
    }
   ],
   "source": [
    "roman_numerals"
   ]
  },
  {
   "cell_type": "code",
   "execution_count": 16,
   "id": "2d238f64-de06-4d2a-a2e3-7804f1d7e162",
   "metadata": {},
   "outputs": [
    {
     "data": {
      "text/plain": [
       "5"
      ]
     },
     "execution_count": 16,
     "metadata": {},
     "output_type": "execute_result"
    }
   ],
   "source": [
    "# Accessing the Value Associated with a Key\n",
    "roman_numerals['V']"
   ]
  },
  {
   "cell_type": "code",
   "execution_count": 17,
   "id": "e66963df-0334-4f9b-9d57-e7386fc620c4",
   "metadata": {},
   "outputs": [],
   "source": [
    "# Updating the Value of an Existing Key–Value Pair\n",
    "roman_numerals['X'] = 10"
   ]
  },
  {
   "cell_type": "code",
   "execution_count": 18,
   "id": "fb8937de-a7af-4d06-a31a-eded41d8a65d",
   "metadata": {},
   "outputs": [
    {
     "data": {
      "text/plain": [
       "{'I': 1, 'II': 2, 'III': 3, 'V': 5, 'X': 10}"
      ]
     },
     "execution_count": 18,
     "metadata": {},
     "output_type": "execute_result"
    }
   ],
   "source": [
    "roman_numerals"
   ]
  },
  {
   "cell_type": "code",
   "execution_count": 19,
   "id": "b98681c5-7b10-424b-9d64-e9f361212796",
   "metadata": {},
   "outputs": [],
   "source": [
    "# Adding a New Key–Value Pair\n",
    "roman_numerals['L'] = 50"
   ]
  },
  {
   "cell_type": "code",
   "execution_count": 20,
   "id": "794a8dfe-2743-4b73-a3eb-7f4c50209ba8",
   "metadata": {},
   "outputs": [
    {
     "data": {
      "text/plain": [
       "{'I': 1, 'II': 2, 'III': 3, 'V': 5, 'X': 10, 'L': 50}"
      ]
     },
     "execution_count": 20,
     "metadata": {},
     "output_type": "execute_result"
    }
   ],
   "source": [
    "roman_numerals"
   ]
  },
  {
   "cell_type": "markdown",
   "id": "95fb2aa4-08f8-40ac-a633-7e328ed6a02b",
   "metadata": {},
   "source": [
    "String keys are case sensitive. Assigning to a nonexistent key inserts the key-value pair.....continued practice by DeeDee Walker"
   ]
  },
  {
   "cell_type": "code",
   "execution_count": 21,
   "id": "838364c8-8df0-47af-a7f9-3cd28a674378",
   "metadata": {},
   "outputs": [],
   "source": [
    "# Removing a Key–Value Pair with del statement\n",
    "del roman_numerals['III']"
   ]
  },
  {
   "cell_type": "code",
   "execution_count": 22,
   "id": "dcb0d2c4-4c80-4693-91ab-370a124fa810",
   "metadata": {},
   "outputs": [
    {
     "data": {
      "text/plain": [
       "{'I': 1, 'II': 2, 'V': 5, 'X': 10, 'L': 50}"
      ]
     },
     "execution_count": 22,
     "metadata": {},
     "output_type": "execute_result"
    }
   ],
   "source": [
    "roman_numerals"
   ]
  },
  {
   "cell_type": "code",
   "execution_count": 23,
   "id": "e889247a-c0c4-4190-8cd7-0067430efb48",
   "metadata": {},
   "outputs": [
    {
     "data": {
      "text/plain": [
       "10"
      ]
     },
     "execution_count": 23,
     "metadata": {},
     "output_type": "execute_result"
    }
   ],
   "source": [
    "roman_numerals.pop('X') #removes key-value pair"
   ]
  },
  {
   "cell_type": "code",
   "execution_count": 24,
   "id": "799cd948-fd61-4699-923b-237067090806",
   "metadata": {},
   "outputs": [
    {
     "data": {
      "text/plain": [
       "{'I': 1, 'II': 2, 'V': 5, 'L': 50}"
      ]
     },
     "execution_count": 24,
     "metadata": {},
     "output_type": "execute_result"
    }
   ],
   "source": [
    "roman_numerals"
   ]
  },
  {
   "cell_type": "code",
   "execution_count": 25,
   "id": "f01a828f-22e3-4afc-9bdd-6df74458a618",
   "metadata": {},
   "outputs": [
    {
     "ename": "KeyError",
     "evalue": "'III'",
     "output_type": "error",
     "traceback": [
      "\u001b[1;31m---------------------------------------------------------------------------\u001b[0m",
      "\u001b[1;31mKeyError\u001b[0m                                  Traceback (most recent call last)",
      "Input \u001b[1;32mIn [25]\u001b[0m, in \u001b[0;36m<cell line: 2>\u001b[1;34m()\u001b[0m\n\u001b[0;32m      1\u001b[0m \u001b[38;5;66;03m# Attempting to Access a Nonexistent Key creates a KeyError\u001b[39;00m\n\u001b[1;32m----> 2\u001b[0m \u001b[43mroman_numerals\u001b[49m\u001b[43m[\u001b[49m\u001b[38;5;124;43m'\u001b[39;49m\u001b[38;5;124;43mIII\u001b[39;49m\u001b[38;5;124;43m'\u001b[39;49m\u001b[43m]\u001b[49m\n",
      "\u001b[1;31mKeyError\u001b[0m: 'III'"
     ]
    }
   ],
   "source": [
    "# Attempting to Access a Nonexistent Key creates a KeyError\n",
    "roman_numerals['III']"
   ]
  },
  {
   "cell_type": "markdown",
   "id": "3a227a47-4770-469a-9d4c-a704fa68a5a6",
   "metadata": {},
   "source": [
    "Can use dictionary method get, which normally returns it's arguments corresponding value. Returns None if key is not found or you can specify a 2nd argument to get that returns a value if not found."
   ]
  },
  {
   "cell_type": "code",
   "execution_count": 26,
   "id": "e7633266-c77e-4648-8565-c260c2d3e7f2",
   "metadata": {},
   "outputs": [],
   "source": [
    "roman_numerals.get('III')"
   ]
  },
  {
   "cell_type": "code",
   "execution_count": 27,
   "id": "2dd581e2-f46f-434b-bb73-90196f4ab0f5",
   "metadata": {},
   "outputs": [
    {
     "data": {
      "text/plain": [
       "'III not in dictionary'"
      ]
     },
     "execution_count": 27,
     "metadata": {},
     "output_type": "execute_result"
    }
   ],
   "source": [
    "roman_numerals.get('III', 'III not in dictionary')"
   ]
  },
  {
   "cell_type": "code",
   "execution_count": 28,
   "id": "da7d152a-903b-450b-8acd-9739f3fa0a09",
   "metadata": {},
   "outputs": [
    {
     "data": {
      "text/plain": [
       "5"
      ]
     },
     "execution_count": 28,
     "metadata": {},
     "output_type": "execute_result"
    }
   ],
   "source": [
    "roman_numerals.get('V')"
   ]
  },
  {
   "cell_type": "markdown",
   "id": "bf3a7b56-fe6b-425c-9132-25cd3c80d476",
   "metadata": {},
   "source": [
    "Operators in & not in can determine whether a dictionary contains a specified key"
   ]
  },
  {
   "cell_type": "code",
   "execution_count": 29,
   "id": "25b3380d-f3a6-442b-90e9-e0be17579c1c",
   "metadata": {},
   "outputs": [
    {
     "data": {
      "text/plain": [
       "True"
      ]
     },
     "execution_count": 29,
     "metadata": {},
     "output_type": "execute_result"
    }
   ],
   "source": [
    "# Testing Whether a Dictionary Contains a Specified Key\n",
    "'V' in roman_numerals"
   ]
  },
  {
   "cell_type": "code",
   "execution_count": 30,
   "id": "233ebc3b-9c34-4155-b1cc-bbb3ff1a38b6",
   "metadata": {},
   "outputs": [
    {
     "data": {
      "text/plain": [
       "False"
      ]
     },
     "execution_count": 30,
     "metadata": {},
     "output_type": "execute_result"
    }
   ],
   "source": [
    "'III' in roman_numerals"
   ]
  },
  {
   "cell_type": "code",
   "execution_count": 31,
   "id": "5ebe09bd-132c-46bd-8700-e394ad6786dd",
   "metadata": {},
   "outputs": [
    {
     "data": {
      "text/plain": [
       "True"
      ]
     },
     "execution_count": 31,
     "metadata": {},
     "output_type": "execute_result"
    }
   ],
   "source": [
    "'III' not in roman_numerals"
   ]
  },
  {
   "cell_type": "markdown",
   "id": "77e08230-e9bd-41fc-9297-8fe9a3bf4b93",
   "metadata": {},
   "source": [
    "Self Check 3 in 6.2.3 by DeeDee Walker"
   ]
  },
  {
   "cell_type": "code",
   "execution_count": 32,
   "id": "ca0c27c1-8af4-427b-a0ad-f4ebafb02964",
   "metadata": {},
   "outputs": [],
   "source": [
    "roman_numerals = {'I': 1, 'II': 2, 'III': 3, 'V': 5, 'X': 100}"
   ]
  },
  {
   "cell_type": "code",
   "execution_count": 33,
   "id": "81350d09-d724-4cd7-9e74-bf17845a286b",
   "metadata": {},
   "outputs": [],
   "source": [
    "roman_numerals['x'] = 10 #since the existing 'X' is not'x', a new key-value pair is added"
   ]
  },
  {
   "cell_type": "code",
   "execution_count": 34,
   "id": "73479cbe-745d-42c8-bf7f-795f60c7a4c4",
   "metadata": {},
   "outputs": [
    {
     "data": {
      "text/plain": [
       "{'I': 1, 'II': 2, 'III': 3, 'V': 5, 'X': 100, 'x': 10}"
      ]
     },
     "execution_count": 34,
     "metadata": {},
     "output_type": "execute_result"
    }
   ],
   "source": [
    "roman_numerals"
   ]
  },
  {
   "cell_type": "markdown",
   "id": "0c700cb5-e424-48ae-9b4f-aaafd3d82ac0",
   "metadata": {},
   "source": [
    "Section 6.2.4"
   ]
  },
  {
   "cell_type": "code",
   "execution_count": 38,
   "id": "4eff974d-2bef-4577-9b3e-5807e37d8c87",
   "metadata": {},
   "outputs": [],
   "source": [
    "months = {'January': 1, 'February': 2, 'March': 3} #using keys & values to iterate"
   ]
  },
  {
   "cell_type": "code",
   "execution_count": 39,
   "id": "b6310dca-ce91-4e24-ab10-c80d1e6db425",
   "metadata": {},
   "outputs": [
    {
     "name": "stdout",
     "output_type": "stream",
     "text": [
      "January  February  March  "
     ]
    }
   ],
   "source": [
    "for month_name in months.keys():\n",
    "    print(month_name, end='  ')"
   ]
  },
  {
   "cell_type": "code",
   "execution_count": 40,
   "id": "3e5d5263-529b-4e0b-bee7-8c54771ce91e",
   "metadata": {},
   "outputs": [
    {
     "name": "stdout",
     "output_type": "stream",
     "text": [
      "1  2  3  "
     ]
    }
   ],
   "source": [
    "for month_number in months.values():\n",
    "    print(month_number, end='  ')"
   ]
  },
  {
   "cell_type": "markdown",
   "id": "2a81030b-a8d1-4032-bfd0-ea0f57e3ed1b",
   "metadata": {},
   "source": [
    "Dictionary Views - DeeDee Walker"
   ]
  },
  {
   "cell_type": "markdown",
   "id": "94f054c9-eb36-4a3d-bedc-48c67e5853be",
   "metadata": {},
   "source": [
    "Dictionary methods items, keys, and vlaues each return a view of a dictionary's data. \n",
    "When you iterate over a view, it \"sees\" the dictionary's current contents - it does NOT have its own copy of the data"
   ]
  },
  {
   "cell_type": "code",
   "execution_count": 46,
   "id": "c40fadf5-6142-45b6-b956-ec1fb6212347",
   "metadata": {},
   "outputs": [],
   "source": [
    "months_view = months.keys() # saves view returned by keys into the variable months_view then iterates through it"
   ]
  },
  {
   "cell_type": "code",
   "execution_count": 47,
   "id": "4992d5e7-3ef6-4b7e-a64e-552d38a8a6f0",
   "metadata": {},
   "outputs": [
    {
     "name": "stdout",
     "output_type": "stream",
     "text": [
      "January  February  March  December  "
     ]
    }
   ],
   "source": [
    "for key in months_view:\n",
    "    print(key, end='  ')"
   ]
  },
  {
   "cell_type": "code",
   "execution_count": 48,
   "id": "648a53b1-445e-44e8-8924-7a3290237b4f",
   "metadata": {},
   "outputs": [],
   "source": [
    "months['December'] = 12 #add new key-value pair to months dictionary"
   ]
  },
  {
   "cell_type": "code",
   "execution_count": 49,
   "id": "5a036cf6-abb6-4ff2-b960-0970bcc2f16c",
   "metadata": {},
   "outputs": [
    {
     "data": {
      "text/plain": [
       "{'January': 1, 'February': 2, 'March': 3, 'December': 12}"
      ]
     },
     "execution_count": 49,
     "metadata": {},
     "output_type": "execute_result"
    }
   ],
   "source": [
    "months #display updated dictionary"
   ]
  },
  {
   "cell_type": "code",
   "execution_count": 50,
   "id": "8045c918-fa03-467e-8de9-a789161e1acd",
   "metadata": {},
   "outputs": [
    {
     "name": "stdout",
     "output_type": "stream",
     "text": [
      "January  February  March  December  "
     ]
    }
   ],
   "source": [
    "for key in months_view:\n",
    "    print(key, end='  ') #added key displayed"
   ]
  },
  {
   "cell_type": "markdown",
   "id": "aacf3950-ff6a-4bb2-9d1b-24d7b001b12f",
   "metadata": {},
   "source": [
    "Don't modify a dictionary while iterating through a view."
   ]
  },
  {
   "cell_type": "markdown",
   "id": "b61bcc5a-68ce-4cf0-b314-d5b9732ceea1",
   "metadata": {},
   "source": [
    "Converting Dictionary Keys, Values and Key–Value Pairs to Lists"
   ]
  },
  {
   "cell_type": "markdown",
   "id": "06862ab6-117e-4051-b3f8-72090b3fa8e3",
   "metadata": {},
   "source": [
    "pass the view returned by keys, values, or items to the built-in list function. Modifying these lists does not modity the corresponding dictionary."
   ]
  },
  {
   "cell_type": "code",
   "execution_count": 55,
   "id": "12d470ea-034f-4fe5-aae6-643cdd502bd2",
   "metadata": {},
   "outputs": [
    {
     "data": {
      "text/plain": [
       "['January', 'February', 'March', 'December']"
      ]
     },
     "execution_count": 55,
     "metadata": {},
     "output_type": "execute_result"
    }
   ],
   "source": [
    "list(months.keys())"
   ]
  },
  {
   "cell_type": "code",
   "execution_count": 56,
   "id": "e6ceacf8-1843-4e68-afd3-42e47d0b66e2",
   "metadata": {},
   "outputs": [
    {
     "data": {
      "text/plain": [
       "[1, 2, 3, 12]"
      ]
     },
     "execution_count": 56,
     "metadata": {},
     "output_type": "execute_result"
    }
   ],
   "source": [
    "list(months.values())"
   ]
  },
  {
   "cell_type": "code",
   "execution_count": 57,
   "id": "9502a4fd-bdc5-4119-b86e-ebba97b0c882",
   "metadata": {},
   "outputs": [
    {
     "data": {
      "text/plain": [
       "[('January', 1), ('February', 2), ('March', 3), ('December', 12)]"
      ]
     },
     "execution_count": 57,
     "metadata": {},
     "output_type": "execute_result"
    }
   ],
   "source": [
    "list(months.items())"
   ]
  },
  {
   "cell_type": "code",
   "execution_count": 58,
   "id": "cd8d8d6a-0d05-457c-b4d3-858df44e1397",
   "metadata": {},
   "outputs": [
    {
     "name": "stdout",
     "output_type": "stream",
     "text": [
      "December  February  January  March  "
     ]
    }
   ],
   "source": [
    "# Processing Keys in Sorted Order \n",
    "for month_name in sorted(months.keys()):\n",
    "     print(month_name, end='  ')"
   ]
  },
  {
   "cell_type": "markdown",
   "id": "d4487ed1-f822-4d83-9fa8-c99c79bf6c64",
   "metadata": {},
   "source": [
    "Self Check 3 of 6.2.4 by DeeDee Walker"
   ]
  },
  {
   "cell_type": "raw",
   "id": "7cac38ee-65a2-4a3d-ae2f-125d634bf1a9",
   "metadata": {},
   "source": [
    "create lists from dictionary roman_numerals"
   ]
  },
  {
   "cell_type": "code",
   "execution_count": 63,
   "id": "86802b1a-27f0-4320-ac1f-61ac4251d7c6",
   "metadata": {},
   "outputs": [],
   "source": [
    "roman_numerals = {'I': 1, 'II': 2, 'III': 3, 'V': 5}"
   ]
  },
  {
   "cell_type": "code",
   "execution_count": 60,
   "id": "065eec27-eed3-4f09-818b-e7c39fb89c2a",
   "metadata": {},
   "outputs": [
    {
     "data": {
      "text/plain": [
       "['I', 'II', 'III', 'V']"
      ]
     },
     "execution_count": 60,
     "metadata": {},
     "output_type": "execute_result"
    }
   ],
   "source": [
    "list(roman_numerals.keys())"
   ]
  },
  {
   "cell_type": "code",
   "execution_count": 61,
   "id": "d66705d8-dd7c-40ca-9a69-887ed689e4bb",
   "metadata": {},
   "outputs": [
    {
     "data": {
      "text/plain": [
       "[1, 2, 3, 5]"
      ]
     },
     "execution_count": 61,
     "metadata": {},
     "output_type": "execute_result"
    }
   ],
   "source": [
    "list(roman_numerals.values())"
   ]
  },
  {
   "cell_type": "code",
   "execution_count": 62,
   "id": "24d9386f-5359-4f65-a560-bff85f6e6e7c",
   "metadata": {},
   "outputs": [
    {
     "data": {
      "text/plain": [
       "[('I', 1), ('II', 2), ('III', 3), ('V', 5)]"
      ]
     },
     "execution_count": 62,
     "metadata": {},
     "output_type": "execute_result"
    }
   ],
   "source": [
    "list(roman_numerals.items())"
   ]
  },
  {
   "cell_type": "markdown",
   "id": "c5438e42-6394-44df-93a0-ab02fa3a0b2e",
   "metadata": {},
   "source": [
    "Dictionary Comparisons - comparison operators can be used to determine whether two dictionaries have identical or different contents."
   ]
  },
  {
   "cell_type": "code",
   "execution_count": 64,
   "id": "3855369a-330e-4186-9979-80a86073472e",
   "metadata": {},
   "outputs": [],
   "source": [
    "country_capitals1 = {'Belgium': 'Brussels',\n",
    "                     'Haiti': 'Port-au-Prince'}"
   ]
  },
  {
   "cell_type": "code",
   "execution_count": 65,
   "id": "279ea850-2950-4206-8ae6-833c38940c3d",
   "metadata": {},
   "outputs": [],
   "source": [
    "country_capitals2 = {'Nepal': 'Kathmandu',\n",
    "                     'Uruguay': 'Montevideo'}"
   ]
  },
  {
   "cell_type": "code",
   "execution_count": 66,
   "id": "a48c78f3-7520-4a59-a1c6-62fb3ecaaf43",
   "metadata": {},
   "outputs": [],
   "source": [
    "country_capitals3 = {'Haiti': 'Port-au-Prince',\n",
    "                     'Belgium': 'Brussels'}"
   ]
  },
  {
   "cell_type": "code",
   "execution_count": 67,
   "id": "de0bd0af-1739-4157-aa02-c4a9b19e9557",
   "metadata": {},
   "outputs": [
    {
     "data": {
      "text/plain": [
       "False"
      ]
     },
     "execution_count": 67,
     "metadata": {},
     "output_type": "execute_result"
    }
   ],
   "source": [
    "country_capitals1 == country_capitals2"
   ]
  },
  {
   "cell_type": "code",
   "execution_count": 68,
   "id": "b4e933bd-a098-4c9f-a67a-1afda5c2153c",
   "metadata": {},
   "outputs": [
    {
     "data": {
      "text/plain": [
       "True"
      ]
     },
     "execution_count": 68,
     "metadata": {},
     "output_type": "execute_result"
    }
   ],
   "source": [
    "country_capitals1 == country_capitals3"
   ]
  },
  {
   "cell_type": "code",
   "execution_count": 69,
   "id": "e3598932-3082-4a03-8b9d-cd02a600faf8",
   "metadata": {},
   "outputs": [
    {
     "data": {
      "text/plain": [
       "True"
      ]
     },
     "execution_count": 69,
     "metadata": {},
     "output_type": "execute_result"
    }
   ],
   "source": [
    "country_capitals1 != country_capitals2"
   ]
  },
  {
   "cell_type": "markdown",
   "id": "55226954-44e6-422c-b2db-5169ede429ff",
   "metadata": {},
   "source": [
    "6.2.6 example - DeeDee Walker"
   ]
  },
  {
   "cell_type": "code",
   "execution_count": 70,
   "id": "6f2656bc-6aa6-4d83-93e4-e15d13e01f1c",
   "metadata": {},
   "outputs": [
    {
     "name": "stdout",
     "output_type": "stream",
     "text": [
      "Average for Susan is 92.33\n",
      "Average for Eduardo is 85.67\n",
      "Average for Azizi is 87.33\n",
      "Average for Pantipa is 93.33\n",
      "Class's average is: 89.67\n"
     ]
    }
   ],
   "source": [
    "\"\"\"Using a dictionary to represent an instructor's grade book.\"\"\"\n",
    "grade_book = {            \n",
    "    'Susan': [92, 85, 100], \n",
    "    'Eduardo': [83, 95, 79],\n",
    "    'Azizi': [91, 89, 82],  \n",
    "    'Pantipa': [97, 91, 92] \n",
    "}\n",
    "\n",
    "all_grades_total = 0\n",
    "all_grades_count = 0\n",
    "\n",
    "for name, grades in grade_book.items():\n",
    "    total = sum(grades)\n",
    "    print(f'Average for {name} is {total/len(grades):.2f}')\n",
    "    all_grades_total += total\n",
    "    all_grades_count += len(grades)\n",
    "    \n",
    "print(f\"Class's average is: {all_grades_total / all_grades_count:.2f}\")"
   ]
  },
  {
   "cell_type": "markdown",
   "id": "2fe15d76-a6e9-42b9-b613-0ebbc9ccd074",
   "metadata": {},
   "source": [
    "6.2.7 example - DeeDee Walker"
   ]
  },
  {
   "cell_type": "code",
   "execution_count": 71,
   "id": "ed8cdb60-2aa3-4ca1-9245-c9884e5de09a",
   "metadata": {},
   "outputs": [
    {
     "name": "stdout",
     "output_type": "stream",
     "text": [
      "WORD        COUNT\n",
      "different   1\n",
      "is          2\n",
      "more        1\n",
      "sample      2\n",
      "several     1\n",
      "some        1\n",
      "text        2\n",
      "this        2\n",
      "with        2\n",
      "words       2\n",
      "\n",
      "Number of unique words: 10\n"
     ]
    }
   ],
   "source": [
    "\"\"\"Tokenizing a string and counting unique words.\"\"\"\n",
    "\n",
    "text = ('this is sample text with several words ' \n",
    "        'this is more sample text with some different words')\n",
    "\n",
    "word_counts = {}\n",
    "\n",
    "# count occurrences of each unique word\n",
    "for word in text.split():#tokenizes text by calling string method split, which separates the words using the method's delimiter string argument. If you don;t provide an argument, split uses a space\n",
    "    if word in word_counts: #determines if the word is already in the dictionary\n",
    "        word_counts[word] += 1  # update existing key-value pair\n",
    "    else:\n",
    "        word_counts[word] = 1  # insert new key-value pair\n",
    "#the method returns a list of tokens(words in text) by iterating through the list of words\n",
    "print(f'{\"WORD\":<12}COUNT')\n",
    "\n",
    "for word, count in sorted(word_counts.items()):\n",
    "    print(f'{word:<12}{count}')\n",
    "\n",
    "print('\\nNumber of unique words:', len(word_counts))"
   ]
  },
  {
   "cell_type": "code",
   "execution_count": 72,
   "id": "5637213d-1344-4aba-8f36-58fe8924acb4",
   "metadata": {},
   "outputs": [
    {
     "name": "stdout",
     "output_type": "stream",
     "text": [
      "WORD        COUNT\n",
      "(Adam       1\n",
      "(I          1\n",
      "1998        1\n",
      "Bayous      1\n",
      "But         1\n",
      "Cajun       8\n",
      "Cajun,      3\n",
      "Cajuns      3\n",
      "Choctaw     1\n",
      "Communities 1\n",
      "German      1\n",
      "I           2\n",
      "In          1\n",
      "Italian     1\n",
      "Louisiana   2\n",
      "Louisiana,  1\n",
      "Louisiana’s 1\n",
      "Mississippi 1\n",
      "Navy.)      1\n",
      "Our         1\n",
      "Physically, 1\n",
      "Portuguese  1\n",
      "River.      1\n",
      "Sandler’s   1\n",
      "South       3\n",
      "The         6\n",
      "They        4\n",
      "Waterboy,   1\n",
      "a           12\n",
      "accurate    1\n",
      "across      2\n",
      "action.     1\n",
      "after       1\n",
      "all         3\n",
      "among       1\n",
      "an          3\n",
      "and         20\n",
      "another...  1\n",
      "are         8\n",
      "arm,        1\n",
      "around      1\n",
      "artery      1\n",
      "banks       1\n",
      "bayok.      1\n",
      "bayou       4\n",
      "bayou.      1\n",
      "bayous      2\n",
      "be          3\n",
      "became      1\n",
      "because     1\n",
      "birds       1\n",
      "blueprints  1\n",
      "body        1\n",
      "bone-deep   1\n",
      "braided     1\n",
      "brand       1\n",
      "building    1\n",
      "businesses  1\n",
      "by          3\n",
      "can         3\n",
      "changing    1\n",
      "concoctions,1\n",
      "condition   1\n",
      "could       2\n",
      "cuisine     1\n",
      "culture     2\n",
      "cultures    1\n",
      "delta       1\n",
      "depiction   1\n",
      "derived     1\n",
      "despair     1\n",
      "differ      1\n",
      "dishes      1\n",
      "distinct    1\n",
      "don’t       1\n",
      "erect       1\n",
      "even        1\n",
      "evolving    1\n",
      "example,    1\n",
      "fauna       1\n",
      "films       1\n",
      "fish        1\n",
      "flora       1\n",
      "food        1\n",
      "food,       1\n",
      "for         3\n",
      "form        1\n",
      "former      1\n",
      "from        2\n",
      "globe—as    1\n",
      "gracing     1\n",
      "grew        1\n",
      "hardworking.1\n",
      "have        3\n",
      "heart       1\n",
      "help;       1\n",
      "helped      1\n",
      "history,    1\n",
      "holding     1\n",
      "home        1\n",
      "homes       1\n",
      "horribly    1\n",
      "how         1\n",
      "hundred     1\n",
      "hybrids     1\n",
      "if          1\n",
      "in          6\n",
      "inaccurate  1\n",
      "ingredients 1\n",
      "inlet,      1\n",
      "into        1\n",
      "is          3\n",
      "it          2\n",
      "its         2\n",
      "joy         1\n",
      "know        1\n",
      "know.       1\n",
      "land.       1\n",
      "language,   1\n",
      "life        1\n",
      "likely      1\n",
      "limited     1\n",
      "live        1\n",
      "livelihood  1\n",
      "living.     1\n",
      "mammoth     1\n",
      "many        1\n",
      "marsh       1\n",
      "means       1\n",
      "menus,      1\n",
      "misrepresented1\n",
      "misunderstood,1\n",
      "moon,       1\n",
      "movie       1\n",
      "music,      1\n",
      "names       1\n",
      "nations,    1\n",
      "network     1\n",
      "not         3\n",
      "of          12\n",
      "often       1\n",
      "on          6\n",
      "on.         1\n",
      "one         2\n",
      "or          2\n",
      "other       1\n",
      "our         3\n",
      "parish      1\n",
      "parish,     1\n",
      "passages,   1\n",
      "passageways,1\n",
      "passion     1\n",
      "paths       1\n",
      "people      2\n",
      "people).    1\n",
      "people;     1\n",
      "portrayal   1\n",
      "portrayed   1\n",
      "push        1\n",
      "read        1\n",
      "rebuild     1\n",
      "recipes     1\n",
      "refers      1\n",
      "river       1\n",
      "screen:     1\n",
      "seasons,    1\n",
      "sediment    1\n",
      "settled     1\n",
      "settlers    1\n",
      "shared      1\n",
      "sit         1\n",
      "skies,      1\n",
      "slow-moving 1\n",
      "so          1\n",
      "some        1\n",
      "spice       1\n",
      "storm.      1\n",
      "stream,     1\n",
      "suggest     1\n",
      "swampy      1\n",
      "swimming    1\n",
      "take        1\n",
      "television  1\n",
      "that        1\n",
      "the         21\n",
      "their       2\n",
      "these       1\n",
      "they        2\n",
      "this        1\n",
      "thoroughfare1\n",
      "three       1\n",
      "tiny.       1\n",
      "to          5\n",
      "together.   1\n",
      "tradition!  1\n",
      "traditions  1\n",
      "understanding1\n",
      "up          2\n",
      "wait        1\n",
      "water       1\n",
      "water,      1\n",
      "water.      1\n",
      "waters,     1\n",
      "waterways   1\n",
      "we          2\n",
      "weather.    1\n",
      "which       3\n",
      "without     1\n",
      "word        3\n",
      "years       1\n",
      "you         2\n",
      "\n",
      "Number of unique words: 211\n"
     ]
    }
   ],
   "source": [
    "\"\"\"Modify with DeeDee Walker's text choice\"\"\"\n",
    "\n",
    "text = ('The word bayou is likely derived from the Choctaw word bayok. Physically, it refers to a body of water, which could be a slow-moving stream, a swampy marsh inlet, a river arm, or even some former'\n",
    "        ' paths of the Mississippi River. Bayous can be mammoth or tiny. The bayous are a braided network of waterways that push sediment across South Louisiana and form delta land. Communities settled on'\n",
    "        ' these passageways, building their homes on the banks and their livelihood on the water. Louisiana’s bayous are a thoroughfare into history, an artery to the heart of the Cajun life I know. The'\n",
    "        ' bayou and its Cajun settlers are often misunderstood, a condition not helped by how horribly Cajuns are portrayed on television and in films (Adam Sandler’s 1998 movie The Waterboy, for example,'\n",
    "        ' is not an accurate depiction of Cajun people). But this inaccurate portrayal is not limited to the screen: Cajun food and culture are misrepresented on menus, in recipes and spice concoctions, '\n",
    "        'and by businesses across the globe—as if in a word one could brand three hundred years of culture and tradition! In South Louisiana, we have Cajun music, the Cajun language, and Cajun food, an'\n",
    "        ' evolving cuisine in which the ingredients and dishes differ from parish to parish, bayou to bayou. The people I grew up around are hardworking. They can erect a home without blueprints and '\n",
    "        'rebuild it after a storm. They don’t sit in despair and wait for help; they take action. (I suggest you read up on the Cajun Navy.) The people of the bayou have a bone-deep understanding of the'\n",
    "        ' water and its passages, the changing of the seasons, and the weather. They know the names of all the fish swimming in our waters, the birds gracing our skies, and the flora and fauna holding '\n",
    "        ' South Louisiana together. They live by the moon, and they have a distinct passion and joy for living. Cajuns became Cajuns because of many other nations, which means you can be Italian Cajun, '\n",
    "        'German Cajun, Portuguese Cajun, and so on. Our traditions and cultures are shared among all our people; we are all hybrids of one another...')\n",
    "\n",
    "word_counts = {}\n",
    "\n",
    "# count occurrences of each unique word\n",
    "for word in text.split():#tokenizes text by calling string method split, which separates the words using the method's delimiter string argument. If you don;t provide an argument, split uses a space\n",
    "    if word in word_counts: #determines if the word is already in the dictionary\n",
    "        word_counts[word] += 1  # update existing key-value pair\n",
    "    else:\n",
    "        word_counts[word] = 1  # insert new key-value pair\n",
    "#the method returns a list of tokens(words in text) by iterating through the list of words\n",
    "print(f'{\"WORD\":<12}COUNT')\n",
    "\n",
    "for word, count in sorted(word_counts.items()):\n",
    "    print(f'{word:<12}{count}')\n",
    "\n",
    "print('\\nNumber of unique words:', len(word_counts))"
   ]
  },
  {
   "cell_type": "markdown",
   "id": "dc30f3b2-745e-4dec-a3ab-e0679c08180f",
   "metadata": {},
   "source": [
    "The module collections contains the type Counter, which receives and iterable and summarizes its elements"
   ]
  },
  {
   "cell_type": "code",
   "execution_count": 74,
   "id": "034ac907-300b-476b-a57f-65c9dab88d1e",
   "metadata": {},
   "outputs": [
    {
     "name": "stdout",
     "output_type": "stream",
     "text": [
      "different   1\n",
      "is          2\n",
      "more        1\n",
      "sample      2\n",
      "several     1\n",
      "some        1\n",
      "text        2\n",
      "this        2\n",
      "with        2\n",
      "words       2\n",
      "Number of unique keys: 10\n"
     ]
    }
   ],
   "source": [
    "from collections import Counter\n",
    "\n",
    "text = ('this is sample text with several words '\n",
    "        'this is more sample text with some different words')\n",
    "\n",
    "counter = Counter(text.split())#creates the ocunter, which summarizes the list of strings returned by text.split()\n",
    "\n",
    "for word, count in sorted(counter.items()):#counter method, items, returns each string and its assocaited count as a tuple - sorted ascends the tuple order\n",
    "    print(f'{word:<12}{count}')\n",
    "    \n",
    "print('Number of unique keys:', len(counter.keys()))"
   ]
  },
  {
   "cell_type": "markdown",
   "id": "01217215-fcf6-40af-8ece-67e4c89f0d7b",
   "metadata": {},
   "source": [
    "Self Check 2 of 6.2.7 DeeDee Walker"
   ]
  },
  {
   "cell_type": "code",
   "execution_count": 76,
   "id": "97395228-2918-4298-bfdf-8c3563cf57b5",
   "metadata": {},
   "outputs": [
    {
     "name": "stdout",
     "output_type": "stream",
     "text": [
      "1   9\n",
      "2   15\n",
      "3   10\n",
      "4   6\n",
      "5   10\n"
     ]
    }
   ],
   "source": [
    "#use a comprehension to create a list of 50 random integers in the range 1-5. Summarize with a counter.\n",
    "import random\n",
    "\n",
    "numbers = [random.randrange(1, 6) for i in range(50)]\n",
    "\n",
    "from collections import Counter\n",
    "\n",
    "counter = Counter(numbers)\n",
    "\n",
    "for value, count in sorted(counter.items()):\n",
    "    print(f'{value:<4}{count}')"
   ]
  },
  {
   "cell_type": "markdown",
   "id": "e508f36a-0cc1-4055-8f77-65ad760312f6",
   "metadata": {},
   "source": [
    "6.2.8 Dictionary Method update - DeeDee Walker"
   ]
  },
  {
   "cell_type": "code",
   "execution_count": 84,
   "id": "1dccd10b-61ce-42ff-8bed-0105320e4b93",
   "metadata": {},
   "outputs": [],
   "source": [
    "country_codes = {}"
   ]
  },
  {
   "cell_type": "code",
   "execution_count": 85,
   "id": "c5834383-f941-4b74-9f56-b2d400fea55a",
   "metadata": {},
   "outputs": [],
   "source": [
    "country_codes.update({'South Africa': 'za'})"
   ]
  },
  {
   "cell_type": "code",
   "execution_count": 86,
   "id": "9d3e7af9-84d9-43c0-88bb-45f7e397a9e0",
   "metadata": {},
   "outputs": [
    {
     "data": {
      "text/plain": [
       "{'South Africa': 'za'}"
      ]
     },
     "execution_count": 86,
     "metadata": {},
     "output_type": "execute_result"
    }
   ],
   "source": [
    "country_codes"
   ]
  },
  {
   "cell_type": "code",
   "execution_count": 87,
   "id": "59d5ebcf-a2c6-4cc0-a449-eaab1accb966",
   "metadata": {},
   "outputs": [],
   "source": [
    "country_codes.update(Australia='ar')#convert keyword arguments into key-value pairs. Converts parameter naem into string key and associates the value with that key"
   ]
  },
  {
   "cell_type": "code",
   "execution_count": 88,
   "id": "f3397e8d-fe42-4188-95e9-966024410f80",
   "metadata": {},
   "outputs": [
    {
     "data": {
      "text/plain": [
       "{'South Africa': 'za', 'Australia': 'ar'}"
      ]
     },
     "execution_count": 88,
     "metadata": {},
     "output_type": "execute_result"
    }
   ],
   "source": [
    "country_codes"
   ]
  },
  {
   "cell_type": "code",
   "execution_count": 89,
   "id": "fdf69545-5e26-4629-9790-e1fa28cc3b6d",
   "metadata": {},
   "outputs": [],
   "source": [
    "country_codes.update(Australia='au')#correct previous contry code"
   ]
  },
  {
   "cell_type": "code",
   "execution_count": 90,
   "id": "c0c57144-079e-4b7a-a648-0a6971d6c73d",
   "metadata": {},
   "outputs": [
    {
     "data": {
      "text/plain": [
       "{'South Africa': 'za', 'Australia': 'au'}"
      ]
     },
     "execution_count": 90,
     "metadata": {},
     "output_type": "execute_result"
    }
   ],
   "source": [
    "country_codes"
   ]
  },
  {
   "cell_type": "markdown",
   "id": "4eaf7df5-40ce-4291-bf4a-544a92eae859",
   "metadata": {},
   "source": [
    "6.2.9 Dictionary Comprehensions - provide a convenient notation for quickly generating dictionaries, often by mapping one dictionary to another - DeeDee Walker"
   ]
  },
  {
   "cell_type": "code",
   "execution_count": 91,
   "id": "a97d6f93-2dfa-4e6b-8147-70e54b15006d",
   "metadata": {},
   "outputs": [
    {
     "data": {
      "text/plain": [
       "{1: 'January', 2: 'February', 3: 'March'}"
      ]
     },
     "execution_count": 91,
     "metadata": {},
     "output_type": "execute_result"
    }
   ],
   "source": [
    "months = {'January': 1, 'February': 2, 'March': 3} #curly brackets delimit a dictionary comprehension \n",
    "\n",
    "months2 = {number: name for name, number in months.items()} #the expression to the left of the for clause specifies a key-value pair of the form key: value\n",
    "#the comprehension iterates through months.items(), unpacking each key-value pair tuple into variables name and number\n",
    "#number:name reverses the key and value, so the new dictionary maps the months numbers to the month names\n",
    "months2"
   ]
  },
  {
   "cell_type": "code",
   "execution_count": 92,
   "id": "6db6eead-400a-4638-a904-9bc58f6bf354",
   "metadata": {},
   "outputs": [
    {
     "data": {
      "text/plain": [
       "{'Sue': 93.0, 'Bob': 90.0}"
      ]
     },
     "execution_count": 92,
     "metadata": {},
     "output_type": "execute_result"
    }
   ],
   "source": [
    "#A dictionary comprehension can map a dictionary's values to new values -\n",
    "grades = {'Sue': [98, 87, 94], 'Bob': [84, 95, 91]}\n",
    "#unpacks each tuple returned by grades.items() into k and v then the comprehension creates a new key-value pair with the key k and the value of sum(v) / len(v) which is the average\n",
    "grades2 = {k: sum(v) / len(v) for k, v in grades.items()}\n",
    "\n",
    "grades2"
   ]
  },
  {
   "cell_type": "markdown",
   "id": "14b2a08e-b24c-495e-bc4d-d0ca9b10bf10",
   "metadata": {},
   "source": [
    "Self Check 1 of 6.2.9 DeeDee Walker"
   ]
  },
  {
   "cell_type": "code",
   "execution_count": 94,
   "id": "db792dfc-830f-4d2c-a61e-73fafd63f5c6",
   "metadata": {},
   "outputs": [
    {
     "data": {
      "text/plain": [
       "{1: 1, 2: 8, 3: 27, 4: 64, 5: 125}"
      ]
     },
     "execution_count": 94,
     "metadata": {},
     "output_type": "execute_result"
    }
   ],
   "source": [
    "#dictionary comprehension to create a dictionary of the numbers 1-5 mapped to their cubes\n",
    "{number: number ** 3 for number in range(1, 6)}"
   ]
  }
 ],
 "metadata": {
  "kernelspec": {
   "display_name": "Python 3 (ipykernel)",
   "language": "python",
   "name": "python3"
  },
  "language_info": {
   "codemirror_mode": {
    "name": "ipython",
    "version": 3
   },
   "file_extension": ".py",
   "mimetype": "text/x-python",
   "name": "python",
   "nbconvert_exporter": "python",
   "pygments_lexer": "ipython3",
   "version": "3.9.12"
  }
 },
 "nbformat": 4,
 "nbformat_minor": 5
}

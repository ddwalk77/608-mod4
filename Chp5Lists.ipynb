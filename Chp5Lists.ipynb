{
 "cells": [
  {
   "cell_type": "markdown",
   "id": "814830be-950a-4b09-8434-99efd7c5e40a",
   "metadata": {},
   "source": [
    "### Chapter 5 Practice - by DeeDee Walker"
   ]
  },
  {
   "cell_type": "markdown",
   "id": "d1d42925-63cd-44d5-9b42-e7df7aa579d0",
   "metadata": {},
   "source": [
    "5.2 Lists - Practice by DeeDee Walker"
   ]
  },
  {
   "cell_type": "markdown",
   "id": "77c6bb14-8090-4bcd-9b51-e88f79941ab1",
   "metadata": {},
   "source": [
    "Referenced by writing the list name followed by the element's index(position number) enclosed in square brackets ([] - subscription operators)"
   ]
  },
  {
   "cell_type": "code",
   "execution_count": 1,
   "id": "da79bba7-d5bb-425b-9f7a-0b7544b13344",
   "metadata": {},
   "outputs": [],
   "source": [
    "c = [-45, 6, 0, 72, 1543]"
   ]
  },
  {
   "cell_type": "code",
   "execution_count": 2,
   "id": "f125f398-9421-4300-84d5-6c02bbe1ce55",
   "metadata": {},
   "outputs": [
    {
     "data": {
      "text/plain": [
       "[-45, 6, 0, 72, 1543]"
      ]
     },
     "execution_count": 2,
     "metadata": {},
     "output_type": "execute_result"
    }
   ],
   "source": [
    "c"
   ]
  },
  {
   "cell_type": "markdown",
   "id": "0f70750c-6642-4014-a9b6-da25f2871dbf",
   "metadata": {},
   "source": [
    "The first element in a list has the index 0"
   ]
  },
  {
   "cell_type": "code",
   "execution_count": 3,
   "id": "a71bbe05-7a7d-44bd-b94e-6c3ca5316ad5",
   "metadata": {},
   "outputs": [
    {
     "data": {
      "text/plain": [
       "-45"
      ]
     },
     "execution_count": 3,
     "metadata": {},
     "output_type": "execute_result"
    }
   ],
   "source": [
    "c[0]"
   ]
  },
  {
   "cell_type": "code",
   "execution_count": 4,
   "id": "f2510252-8f0d-40c9-9e34-fe9bbe524d4e",
   "metadata": {},
   "outputs": [
    {
     "data": {
      "text/plain": [
       "1543"
      ]
     },
     "execution_count": 4,
     "metadata": {},
     "output_type": "execute_result"
    }
   ],
   "source": [
    "c[4]"
   ]
  },
  {
   "cell_type": "markdown",
   "id": "35ab5dad-00a8-40f5-895b-701748410921",
   "metadata": {},
   "source": [
    "List length called using len function"
   ]
  },
  {
   "cell_type": "code",
   "execution_count": 5,
   "id": "278add08-420e-42ba-93d0-336b84465fa5",
   "metadata": {},
   "outputs": [
    {
     "data": {
      "text/plain": [
       "5"
      ]
     },
     "execution_count": 5,
     "metadata": {},
     "output_type": "execute_result"
    }
   ],
   "source": [
    "len(c)"
   ]
  },
  {
   "cell_type": "markdown",
   "id": "5c59e195-6988-4770-aeeb-639a19ace547",
   "metadata": {},
   "source": [
    "Access elements from the end of the list with negative indices"
   ]
  },
  {
   "cell_type": "code",
   "execution_count": 6,
   "id": "4fa20b6d-4118-4e8b-a337-5f433d882579",
   "metadata": {},
   "outputs": [
    {
     "data": {
      "text/plain": [
       "1543"
      ]
     },
     "execution_count": 6,
     "metadata": {},
     "output_type": "execute_result"
    }
   ],
   "source": [
    "c[-1]"
   ]
  },
  {
   "cell_type": "code",
   "execution_count": 7,
   "id": "7365ea56-06ff-4dfb-9b21-d2a7cb0d6d0b",
   "metadata": {},
   "outputs": [
    {
     "data": {
      "text/plain": [
       "-45"
      ]
     },
     "execution_count": 7,
     "metadata": {},
     "output_type": "execute_result"
    }
   ],
   "source": [
    "c[-5]"
   ]
  },
  {
   "cell_type": "markdown",
   "id": "8e7d2487-4f0c-4758-91c5-4d608fe29d56",
   "metadata": {},
   "source": [
    "Modifiable (mutable) if numeric. String & Tuples sequences are immutable"
   ]
  },
  {
   "cell_type": "markdown",
   "id": "02e4b95a-e734-4d59-9f14-dcca37207cca",
   "metadata": {},
   "source": [
    ".....continued practice & notes by DeeDee Walker"
   ]
  },
  {
   "cell_type": "code",
   "execution_count": 8,
   "id": "2442902d-d3c9-4e4b-bd68-99a0dcafafe2",
   "metadata": {},
   "outputs": [],
   "source": [
    "c[4] = 17"
   ]
  },
  {
   "cell_type": "code",
   "execution_count": 9,
   "id": "ff73dfc0-6f2c-4d93-b44f-40999483cd16",
   "metadata": {},
   "outputs": [
    {
     "data": {
      "text/plain": [
       "[-45, 6, 0, 72, 17]"
      ]
     },
     "execution_count": 9,
     "metadata": {},
     "output_type": "execute_result"
    }
   ],
   "source": [
    "c"
   ]
  },
  {
   "cell_type": "code",
   "execution_count": 10,
   "id": "f6186c54-2847-4c50-a5cc-5620e3c9648f",
   "metadata": {},
   "outputs": [],
   "source": [
    "s = 'hello'"
   ]
  },
  {
   "cell_type": "code",
   "execution_count": 11,
   "id": "ac431235-1723-4427-90a1-5a1d164c1baa",
   "metadata": {},
   "outputs": [
    {
     "data": {
      "text/plain": [
       "'h'"
      ]
     },
     "execution_count": 11,
     "metadata": {},
     "output_type": "execute_result"
    }
   ],
   "source": [
    "s[0]"
   ]
  },
  {
   "cell_type": "code",
   "execution_count": 12,
   "id": "72cb3d28-99a0-43fc-86f7-efb03c7e3cdc",
   "metadata": {},
   "outputs": [
    {
     "ename": "TypeError",
     "evalue": "'str' object does not support item assignment",
     "output_type": "error",
     "traceback": [
      "\u001b[1;31m---------------------------------------------------------------------------\u001b[0m",
      "\u001b[1;31mTypeError\u001b[0m                                 Traceback (most recent call last)",
      "Input \u001b[1;32mIn [12]\u001b[0m, in \u001b[0;36m<cell line: 1>\u001b[1;34m()\u001b[0m\n\u001b[1;32m----> 1\u001b[0m \u001b[43ms\u001b[49m\u001b[43m[\u001b[49m\u001b[38;5;241;43m0\u001b[39;49m\u001b[43m]\u001b[49m \u001b[38;5;241m=\u001b[39m \u001b[38;5;124m'\u001b[39m\u001b[38;5;124mH\u001b[39m\u001b[38;5;124m'\u001b[39m\n",
      "\u001b[1;31mTypeError\u001b[0m: 'str' object does not support item assignment"
     ]
    }
   ],
   "source": [
    "s[0] = 'H'"
   ]
  },
  {
   "cell_type": "markdown",
   "id": "cc489fd4-7d5e-4e64-a666-54779c25bbda",
   "metadata": {},
   "source": [
    "Can't access a nonexistent element"
   ]
  },
  {
   "cell_type": "code",
   "execution_count": null,
   "id": "103a3a7a-85e6-46d4-8466-d9e2d307e281",
   "metadata": {},
   "outputs": [],
   "source": [
    "c[100]"
   ]
  },
  {
   "cell_type": "markdown",
   "id": "f24b362a-74d0-4ace-9820-0e540be53304",
   "metadata": {},
   "source": [
    "List elements may be used as variables in expressions"
   ]
  },
  {
   "cell_type": "code",
   "execution_count": null,
   "id": "b011ec4e-519c-4655-ad62-b4d046a0fd80",
   "metadata": {},
   "outputs": [],
   "source": [
    "c[0] + c[1] + c[2]"
   ]
  },
  {
   "cell_type": "markdown",
   "id": "7b31c2c6-f93c-49e3-858e-7c0da244374a",
   "metadata": {},
   "source": [
    "Can dynamically resize as necessary with += When the left operand of += is a list, the right operand must be an iterable"
   ]
  },
  {
   "cell_type": "code",
   "execution_count": null,
   "id": "ee6f18fa-6902-4c49-939e-43313b05b612",
   "metadata": {},
   "outputs": [],
   "source": [
    "a_list = []"
   ]
  },
  {
   "cell_type": "code",
   "execution_count": null,
   "id": "70841033-4f9d-4655-839b-22e091a7d9b3",
   "metadata": {},
   "outputs": [],
   "source": [
    "for number in range(1, 6):\n",
    "    a_list += [number]"
   ]
  },
  {
   "cell_type": "code",
   "execution_count": null,
   "id": "f9784dd5-fae4-4efa-b50d-2149b3bcefe0",
   "metadata": {},
   "outputs": [],
   "source": [
    "a_list"
   ]
  },
  {
   "cell_type": "code",
   "execution_count": null,
   "id": "f39f891e-f374-42ae-8319-c621d3438d41",
   "metadata": {},
   "outputs": [],
   "source": [
    "letters = []"
   ]
  },
  {
   "cell_type": "code",
   "execution_count": null,
   "id": "721eb0dc-dac6-479d-9151-49fbd32b061c",
   "metadata": {},
   "outputs": [],
   "source": [
    "letters += 'Python'"
   ]
  },
  {
   "cell_type": "code",
   "execution_count": null,
   "id": "c8ce0c14-80e7-48db-9514-1d79719d5ac4",
   "metadata": {},
   "outputs": [],
   "source": [
    "letters"
   ]
  },
  {
   "cell_type": "markdown",
   "id": "b3517019-215d-49e9-882f-ae05914ea107",
   "metadata": {},
   "source": [
    "You can concatenate two lists, two tuples or two strings using the + operator. The original lists are unchanged"
   ]
  },
  {
   "cell_type": "markdown",
   "id": "560c3ab3-f180-4454-9185-30c198f50f48",
   "metadata": {},
   "source": [
    ".....continued practice & notes by DeeDee Walker"
   ]
  },
  {
   "cell_type": "code",
   "execution_count": null,
   "id": "d653100e-c8ca-4a91-8121-d5f1a9e720c8",
   "metadata": {},
   "outputs": [],
   "source": [
    "list1 = [10, 20, 30]"
   ]
  },
  {
   "cell_type": "code",
   "execution_count": null,
   "id": "5e0f1904-1696-4992-926c-c02275feb49d",
   "metadata": {},
   "outputs": [],
   "source": [
    "list2 = [40, 50]"
   ]
  },
  {
   "cell_type": "code",
   "execution_count": null,
   "id": "97df76d5-ccec-4e00-90c0-9db67d93acb7",
   "metadata": {},
   "outputs": [],
   "source": [
    "concatenated_list = list1 + list2"
   ]
  },
  {
   "cell_type": "code",
   "execution_count": null,
   "id": "a1ed7db6-53cd-40df-9717-4362258b7a38",
   "metadata": {},
   "outputs": [],
   "source": [
    "concatenated_list"
   ]
  },
  {
   "cell_type": "markdown",
   "id": "d11eb2c3-fa49-4b7e-a771-d04c2315e115",
   "metadata": {},
   "source": [
    "List elements can be accessed via their indices and the subscription operator ([]). The function call range(len(concatenated_list)) produces a sequence of integers reprsenting the list indices"
   ]
  },
  {
   "cell_type": "code",
   "execution_count": null,
   "id": "3f246554-9872-43b1-98e0-10ee7e8356ed",
   "metadata": {},
   "outputs": [],
   "source": [
    "for i in range(len(concatenated_list)):\n",
    "    print(f'{i}: {concatenated_list[i]}')"
   ]
  },
  {
   "cell_type": "markdown",
   "id": "4c977da4-f105-4e43-9ff3-b7f03590f2b3",
   "metadata": {},
   "source": [
    "You can compare entire list element by element using comparison operators"
   ]
  },
  {
   "cell_type": "code",
   "execution_count": null,
   "id": "fa22d4c5-9933-486c-b379-cdb3983ab3ac",
   "metadata": {},
   "outputs": [],
   "source": [
    "a = [1,2,3]"
   ]
  },
  {
   "cell_type": "code",
   "execution_count": null,
   "id": "9640e0f4-7750-4ed7-a00b-c88f74fc0a6e",
   "metadata": {},
   "outputs": [],
   "source": [
    "b = [1,2,3]"
   ]
  },
  {
   "cell_type": "code",
   "execution_count": null,
   "id": "73ee03c8-a790-4f95-b894-9071efd4a1e7",
   "metadata": {},
   "outputs": [],
   "source": [
    "c = [1,2,3,4]"
   ]
  },
  {
   "cell_type": "code",
   "execution_count": null,
   "id": "098b3763-d6f1-4736-9d33-47af32ed7fcd",
   "metadata": {},
   "outputs": [],
   "source": [
    "a == b"
   ]
  },
  {
   "cell_type": "code",
   "execution_count": null,
   "id": "115e6889-9dc3-438d-89cc-1f8b7040c2a2",
   "metadata": {},
   "outputs": [],
   "source": [
    "a == c"
   ]
  },
  {
   "cell_type": "code",
   "execution_count": null,
   "id": "211547bc-6af4-4202-a18b-a670a537dbde",
   "metadata": {},
   "outputs": [],
   "source": [
    "a < c"
   ]
  },
  {
   "cell_type": "code",
   "execution_count": null,
   "id": "a0e0b79f-2264-45f0-9232-d56afcb04406",
   "metadata": {},
   "outputs": [],
   "source": [
    "c >= b"
   ]
  },
  {
   "cell_type": "markdown",
   "id": "7f84249c-8064-409b-a019-92fa2be5a05e",
   "metadata": {},
   "source": [
    "Self Check 3 of 5.2 by DeeDee Walker"
   ]
  },
  {
   "cell_type": "code",
   "execution_count": null,
   "id": "f0586ba5-1ec0-4027-a329-0dcda4c8995a",
   "metadata": {},
   "outputs": [],
   "source": [
    "def cube_list(values):\n",
    "    for i in range(len(values)):\n",
    "        values[i] **= 3"
   ]
  },
  {
   "cell_type": "code",
   "execution_count": null,
   "id": "6a77f23b-e99f-43bf-bee6-45284a2f30c2",
   "metadata": {},
   "outputs": [],
   "source": [
    "numbers = [1, 2, 3, 4, 5, 6, 7, 8, 9, 10]"
   ]
  },
  {
   "cell_type": "code",
   "execution_count": null,
   "id": "3c94878c-64b7-4a43-83af-14da62a56860",
   "metadata": {},
   "outputs": [],
   "source": [
    "cube_list(numbers)"
   ]
  },
  {
   "cell_type": "code",
   "execution_count": null,
   "id": "7997a6de-52e2-4ece-a7f1-e0643f39c020",
   "metadata": {},
   "outputs": [],
   "source": [
    "numbers"
   ]
  },
  {
   "cell_type": "markdown",
   "id": "b6cf877f-cf5f-4e27-9eeb-318a5afa2dd5",
   "metadata": {},
   "source": [
    "Self Check 4  of 5.2 by DeeDee Walker"
   ]
  },
  {
   "cell_type": "code",
   "execution_count": null,
   "id": "e7223b11-2105-4168-9546-1d0920e5fb0b",
   "metadata": {},
   "outputs": [],
   "source": [
    "characters = []"
   ]
  },
  {
   "cell_type": "code",
   "execution_count": null,
   "id": "a155cfc6-c780-4415-99b9-b0af3df7e711",
   "metadata": {},
   "outputs": [],
   "source": [
    "characters += 'Birthday'"
   ]
  },
  {
   "cell_type": "code",
   "execution_count": null,
   "id": "85ea9aa9-e7dd-45b5-8a60-2cf1e10fb941",
   "metadata": {},
   "outputs": [],
   "source": [
    "characters"
   ]
  }
 ],
 "metadata": {
  "kernelspec": {
   "display_name": "Python 3 (ipykernel)",
   "language": "python",
   "name": "python3"
  },
  "language_info": {
   "codemirror_mode": {
    "name": "ipython",
    "version": 3
   },
   "file_extension": ".py",
   "mimetype": "text/x-python",
   "name": "python",
   "nbconvert_exporter": "python",
   "pygments_lexer": "ipython3",
   "version": "3.9.12"
  }
 },
 "nbformat": 4,
 "nbformat_minor": 5
}

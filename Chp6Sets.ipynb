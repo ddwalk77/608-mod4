{
 "cells": [
  {
   "cell_type": "markdown",
   "id": "be3a1aec-1e5b-4711-9a15-23d6234bb86e",
   "metadata": {},
   "source": [
    "### Chapter 6 - Sets - DeeDee Walker"
   ]
  },
  {
   "cell_type": "markdown",
   "id": "0da4a865-e9ad-45bb-a155-0329286ca51c",
   "metadata": {},
   "source": [
    "Set - unordered collection of unique values"
   ]
  },
  {
   "cell_type": "markdown",
   "id": "627d0d37-9f86-48d5-b3b3-8a20738384b5",
   "metadata": {},
   "source": [
    "Sets may only contain immutable objects, like strings, ints, floats, and tuples that contain only immutable elements"
   ]
  },
  {
   "cell_type": "markdown",
   "id": "e8702224-af30-4663-a4b3-28cb024beb1e",
   "metadata": {},
   "source": [
    "Sets do not support indexing and slicing"
   ]
  },
  {
   "cell_type": "code",
   "execution_count": 1,
   "id": "b91892cd-e1e1-4588-bc6b-cebc6dca73aa",
   "metadata": {},
   "outputs": [],
   "source": [
    "# Creating a Set with Curly Braces\n",
    "colors = {'red', 'orange', 'yellow', 'green', 'red', 'blue'}"
   ]
  },
  {
   "cell_type": "code",
   "execution_count": 2,
   "id": "2698251f-2f77-4236-a86d-b002d55752c9",
   "metadata": {},
   "outputs": [
    {
     "data": {
      "text/plain": [
       "{'blue', 'green', 'orange', 'red', 'yellow'}"
      ]
     },
     "execution_count": 2,
     "metadata": {},
     "output_type": "execute_result"
    }
   ],
   "source": [
    "colors #note the 2nd red is ignored - duplicate elimination is automatic with sets"
   ]
  },
  {
   "cell_type": "code",
   "execution_count": 3,
   "id": "75ec93aa-a7b5-4dc8-9639-28f75a977870",
   "metadata": {},
   "outputs": [
    {
     "data": {
      "text/plain": [
       "5"
      ]
     },
     "execution_count": 3,
     "metadata": {},
     "output_type": "execute_result"
    }
   ],
   "source": [
    "# Determining a Set’s Length\n",
    "len(colors)"
   ]
  },
  {
   "cell_type": "code",
   "execution_count": 4,
   "id": "867e4ecb-8060-4fbf-8456-677fbb96aee8",
   "metadata": {},
   "outputs": [
    {
     "data": {
      "text/plain": [
       "True"
      ]
     },
     "execution_count": 4,
     "metadata": {},
     "output_type": "execute_result"
    }
   ],
   "source": [
    "# Checking Whether a Value Is in a Set using in and not in\n",
    "'red' in colors"
   ]
  },
  {
   "cell_type": "code",
   "execution_count": 5,
   "id": "db500245-232d-41c3-84a5-27f792738526",
   "metadata": {},
   "outputs": [
    {
     "data": {
      "text/plain": [
       "False"
      ]
     },
     "execution_count": 5,
     "metadata": {},
     "output_type": "execute_result"
    }
   ],
   "source": [
    "'purple' in colors"
   ]
  },
  {
   "cell_type": "code",
   "execution_count": 6,
   "id": "95f0bff8-7c7b-48aa-88ac-969337639b04",
   "metadata": {},
   "outputs": [
    {
     "data": {
      "text/plain": [
       "True"
      ]
     },
     "execution_count": 6,
     "metadata": {},
     "output_type": "execute_result"
    }
   ],
   "source": [
    "'purple' not in colors"
   ]
  },
  {
   "cell_type": "code",
   "execution_count": 7,
   "id": "6dc94b24-12fa-4783-a26f-f3eac282fb8c",
   "metadata": {},
   "outputs": [
    {
     "name": "stdout",
     "output_type": "stream",
     "text": [
      "ORANGE BLUE GREEN RED YELLOW "
     ]
    }
   ],
   "source": [
    "# Iterating Through a Set\n",
    "for color in colors:\n",
    "    print(color.upper(), end=' ')"
   ]
  },
  {
   "cell_type": "code",
   "execution_count": 8,
   "id": "27eb4865-c40d-4d0b-942b-79fb29a8988c",
   "metadata": {},
   "outputs": [],
   "source": [
    "# Creating a Set with the Built-In set Function\n",
    "numbers = list(range(10)) + list(range(5))"
   ]
  },
  {
   "cell_type": "code",
   "execution_count": 9,
   "id": "5360c2b0-f9a6-40ae-88dd-ecda094c4910",
   "metadata": {},
   "outputs": [
    {
     "data": {
      "text/plain": [
       "[0, 1, 2, 3, 4, 5, 6, 7, 8, 9, 0, 1, 2, 3, 4]"
      ]
     },
     "execution_count": 9,
     "metadata": {},
     "output_type": "execute_result"
    }
   ],
   "source": [
    "numbers"
   ]
  },
  {
   "cell_type": "code",
   "execution_count": 10,
   "id": "05e56acd-a6b7-48a2-9b50-6820deb82b61",
   "metadata": {},
   "outputs": [
    {
     "data": {
      "text/plain": [
       "{0, 1, 2, 3, 4, 5, 6, 7, 8, 9}"
      ]
     },
     "execution_count": 10,
     "metadata": {},
     "output_type": "execute_result"
    }
   ],
   "source": [
    "set(numbers) #When using the built in set function we use () instead of {}"
   ]
  },
  {
   "cell_type": "code",
   "execution_count": 11,
   "id": "3741778e-ba0a-475b-9cac-530cf9cdfac8",
   "metadata": {},
   "outputs": [
    {
     "data": {
      "text/plain": [
       "set()"
      ]
     },
     "execution_count": 11,
     "metadata": {},
     "output_type": "execute_result"
    }
   ],
   "source": [
    "set()"
   ]
  },
  {
   "cell_type": "markdown",
   "id": "d76b8d4f-1cf1-4b34-819a-2cf1f88eec19",
   "metadata": {},
   "source": [
    "Sets are mutable, you can add & remove elements, but the set elements must be immutable"
   ]
  },
  {
   "cell_type": "markdown",
   "id": "937dc68d-1985-41fb-9fe2-fd661c80d90f",
   "metadata": {},
   "source": [
    "frozenset is an immutable set. A set can contain frozensets as elements. "
   ]
  },
  {
   "cell_type": "markdown",
   "id": "b0c10477-4103-465e-b468-e08f50998bd1",
   "metadata": {},
   "source": [
    "Self Check 3 of 6.3 DeeDee Walker"
   ]
  },
  {
   "cell_type": "code",
   "execution_count": 12,
   "id": "1d1851f0-49b7-44f3-9c6e-544cd3769b12",
   "metadata": {},
   "outputs": [
    {
     "name": "stdout",
     "output_type": "stream",
     "text": [
      "be  is  not  or  question  that  the  to  "
     ]
    }
   ],
   "source": [
    "text = 'to be or not to be that is the question' #assign text to variable text\n",
    "\n",
    "unique_words = set(text.split()) #split in to tokens with string method\n",
    "\n",
    "for word in sorted(unique_words): #create a set from results and display in sorted order\n",
    "    print(word, end='  ')"
   ]
  },
  {
   "cell_type": "markdown",
   "id": "96517c08-6a76-465a-91fe-36a80a52d0ec",
   "metadata": {},
   "source": [
    "Comparing Sets"
   ]
  },
  {
   "cell_type": "code",
   "execution_count": 13,
   "id": "10c6e2b9-7e27-465b-a46e-6fa563470fe7",
   "metadata": {},
   "outputs": [
    {
     "data": {
      "text/plain": [
       "True"
      ]
     },
     "execution_count": 13,
     "metadata": {},
     "output_type": "execute_result"
    }
   ],
   "source": [
    "{1, 3, 5} == {3, 5, 1}"
   ]
  },
  {
   "cell_type": "code",
   "execution_count": 14,
   "id": "7d4135c8-40d5-407c-af56-206195f1cbe2",
   "metadata": {},
   "outputs": [
    {
     "data": {
      "text/plain": [
       "False"
      ]
     },
     "execution_count": 14,
     "metadata": {},
     "output_type": "execute_result"
    }
   ],
   "source": [
    "{1, 3, 5} != {3, 5, 1}"
   ]
  },
  {
   "cell_type": "code",
   "execution_count": 15,
   "id": "30948eb3-a9ad-49f5-b32b-1cde41d78bda",
   "metadata": {},
   "outputs": [
    {
     "data": {
      "text/plain": [
       "False"
      ]
     },
     "execution_count": 15,
     "metadata": {},
     "output_type": "execute_result"
    }
   ],
   "source": [
    "{1, 3, 5} < {3, 5, 1}"
   ]
  },
  {
   "cell_type": "code",
   "execution_count": 16,
   "id": "6b49910c-09b4-4bd7-b70d-64cf4406498d",
   "metadata": {},
   "outputs": [
    {
     "data": {
      "text/plain": [
       "True"
      ]
     },
     "execution_count": 16,
     "metadata": {},
     "output_type": "execute_result"
    }
   ],
   "source": [
    "{1, 3, 5} < {7, 3, 5, 1}"
   ]
  },
  {
   "cell_type": "code",
   "execution_count": 17,
   "id": "26df765c-7f1e-4b55-8abc-e92d4185d9e7",
   "metadata": {},
   "outputs": [
    {
     "data": {
      "text/plain": [
       "True"
      ]
     },
     "execution_count": 17,
     "metadata": {},
     "output_type": "execute_result"
    }
   ],
   "source": [
    "{1, 3, 5} <= {3, 5, 1}"
   ]
  },
  {
   "cell_type": "code",
   "execution_count": 18,
   "id": "df3d0726-652a-4f3a-9484-73e3dc14627b",
   "metadata": {},
   "outputs": [
    {
     "data": {
      "text/plain": [
       "True"
      ]
     },
     "execution_count": 18,
     "metadata": {},
     "output_type": "execute_result"
    }
   ],
   "source": [
    "{1, 3} <= {3, 5, 1}"
   ]
  },
  {
   "cell_type": "code",
   "execution_count": 19,
   "id": "0840c257-0224-4476-b07e-83092627133f",
   "metadata": {},
   "outputs": [
    {
     "data": {
      "text/plain": [
       "True"
      ]
     },
     "execution_count": 19,
     "metadata": {},
     "output_type": "execute_result"
    }
   ],
   "source": [
    "{1, 3, 5}.issubset({3, 5, 1}) #issubset same as < or >"
   ]
  },
  {
   "cell_type": "code",
   "execution_count": 20,
   "id": "f7542725-e8f7-40c3-936d-cba68517316c",
   "metadata": {},
   "outputs": [
    {
     "data": {
      "text/plain": [
       "False"
      ]
     },
     "execution_count": 20,
     "metadata": {},
     "output_type": "execute_result"
    }
   ],
   "source": [
    "{1, 2}.issubset({3, 5, 1})"
   ]
  },
  {
   "cell_type": "code",
   "execution_count": 21,
   "id": "0ea8c499-ea26-40be-a2ee-a41cb4933f68",
   "metadata": {},
   "outputs": [
    {
     "data": {
      "text/plain": [
       "False"
      ]
     },
     "execution_count": 21,
     "metadata": {},
     "output_type": "execute_result"
    }
   ],
   "source": [
    "{1, 3, 5} > {3, 5, 1}"
   ]
  },
  {
   "cell_type": "code",
   "execution_count": 22,
   "id": "f47b840a-51d5-440b-aa3f-b8a52115c1d6",
   "metadata": {},
   "outputs": [
    {
     "data": {
      "text/plain": [
       "True"
      ]
     },
     "execution_count": 22,
     "metadata": {},
     "output_type": "execute_result"
    }
   ],
   "source": [
    "{1, 3, 5, 7} > {3, 5, 1}"
   ]
  },
  {
   "cell_type": "code",
   "execution_count": 23,
   "id": "1fbe47be-3b9f-4134-ba3c-95a971f4379f",
   "metadata": {},
   "outputs": [
    {
     "data": {
      "text/plain": [
       "True"
      ]
     },
     "execution_count": 23,
     "metadata": {},
     "output_type": "execute_result"
    }
   ],
   "source": [
    "{1, 3, 5} >= {3, 5, 1}"
   ]
  },
  {
   "cell_type": "code",
   "execution_count": 24,
   "id": "3a87b4c7-475a-42bd-b766-e544a6c8846d",
   "metadata": {},
   "outputs": [
    {
     "data": {
      "text/plain": [
       "True"
      ]
     },
     "execution_count": 24,
     "metadata": {},
     "output_type": "execute_result"
    }
   ],
   "source": [
    "{1, 3, 5} >= {3, 1}"
   ]
  },
  {
   "cell_type": "code",
   "execution_count": 25,
   "id": "1695ad47-9fc7-4439-ab91-e17b9c40c58f",
   "metadata": {},
   "outputs": [
    {
     "data": {
      "text/plain": [
       "False"
      ]
     },
     "execution_count": 25,
     "metadata": {},
     "output_type": "execute_result"
    }
   ],
   "source": [
    "{1, 3} >= {3, 1, 7}"
   ]
  },
  {
   "cell_type": "code",
   "execution_count": 26,
   "id": "4d5d1cf6-fc60-4980-b2b7-811a9359d2e0",
   "metadata": {},
   "outputs": [
    {
     "data": {
      "text/plain": [
       "True"
      ]
     },
     "execution_count": 26,
     "metadata": {},
     "output_type": "execute_result"
    }
   ],
   "source": [
    "{1, 3, 5}.issuperset({3, 5, 1})"
   ]
  },
  {
   "cell_type": "code",
   "execution_count": 27,
   "id": "1983c601-44b9-4f8d-b115-24b7e8a3e3c0",
   "metadata": {},
   "outputs": [
    {
     "data": {
      "text/plain": [
       "False"
      ]
     },
     "execution_count": 27,
     "metadata": {},
     "output_type": "execute_result"
    }
   ],
   "source": [
    "{1, 3, 5}.issuperset({3, 2})"
   ]
  },
  {
   "cell_type": "markdown",
   "id": "dfc0c095-5b90-4c3b-a766-d4cc0c0d4fde",
   "metadata": {},
   "source": [
    "issubset or issuperset can be any iterable. When either receives a non-set iterable argument, it first converts the iterable to a set, then performs the operation"
   ]
  },
  {
   "cell_type": "markdown",
   "id": "faa592e8-62c7-43aa-ba61-d6b3e9839672",
   "metadata": {},
   "source": [
    "Self Check 3 of 6.3.1 - DeeDee Walker"
   ]
  },
  {
   "cell_type": "code",
   "execution_count": 28,
   "id": "5ecc97a2-02f4-4344-a6f8-042886a0b099",
   "metadata": {},
   "outputs": [
    {
     "data": {
      "text/plain": [
       "True"
      ]
     },
     "execution_count": 28,
     "metadata": {},
     "output_type": "execute_result"
    }
   ],
   "source": [
    "set('abc def ghi jkl mno').issuperset('hi mom')"
   ]
  },
  {
   "cell_type": "markdown",
   "id": "8c8b4804-8919-4f5d-b5c1-37071687867f",
   "metadata": {},
   "source": [
    "6.3.2 Mathematical Set Operations"
   ]
  },
  {
   "cell_type": "code",
   "execution_count": 3,
   "id": "a3cbac1f-0f58-4a00-bb5a-25c735b667bc",
   "metadata": {},
   "outputs": [
    {
     "data": {
      "text/plain": [
       "{1, 2, 3, 4, 5}"
      ]
     },
     "execution_count": 3,
     "metadata": {},
     "output_type": "execute_result"
    }
   ],
   "source": [
    "# Union - \"combines\" the two sets in to one set\n",
    "{1, 3, 5} | {2, 3, 4}"
   ]
  },
  {
   "cell_type": "code",
   "execution_count": 4,
   "id": "75452b45-5806-4d02-8ee6-89cc83952e76",
   "metadata": {},
   "outputs": [
    {
     "data": {
      "text/plain": [
       "{1, 3, 5, 20, 40}"
      ]
     },
     "execution_count": 4,
     "metadata": {},
     "output_type": "execute_result"
    }
   ],
   "source": [
    "{1, 3, 5}.union([20, 20, 3, 40, 40])"
   ]
  },
  {
   "cell_type": "code",
   "execution_count": 5,
   "id": "9d4da346-258f-4789-80ed-3f00323c736f",
   "metadata": {},
   "outputs": [
    {
     "data": {
      "text/plain": [
       "{3}"
      ]
     },
     "execution_count": 5,
     "metadata": {},
     "output_type": "execute_result"
    }
   ],
   "source": [
    "# Intersection - returns elements that the two sets have in common\n",
    "{1, 3, 5} & {2, 3, 4}"
   ]
  },
  {
   "cell_type": "code",
   "execution_count": 6,
   "id": "49dad89c-b83a-4d1a-b414-52d7933ebc31",
   "metadata": {},
   "outputs": [
    {
     "data": {
      "text/plain": [
       "{1, 3}"
      ]
     },
     "execution_count": 6,
     "metadata": {},
     "output_type": "execute_result"
    }
   ],
   "source": [
    "{1, 3, 5}.intersection([1, 2, 2, 3, 3, 4, 4])"
   ]
  },
  {
   "cell_type": "code",
   "execution_count": 7,
   "id": "80dfa6d5-3ec4-47ab-86af-17ce24965748",
   "metadata": {},
   "outputs": [
    {
     "data": {
      "text/plain": [
       "{1, 5}"
      ]
     },
     "execution_count": 7,
     "metadata": {},
     "output_type": "execute_result"
    }
   ],
   "source": [
    "# Difference - elements in the left not in the right\n",
    "{1, 3, 5} - {2, 3, 4}"
   ]
  },
  {
   "cell_type": "code",
   "execution_count": 8,
   "id": "fdba1d05-39ec-4292-afbc-8fc44c831dae",
   "metadata": {},
   "outputs": [
    {
     "data": {
      "text/plain": [
       "{1, 5, 7}"
      ]
     },
     "execution_count": 8,
     "metadata": {},
     "output_type": "execute_result"
    }
   ],
   "source": [
    "{1, 3, 5, 7}.difference([2, 2, 3, 3, 4, 4])"
   ]
  },
  {
   "cell_type": "code",
   "execution_count": 9,
   "id": "9b1c41b3-9ef4-4d28-8534-3d41d217b92b",
   "metadata": {},
   "outputs": [
    {
     "data": {
      "text/plain": [
       "{1, 2, 4, 5}"
      ]
     },
     "execution_count": 9,
     "metadata": {},
     "output_type": "execute_result"
    }
   ],
   "source": [
    "# Symmetric Difference - elements not in common for both sets\n",
    "{1, 3, 5} ^ {2, 3, 4}"
   ]
  },
  {
   "cell_type": "code",
   "execution_count": 10,
   "id": "8387a3fc-8e68-42f2-95c7-fd248d098747",
   "metadata": {},
   "outputs": [
    {
     "data": {
      "text/plain": [
       "{1, 2, 4, 5, 7}"
      ]
     },
     "execution_count": 10,
     "metadata": {},
     "output_type": "execute_result"
    }
   ],
   "source": [
    "{1, 3, 5, 7}.symmetric_difference([2, 2, 3, 3, 4, 4])"
   ]
  },
  {
   "cell_type": "code",
   "execution_count": 11,
   "id": "84f4cfb3-3373-41a0-8bab-49dff97b597f",
   "metadata": {},
   "outputs": [
    {
     "data": {
      "text/plain": [
       "True"
      ]
     },
     "execution_count": 11,
     "metadata": {},
     "output_type": "execute_result"
    }
   ],
   "source": [
    "# Disjoint - Two sets are disjoint if they do not have any common elements\n",
    "{1, 3, 5}.isdisjoint({2, 4, 6})"
   ]
  },
  {
   "cell_type": "code",
   "execution_count": 12,
   "id": "cc07535f-492d-45f0-863a-e1c5f58ed713",
   "metadata": {},
   "outputs": [
    {
     "data": {
      "text/plain": [
       "False"
      ]
     },
     "execution_count": 12,
     "metadata": {},
     "output_type": "execute_result"
    }
   ],
   "source": [
    "{1, 3, 5}.isdisjoint({4, 6, 1})"
   ]
  },
  {
   "cell_type": "markdown",
   "id": "3f99aaf2-b925-493c-98e3-0dadac03c0da",
   "metadata": {},
   "source": [
    "Section 6.3.2 DeeDee Walker"
   ]
  },
  {
   "cell_type": "code",
   "execution_count": 13,
   "id": "f14f2a4b-39f9-4519-9fe0-275d6197eca3",
   "metadata": {},
   "outputs": [
    {
     "data": {
      "text/plain": [
       "{30}"
      ]
     },
     "execution_count": 13,
     "metadata": {},
     "output_type": "execute_result"
    }
   ],
   "source": [
    "{10, 20, 30} - {5, 10, 15, 20}"
   ]
  },
  {
   "cell_type": "code",
   "execution_count": 14,
   "id": "4520a355-8f5d-469b-aa82-0892b51a5257",
   "metadata": {},
   "outputs": [
    {
     "data": {
      "text/plain": [
       "{5, 15, 30}"
      ]
     },
     "execution_count": 14,
     "metadata": {},
     "output_type": "execute_result"
    }
   ],
   "source": [
    "{10, 20, 30} ^ {5, 10, 15, 20}"
   ]
  },
  {
   "cell_type": "code",
   "execution_count": 15,
   "id": "6ea612ce-b61f-4eb0-abb8-e5eead0ee120",
   "metadata": {},
   "outputs": [
    {
     "data": {
      "text/plain": [
       "{5, 10, 15, 20, 30}"
      ]
     },
     "execution_count": 15,
     "metadata": {},
     "output_type": "execute_result"
    }
   ],
   "source": [
    "{10, 20, 30} | {5, 10, 15, 20}"
   ]
  },
  {
   "cell_type": "code",
   "execution_count": 16,
   "id": "9a0a9e40-7bd5-4850-9db6-1bb2ce208b04",
   "metadata": {},
   "outputs": [
    {
     "data": {
      "text/plain": [
       "{10, 20}"
      ]
     },
     "execution_count": 16,
     "metadata": {},
     "output_type": "execute_result"
    }
   ],
   "source": [
    "{10, 20, 30} & {5, 10, 15, 20}"
   ]
  },
  {
   "cell_type": "markdown",
   "id": "023fdd8e-cf67-4246-aaa4-512bd63c2788",
   "metadata": {},
   "source": [
    "6.3.3 Mutable Set Operators and Methods - DeeDee Walker"
   ]
  },
  {
   "cell_type": "code",
   "execution_count": 20,
   "id": "813ccf4d-26ba-45ec-ae1d-91a4d20327ab",
   "metadata": {},
   "outputs": [],
   "source": [
    "numbers = {1, 3, 5}"
   ]
  },
  {
   "cell_type": "code",
   "execution_count": 21,
   "id": "5e0502de-440b-4364-b87b-0140f8404fed",
   "metadata": {},
   "outputs": [
    {
     "data": {
      "text/plain": [
       "{1, 3, 5}"
      ]
     },
     "execution_count": 21,
     "metadata": {},
     "output_type": "execute_result"
    }
   ],
   "source": [
    "numbers"
   ]
  },
  {
   "cell_type": "code",
   "execution_count": 24,
   "id": "001a5a74-00cb-49ab-a068-00352db2bbcd",
   "metadata": {},
   "outputs": [],
   "source": [
    "numbers |= {2, 3, 4} #Like operator |,union augmented assignment |= performs a set union operation, but |= modifies its left operand"
   ]
  },
  {
   "cell_type": "code",
   "execution_count": 25,
   "id": "49e59a26-d1a6-4923-8dd0-35baad5166db",
   "metadata": {},
   "outputs": [
    {
     "data": {
      "text/plain": [
       "{1, 2, 3, 4, 5}"
      ]
     },
     "execution_count": 25,
     "metadata": {},
     "output_type": "execute_result"
    }
   ],
   "source": [
    "numbers"
   ]
  },
  {
   "cell_type": "code",
   "execution_count": 26,
   "id": "d3857144-a556-4dcb-98a1-9a87ea2c9c8c",
   "metadata": {},
   "outputs": [],
   "source": [
    "numbers.update(range(10)) #The set type's update method performs a union operation modifying the set on which it's called - the argument can be any iterable"
   ]
  },
  {
   "cell_type": "code",
   "execution_count": 27,
   "id": "222509e2-6a88-4bd5-bbfb-4a74fcf25779",
   "metadata": {},
   "outputs": [
    {
     "data": {
      "text/plain": [
       "{0, 1, 2, 3, 4, 5, 6, 7, 8, 9}"
      ]
     },
     "execution_count": 27,
     "metadata": {},
     "output_type": "execute_result"
    }
   ],
   "source": [
    "numbers"
   ]
  },
  {
   "cell_type": "markdown",
   "id": "c1f0085a-56d8-4e0f-8e06-90e6c40ab855",
   "metadata": {},
   "source": [
    "Other mutable set methods are:\n",
    "- intersection augmented assignment &= : intersection_update\n",
    "- diffrence augmented assignment -= : diffrence_update\n",
    "- symmetric aiffrence augmented assignment ^ : symmetric_difference_update"
   ]
  },
  {
   "cell_type": "code",
   "execution_count": 28,
   "id": "db16c867-9493-4638-8988-db789e4eec47",
   "metadata": {},
   "outputs": [],
   "source": [
    "# Methods for Adding and Removing Elements\n",
    "numbers.add(17) # set method add inserts its argument if the argument is not already in the set"
   ]
  },
  {
   "cell_type": "code",
   "execution_count": 29,
   "id": "92fda8fd-27d9-4b4a-a7b7-da113685d243",
   "metadata": {},
   "outputs": [],
   "source": [
    "numbers.add(3)"
   ]
  },
  {
   "cell_type": "code",
   "execution_count": 30,
   "id": "6adeee41-e2af-407a-a2a4-978ba30bd686",
   "metadata": {},
   "outputs": [
    {
     "data": {
      "text/plain": [
       "{0, 1, 2, 3, 4, 5, 6, 7, 8, 9, 17}"
      ]
     },
     "execution_count": 30,
     "metadata": {},
     "output_type": "execute_result"
    }
   ],
   "source": [
    "numbers"
   ]
  },
  {
   "cell_type": "code",
   "execution_count": 31,
   "id": "ec87c5ed-6b6c-4762-8edf-df676edca555",
   "metadata": {},
   "outputs": [],
   "source": [
    "numbers.remove(3) #set method remove removes its argument form the set - keyerror occurs if the value is not in the set"
   ]
  },
  {
   "cell_type": "code",
   "execution_count": 32,
   "id": "ca2b2b6a-dcf4-414d-9c0a-92c5f0179989",
   "metadata": {},
   "outputs": [
    {
     "data": {
      "text/plain": [
       "{0, 1, 2, 4, 5, 6, 7, 8, 9, 17}"
      ]
     },
     "execution_count": 32,
     "metadata": {},
     "output_type": "execute_result"
    }
   ],
   "source": [
    "numbers"
   ]
  },
  {
   "cell_type": "markdown",
   "id": "b78488c1-1d7e-4af7-a46c-0b0acec277a2",
   "metadata": {},
   "source": [
    "method discard also removes its argument from the set but does not cause an exception if the value is not in the set"
   ]
  },
  {
   "cell_type": "code",
   "execution_count": 35,
   "id": "1e2342ad-255c-42a4-9cec-ef7761ba6315",
   "metadata": {},
   "outputs": [
    {
     "data": {
      "text/plain": [
       "1"
      ]
     },
     "execution_count": 35,
     "metadata": {},
     "output_type": "execute_result"
    }
   ],
   "source": [
    "numbers.pop() # you can remove an arbitrary set element and return it with pop, but sets are unordered so you don't know which element will be returned -key error returns if the set is empty when you call pop"
   ]
  },
  {
   "cell_type": "code",
   "execution_count": 34,
   "id": "5d7e845e-17d5-46a1-9dab-5bf6028d223b",
   "metadata": {},
   "outputs": [
    {
     "data": {
      "text/plain": [
       "{1, 2, 4, 5, 6, 7, 8, 9, 17}"
      ]
     },
     "execution_count": 34,
     "metadata": {},
     "output_type": "execute_result"
    }
   ],
   "source": [
    "numbers"
   ]
  },
  {
   "cell_type": "code",
   "execution_count": 36,
   "id": "d9bd1f36-5f95-4a77-a838-f919bee3a300",
   "metadata": {},
   "outputs": [],
   "source": [
    "numbers.clear() # empties the set"
   ]
  },
  {
   "cell_type": "code",
   "execution_count": 37,
   "id": "172d5dcb-4df6-49b6-8698-97a20e28323e",
   "metadata": {},
   "outputs": [
    {
     "data": {
      "text/plain": [
       "set()"
      ]
     },
     "execution_count": 37,
     "metadata": {},
     "output_type": "execute_result"
    }
   ],
   "source": [
    "numbers"
   ]
  },
  {
   "cell_type": "markdown",
   "id": "6e7bdc6f-d1a3-4e3b-a43c-21218d5d7785",
   "metadata": {},
   "source": [
    "6.3.4 Set Comprehensions - DeeDee Walker"
   ]
  },
  {
   "cell_type": "code",
   "execution_count": 38,
   "id": "535ce7d1-dca5-4d50-bdfd-ad0c33f85bbf",
   "metadata": {},
   "outputs": [],
   "source": [
    "numbers = [1, 2, 2, 3, 4, 5, 6, 6, 7, 8, 9, 10, 10]"
   ]
  },
  {
   "cell_type": "code",
   "execution_count": 39,
   "id": "74814376-b503-4f70-b5e2-4e3d85b9764b",
   "metadata": {},
   "outputs": [],
   "source": [
    "evens = {item for item in numbers if item % 2 == 0}"
   ]
  },
  {
   "cell_type": "code",
   "execution_count": 40,
   "id": "2831fe70-105f-49b3-a1e1-50ecd6632f74",
   "metadata": {},
   "outputs": [
    {
     "data": {
      "text/plain": [
       "{2, 4, 6, 8, 10}"
      ]
     },
     "execution_count": 40,
     "metadata": {},
     "output_type": "execute_result"
    }
   ],
   "source": [
    "evens"
   ]
  }
 ],
 "metadata": {
  "kernelspec": {
   "display_name": "Python 3 (ipykernel)",
   "language": "python",
   "name": "python3"
  },
  "language_info": {
   "codemirror_mode": {
    "name": "ipython",
    "version": 3
   },
   "file_extension": ".py",
   "mimetype": "text/x-python",
   "name": "python",
   "nbconvert_exporter": "python",
   "pygments_lexer": "ipython3",
   "version": "3.9.12"
  }
 },
 "nbformat": 4,
 "nbformat_minor": 5
}
